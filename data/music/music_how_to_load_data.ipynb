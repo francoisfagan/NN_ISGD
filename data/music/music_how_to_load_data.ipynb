{
 "cells": [
  {
   "cell_type": "markdown",
   "metadata": {},
   "source": [
    "# Code for loading music datasets\n",
    "Using preprocessed data downloaded from: http://www-etud.iro.umontreal.ca/~boulanni/icml2012"
   ]
  },
  {
   "cell_type": "code",
   "execution_count": 23,
   "metadata": {
    "collapsed": true
   },
   "outputs": [],
   "source": [
    "import pickle\n",
    "import numpy as np\n",
    "import torch"
   ]
  },
  {
   "cell_type": "code",
   "execution_count": 2,
   "metadata": {
    "collapsed": true
   },
   "outputs": [],
   "source": [
    "path = './'\n",
    "dataset_name = 'Piano-midi.de'\n",
    "dataset_path = path + dataset_name"
   ]
  },
  {
   "cell_type": "code",
   "execution_count": 3,
   "metadata": {
    "collapsed": true
   },
   "outputs": [],
   "source": [
    "dataset = pickle.load(open(dataset_path + '.pickle', 'rb'))"
   ]
  },
  {
   "cell_type": "code",
   "execution_count": 4,
   "metadata": {},
   "outputs": [
    {
     "name": "stdout",
     "output_type": "stream",
     "text": [
      "Dataset keys:  dict_keys(['test', 'train', 'valid'])\n",
      "Test dataset length:  25\n",
      "Example of datapoint = musical piece:  [[36, 48], [36, 48, 60, 64, 67], [31, 43, 60, 64, 67], [36, 48], [36, 48], [36, 48, 60, 64, 67], [31, 43, 60, 64, 67], [48, 55, 60, 64], [48, 55, 60, 64], [55, 65], [43, 64], [48, 55, 60, 64, 67], [48, 55, 60, 64, 67], [55, 60, 64, 67], [43, 64, 72], [48, 64, 76], [48, 64, 76], [55, 64, 72], [49, 63, 69], [50, 59, 65], [50, 59, 65], [55, 59, 65], [43, 62, 65], [47, 65, 69], [47, 65, 69], [55, 71, 74], [43, 69, 72], [50, 71, 74], [50, 67, 71], [55, 67, 71], [43, 71, 74], [47, 69, 72], [47, 69, 72], [55, 67, 71], [43, 62, 65], [48, 63, 69], [48, 64, 67], [55, 64, 67], [55, 60, 72], [45, 52, 60, 72], [45, 52, 60, 69], [45, 51, 60, 65, 71], [45, 51, 60, 65, 69], [45, 60, 72], [45, 60, 64], [60, 64], [52, 64], [45, 60, 65], [45, 60, 72], [60, 71], [53, 69], [45, 60, 64, 72], [52, 60, 64, 72], [57, 60, 64, 72], [60, 66, 76], [59, 67, 76], [56, 65, 71], [57, 66, 72], [60, 66, 69], [59, 62, 67, 74], [59, 62, 67, 71], [52, 59, 64, 67], [52, 59, 64, 71], [45, 51, 60, 67, 74], [45, 51, 60, 67, 71], [38, 60, 66, 71], [50, 60, 66, 69], [43, 59, 67], [55, 59, 67], [57], [55], [48, 55, 60, 64], [48, 55, 60, 64], [55, 65], [43, 64], [48, 55, 60, 64, 67], [48, 55, 60, 64, 67], [55, 60, 64, 67], [43, 64, 72], [48, 76], [48, 76], [55, 72], [49, 63, 69], [50, 59, 65], [50, 59, 65], [57, 59, 65], [53, 62, 65], [47, 65, 69], [47, 65, 69], [65, 71, 74], [57, 62, 65, 72], [40, 62, 64, 68, 72], [40, 62, 64, 68, 71], [52], [62, 64, 68], [56, 64, 71], [56, 64, 71], [52, 68, 76], [52, 68, 74], [45, 63, 69, 71], [45, 64, 69, 72], [45, 60], [45, 52, 72], [45, 65, 71], [45, 65, 76], [45, 59, 65, 74], [45, 53, 65, 69], [45, 64, 69, 72], [45, 52, 64, 69, 72], [45, 53, 64, 69, 72], [45, 52, 64, 69, 72], [45, 65, 71], [45, 65, 76], [45, 59, 65, 74], [45, 53, 65, 69], [45, 64, 69, 72], [45, 52, 64, 69, 72], [45, 53, 64, 69, 72], [45, 52, 64, 69, 72], [42, 60, 69], [42, 60, 72], [42, 48, 60, 69], [42, 54, 60, 64], [35, 59, 64, 68], [47, 59, 64, 68], [49, 59, 64, 68], [47, 59, 64, 68], [47, 57, 63, 66], [47, 61, 63, 69], [47, 59, 68], [47, 57, 66], [40, 59, 64, 71], [40, 59, 64, 71], [40, 47, 59, 64, 71], [40, 59, 64, 68], [40, 63, 69], [40, 63, 75], [40, 57, 63, 75], [52, 63, 71], [40, 59, 68], [40, 63, 68], [40, 56, 61, 68], [47, 64, 68], [40, 64, 69], [40, 61, 69], [40, 54, 63, 69], [47, 59, 69], [40, 64, 68], [40, 64, 70], [40, 56, 64, 71, 75], [52, 64, 71], [40, 63, 69], [40, 63, 75], [40, 57, 63, 75], [52, 63, 71], [40, 59, 64, 68], [40, 59, 64, 68], [48, 58, 60, 64, 67], [48, 58, 60, 64, 69], [53, 58, 60, 67], [53, 57, 60, 72], [47, 57, 59, 63], [47, 57, 59, 71], [52, 56, 59, 64], [52, 56, 59, 64], [45, 55, 58, 61, 64], [45, 55, 58, 61, 65], [50, 55, 57, 64], [50, 53, 57, 69], [43, 53, 59, 62], [43, 53, 59, 63], [36, 55, 60, 64], [36, 55, 60, 64], [55, 65], [43, 64], [36, 55, 60, 64, 67], [36, 55, 60, 64, 67], [55, 60, 64, 67], [43, 64, 72], [48, 64, 76], [48, 64, 76], [55, 64, 72], [49, 63, 69], [50, 59, 65], [50, 59, 65], [55, 59, 65], [43, 62, 65], [47, 65, 69], [47, 65, 69], [55, 71, 74], [43, 69, 72], [50, 71, 74], [50, 67, 71], [55, 67, 71], [43, 71, 74], [47, 69, 72], [47, 69, 72], [55, 67, 71], [43, 62, 65], [48, 63, 69], [48, 64, 67], [55, 64, 67], [52, 60, 72], [44, 62, 72], [44, 67, 72], [60, 68, 72], [51, 74], [39, 67, 77], [39, 67, 70], [46, 67], [55, 63], [41, 59, 68], [41, 64, 68], [56, 65, 68], [48, 71], [36, 64, 74], [36, 63, 64], [43, 64, 67], [55, 60, 64], [45, 55, 58, 61, 64], [45, 55, 58, 61, 67], [45, 55, 58, 61, 65], [45, 55, 58, 61, 64], [50, 55, 57, 64], [50, 55, 57, 64], [50, 53, 57, 62], [], [43], [43, 55, 59, 64], [43, 55, 59, 64], [43, 53, 59, 62], [36], [36], [36, 60, 64, 67], [31, 60, 64, 67], [36], [36], [36, 60, 64, 67], [31, 60, 64, 67], [36, 43, 48, 52, 55, 60, 64], [36, 43, 48, 52, 55, 60, 64], [36, 43, 48, 52, 55, 60, 64], [36, 43, 48, 52, 55, 60, 64], [60, 67, 72, 76, 79, 84], [60, 67, 72, 76, 79, 84], [60, 67, 72, 76, 79, 84], [60, 67, 72, 76, 79, 84]]\n"
     ]
    }
   ],
   "source": [
    "print('Dataset keys: ', dataset.keys())\n",
    "print('Test dataset length: ', len(dataset['test']))\n",
    "print('Example of datapoint = musical piece: ', dataset['test'][0])"
   ]
  },
  {
   "cell_type": "code",
   "execution_count": 57,
   "metadata": {
    "collapsed": true
   },
   "outputs": [],
   "source": [
    "def chord_to_binary(chord):\n",
    "    \"\"\"According to http://www-etud.iro.umontreal.ca/~boulanni/icml2012,\n",
    "    each chord is a list of the non-zero elements in the piano-roll at this instant.\n",
    "     (in MIDI note numbers, between 21 and 108 inclusive).\n",
    "    \n",
    "    This function transforms the list into a binary vector of length 88 (= 108 - 21 + 1)\n",
    "    indicating which notes were played in the given chord\n",
    "    \"\"\"\n",
    "    indices = [note - 21 for note in chord]\n",
    "    binary_vector = torch.zeros(88)\n",
    "    binary_vector[indices] = 1.0\n",
    "    return binary_vector"
   ]
  },
  {
   "cell_type": "code",
   "execution_count": 58,
   "metadata": {},
   "outputs": [
    {
     "name": "stdout",
     "output_type": "stream",
     "text": [
      "[36, 48]\n",
      "tensor([ 0.,  0.,  0.,  0.,  0.,  0.,  0.,  0.,  0.,  0.,  0.,  0.,\n",
      "         0.,  0.,  0.,  1.,  0.,  0.,  0.,  0.,  0.,  0.,  0.,  0.,\n",
      "         0.,  0.,  0.,  1.,  0.,  0.,  0.,  0.,  0.,  0.,  0.,  0.,\n",
      "         0.,  0.,  0.,  0.,  0.,  0.,  0.,  0.,  0.,  0.,  0.,  0.,\n",
      "         0.,  0.,  0.,  0.,  0.,  0.,  0.,  0.,  0.,  0.,  0.,  0.,\n",
      "         0.,  0.,  0.,  0.,  0.,  0.,  0.,  0.,  0.,  0.,  0.,  0.,\n",
      "         0.,  0.,  0.,  0.,  0.,  0.,  0.,  0.,  0.,  0.,  0.,  0.,\n",
      "         0.,  0.,  0.,  0.])\n"
     ]
    }
   ],
   "source": [
    "chord = dataset['test'][0][0]\n",
    "print(chord)\n",
    "print(chord_to_binary(chord))"
   ]
  },
  {
   "cell_type": "code",
   "execution_count": 59,
   "metadata": {
    "collapsed": true
   },
   "outputs": [],
   "source": [
    "def piece_to_binary(piece):\n",
    "    piece_binary = torch.zeros((len(piece), 88))\n",
    "    for chord_idx in range(len(piece)):\n",
    "        piece_binary[chord_idx, :] = chord_to_binary(piece[chord_idx])\n",
    "    return piece_binary"
   ]
  },
  {
   "cell_type": "code",
   "execution_count": 65,
   "metadata": {},
   "outputs": [],
   "source": [
    "# Input is binarize piece excluding the final chord\n",
    "piece_binarized = piece_to_binary(dataset['test'][0])\n",
    "input = piece_binarized[:-1,:]\n",
    "\n",
    "# Target is binarize piece excluding the first chord\n",
    "target = piece_binarized[1:,:]"
   ]
  },
  {
   "cell_type": "code",
   "execution_count": 68,
   "metadata": {},
   "outputs": [
    {
     "data": {
      "text/plain": [
       "tensor([ 0.,  0.,  0.,  0.,  0.,  0.,  0.,  0.,  0.,  0.,  0.,  0.,\n",
       "         0.,  0.,  0.,  1.,  0.,  0.,  0.,  0.,  0.,  0.,  0.,  0.,\n",
       "         0.,  0.,  0.,  1.,  0.,  0.,  0.,  0.,  0.,  0.,  0.,  0.,\n",
       "         0.,  0.,  0.,  1.,  0.,  0.,  0.,  1.,  0.,  0.,  1.,  0.,\n",
       "         0.,  0.,  0.,  0.,  0.,  0.,  0.,  0.,  0.,  0.,  0.,  0.,\n",
       "         0.,  0.,  0.,  0.,  0.,  0.,  0.,  0.,  0.,  0.,  0.,  0.,\n",
       "         0.,  0.,  0.,  0.,  0.,  0.,  0.,  0.,  0.,  0.,  0.,  0.,\n",
       "         0.,  0.,  0.,  0.])"
      ]
     },
     "execution_count": 68,
     "metadata": {},
     "output_type": "execute_result"
    }
   ],
   "source": [
    "target[0,:]"
   ]
  },
  {
   "cell_type": "code",
   "execution_count": 55,
   "metadata": {},
   "outputs": [],
   "source": [
    "def log_loss_chord(chord, predicted_chord):\n",
    "    return (torch.log(1 - predicted_chord).sum() \n",
    "            - torch.log(1 - predicted_chord[chord]).sum() \n",
    "            + torch.log(predicted_chord[chord]).sum())"
   ]
  },
  {
   "cell_type": "code",
   "execution_count": 56,
   "metadata": {},
   "outputs": [
    {
     "data": {
      "text/plain": [
       "tensor(-92.4701)"
      ]
     },
     "execution_count": 56,
     "metadata": {},
     "output_type": "execute_result"
    }
   ],
   "source": [
    "predicted_chord = torch.rand((88))\n",
    "chord = dataset['test'][0][0]\n",
    "log_loss(chord, predicted_chord)"
   ]
  },
  {
   "cell_type": "code",
   "execution_count": 92,
   "metadata": {
    "collapsed": true
   },
   "outputs": [],
   "source": [
    "def log_loss_binary_chord(binary_chord, predicted_chord):\n",
    "    return (binary_chord * torch.log(predicted_chord) \n",
    "            + (1-binary_chord) * (torch.log(1-predicted_chord))).sum()"
   ]
  },
  {
   "cell_type": "code",
   "execution_count": 95,
   "metadata": {},
   "outputs": [
    {
     "data": {
      "text/plain": [
       "tensor(nan)"
      ]
     },
     "execution_count": 95,
     "metadata": {},
     "output_type": "execute_result"
    }
   ],
   "source": [
    "log_loss_binary_chord(target[0,:]+0.01, target[0,:]+0.01)"
   ]
  },
  {
   "cell_type": "code",
   "execution_count": 107,
   "metadata": {},
   "outputs": [
    {
     "data": {
      "text/plain": [
       "tensor(1.00000e-05 *\n",
       "       -7.9970)"
      ]
     },
     "execution_count": 107,
     "metadata": {},
     "output_type": "execute_result"
    }
   ],
   "source": [
    "d = 0.0000001\n",
    "t_d = target[0,:]/(1+d)+d/2\n",
    "log_loss_binary_chord(t_d, t_d)"
   ]
  },
  {
   "cell_type": "code",
   "execution_count": 77,
   "metadata": {},
   "outputs": [
    {
     "data": {
      "text/plain": [
       "tensor([inf, inf, inf, inf, inf, inf, inf, inf, inf, inf, inf, inf,\n",
       "        inf, inf, inf,  0., inf, inf, inf, inf, inf, inf, inf, inf,\n",
       "        inf, inf, inf,  0., inf, inf, inf, inf, inf, inf, inf, inf,\n",
       "        inf, inf, inf,  0., inf, inf, inf,  0., inf, inf,  0., inf,\n",
       "        inf, inf, inf, inf, inf, inf, inf, inf, inf, inf, inf, inf,\n",
       "        inf, inf, inf, inf, inf, inf, inf, inf, inf, inf, inf, inf,\n",
       "        inf, inf, inf, inf, inf, inf, inf, inf, inf, inf, inf, inf,\n",
       "        inf, inf, inf, inf])"
      ]
     },
     "execution_count": 77,
     "metadata": {},
     "output_type": "execute_result"
    }
   ],
   "source": [
    "(1-binary_chord) * (1-torch.log(predicted_chord))"
   ]
  }
 ],
 "metadata": {
  "kernelspec": {
   "display_name": "Python 3",
   "language": "python",
   "name": "python3"
  },
  "language_info": {
   "codemirror_mode": {
    "name": "ipython",
    "version": 3
   },
   "file_extension": ".py",
   "mimetype": "text/x-python",
   "name": "python",
   "nbconvert_exporter": "python",
   "pygments_lexer": "ipython3",
   "version": "3.6.1"
  }
 },
 "nbformat": 4,
 "nbformat_minor": 2
}
