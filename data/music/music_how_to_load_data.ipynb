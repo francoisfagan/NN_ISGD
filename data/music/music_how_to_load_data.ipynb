{
 "cells": [
  {
   "cell_type": "markdown",
   "metadata": {},
   "source": [
    "# Code for loading music datasets\n",
    "Using preprocessed data downloaded from: http://www-etud.iro.umontreal.ca/~boulanni/icml2012"
   ]
  },
  {
   "cell_type": "code",
   "execution_count": 40,
   "metadata": {
    "collapsed": true
   },
   "outputs": [],
   "source": [
    "import pickle\n",
    "import numpy as np\n",
    "import torch"
   ]
  },
  {
   "cell_type": "code",
   "execution_count": 41,
   "metadata": {
    "collapsed": true
   },
   "outputs": [],
   "source": [
    "path = './'\n",
    "dataset_name = 'Piano-midi.de'\n",
    "dataset_path = path + dataset_name"
   ]
  },
  {
   "cell_type": "code",
   "execution_count": 42,
   "metadata": {
    "collapsed": true
   },
   "outputs": [],
   "source": [
    "dataset = pickle.load(open(dataset_path + '.pickle', 'rb'))"
   ]
  },
  {
   "cell_type": "code",
   "execution_count": 44,
   "metadata": {},
   "outputs": [
    {
     "name": "stdout",
     "output_type": "stream",
     "text": [
      "Dataset keys:  dict_keys(['test', 'train', 'valid'])\n",
      "Test dataset length:  87\n",
      "Example of datapoint = musical piece:  [[55, 79], [62, 86], [62, 86], [62, 86], [62, 86], [62, 86], [62, 86], [62, 86], [60, 84], [58, 82], [60, 84], [62, 86], [63, 87], [65, 89], [62, 86], [63, 87], [62, 86], [60, 84], [60, 84], [58, 82], [58, 82], [56, 80], [56, 80], [43], [50, 55], [55, 59], [59, 62], [62, 67], [67, 71], [71, 74], [59, 67], [62, 71], [67, 74], [71, 79], [74, 83], [79, 86], [74, 83], [71, 79], [67, 74], [62, 71], [59, 67], [67, 74], [62, 71], [59, 67], [55, 62], [55, 59], [50, 55], [43], [55, 79], [62, 86], [62, 86], [62, 86], [62, 86], [62, 86], [62, 86], [62, 86], [60, 84], [58, 82], [60, 84], [62, 86], [63, 87], [65, 89], [62, 86], [63, 87], [62, 86], [60, 84], [60, 84], [58, 82], [58, 82], [56, 80], [56, 80], [55, 79], [56, 80], [58, 82], [60, 84], [63, 87], [63, 87], [60, 84], [60, 84], [58, 82], [58, 82], [56, 80], [56, 80], [55, 79], [56, 80], [58, 82], [60, 84], [62, 86], [65, 89], [63, 87], [60, 84], [58, 82], [56, 80], [60, 84], [59, 83], [43], [43, 59, 67], [50], [50, 59, 67], [55], [55, 59, 67], [43], [43, 60, 65], [50], [50, 60, 65], [56], [56, 60, 65], [43], [43, 59, 67], [50], [50, 59, 67], [55], [55, 59, 67], [43], [43, 60, 67], [50], [50, 60, 65], [56], [56, 60, 62], [43], [43, 59, 67], [50], [50, 59, 67], [55], [55, 59, 67], [39], [39, 55, 63], [46], [46, 55, 63], [55], [55, 63], [46], [46, 58, 62], [53], [53, 58, 62], [58], [58, 62], [53], [56, 60], [55], [56, 60], [56], [56, 60], [43], [43, 59, 67], [50], [50, 59, 67], [55], [55, 59, 67], [43], [43, 60, 65], [50], [50, 60, 65], [56], [56, 60, 65], [43], [43, 59, 67], [50], [50, 59, 67], [55], [55, 59, 67], [43], [43, 60, 65], [50], [50, 60, 65], [56], [56, 60, 65], [43], [55, 79], [57, 81], [59, 83], [60, 84], [62, 86], [63, 87], [63, 87], [62, 86], [60, 84], [58, 82], [60, 84], [62, 86], [63, 87], [65, 89], [62, 86], [63, 87], [62, 86], [60, 84], [60, 84], [58, 82], [58, 82], [56, 80], [56, 80], [55, 79], [57, 81], [59, 83], [60, 84], [62, 86], [63, 87], [65, 89], [67, 91], [68, 92], [68, 92], [67, 91], [65, 89], [67, 91], [67, 91], [67, 91], [65, 89], [68, 92], [67, 91], [63, 87], [61, 85], [60, 84], [62, 86], [58, 82], [56, 80], [43], [43, 59, 67], [50], [50, 59, 67], [55], [55, 59, 67], [43], [43, 60, 65], [50], [50, 60, 65], [56], [56, 60, 65], [43], [43, 59, 67], [50], [50, 59, 67], [55], [55, 59, 67], [43], [43, 60, 67], [50], [50, 60, 65], [56], [56, 60, 62], [43], [43, 59, 67], [50], [50, 59, 67], [55], [55, 59, 67], [39], [39, 55, 63], [46], [46, 55, 63], [55], [55, 63], [46], [46, 58, 62], [53], [53, 58, 62], [58], [58, 62], [53], [56, 60], [55], [56, 60], [56], [56, 60], [43], [43], [50], [50], [55, 59, 62], [55, 59, 62], [48], [51], [53, 56, 60, 62], [56], [58], [55], [43], [43], [50], [50], [55, 59, 62], [55, 59, 62], [48], [51], [53, 56, 60, 62], [56], [58], [55], [54, 60, 68, 74], [54, 60, 68, 74], [54, 60, 68, 74], [54, 60, 68, 74], [54, 60, 68, 74], [54, 60, 68, 74], [56, 80], [56, 80], [56, 80], [56, 80], [56, 80], [56, 80], [56, 80], [58, 82], [60, 84], [63, 87], [60, 84], [58, 82], [58, 82], [56, 80], [51, 75], [56, 80], [55, 79], [55, 79], [55, 79], [55, 79], [54, 78], [51, 75], [50, 74], [48, 72], [43], [50, 55], [55, 59], [59, 62], [62, 67], [67, 71], [71, 74], [59, 67], [62, 71], [67, 74], [71, 79], [74, 83], [79, 86], [59, 67], [62, 71], [67, 74], [71, 79], [74, 83], [79, 86], [71, 79], [74, 83], [79, 86], [83, 91], [86, 95], [67, 74, 83, 91, 98, 103], [67, 74, 83, 91, 98, 103], [67, 74, 83, 91, 98, 103], [67, 74, 83, 91, 98, 103], [67, 74, 83, 91, 98, 103], [67, 74, 83, 91, 98, 103]]\n",
      "Average length of piece musical piece:  872.5402298850574\n"
     ]
    }
   ],
   "source": [
    "train_test = 'train'\n",
    "print('Dataset keys: ', dataset.keys())\n",
    "print('Test dataset length: ', len(dataset[train_test]))\n",
    "print('Example of datapoint = musical piece: ', dataset[train_test][0])\n",
    "print('Average length of piece musical piece: ', np.mean([len(piece) for piece in dataset[train_test]]))"
   ]
  },
  {
   "cell_type": "code",
   "execution_count": 5,
   "metadata": {
    "collapsed": true
   },
   "outputs": [],
   "source": [
    "def chord_to_binary(chord):\n",
    "    \"\"\"According to http://www-etud.iro.umontreal.ca/~boulanni/icml2012,\n",
    "    each chord is a list of the non-zero elements in the piano-roll at this instant.\n",
    "     (in MIDI note numbers, between 21 and 108 inclusive).\n",
    "    \n",
    "    This function transforms the list into a binary vector of length 88 (= 108 - 21 + 1)\n",
    "    indicating which notes were played in the given chord\n",
    "    \"\"\"\n",
    "    indices = [note - 21 for note in chord]\n",
    "    binary_vector = torch.zeros(88)\n",
    "    binary_vector[indices] = 1.0\n",
    "    return binary_vector"
   ]
  },
  {
   "cell_type": "code",
   "execution_count": 6,
   "metadata": {},
   "outputs": [
    {
     "name": "stdout",
     "output_type": "stream",
     "text": [
      "[36, 48]\n",
      "tensor([ 0.,  0.,  0.,  0.,  0.,  0.,  0.,  0.,  0.,  0.,  0.,  0.,\n",
      "         0.,  0.,  0.,  1.,  0.,  0.,  0.,  0.,  0.,  0.,  0.,  0.,\n",
      "         0.,  0.,  0.,  1.,  0.,  0.,  0.,  0.,  0.,  0.,  0.,  0.,\n",
      "         0.,  0.,  0.,  0.,  0.,  0.,  0.,  0.,  0.,  0.,  0.,  0.,\n",
      "         0.,  0.,  0.,  0.,  0.,  0.,  0.,  0.,  0.,  0.,  0.,  0.,\n",
      "         0.,  0.,  0.,  0.,  0.,  0.,  0.,  0.,  0.,  0.,  0.,  0.,\n",
      "         0.,  0.,  0.,  0.,  0.,  0.,  0.,  0.,  0.,  0.,  0.,  0.,\n",
      "         0.,  0.,  0.,  0.])\n"
     ]
    }
   ],
   "source": [
    "chord = dataset['test'][0][0]\n",
    "print(chord)\n",
    "print(chord_to_binary(chord))"
   ]
  },
  {
   "cell_type": "code",
   "execution_count": 7,
   "metadata": {
    "collapsed": true
   },
   "outputs": [],
   "source": [
    "def piece_to_binary(piece):\n",
    "    piece_binary = torch.zeros((len(piece), 88))\n",
    "    for chord_idx in range(len(piece)):\n",
    "        piece_binary[chord_idx, :] = chord_to_binary(piece[chord_idx])\n",
    "    return piece_binary"
   ]
  },
  {
   "cell_type": "code",
   "execution_count": 8,
   "metadata": {
    "collapsed": true
   },
   "outputs": [],
   "source": [
    "# Input is binarize piece excluding the final chord\n",
    "piece_binarized = piece_to_binary(dataset['test'][0])\n",
    "input = piece_binarized[:-1,:]\n",
    "\n",
    "# Target is binarize piece excluding the first chord\n",
    "target = piece_binarized[1:,:]"
   ]
  },
  {
   "cell_type": "code",
   "execution_count": 9,
   "metadata": {},
   "outputs": [
    {
     "data": {
      "text/plain": [
       "tensor([ 0.,  0.,  0.,  0.,  0.,  0.,  0.,  0.,  0.,  0.,  0.,  0.,\n",
       "         0.,  0.,  0.,  1.,  0.,  0.,  0.,  0.,  0.,  0.,  0.,  0.,\n",
       "         0.,  0.,  0.,  1.,  0.,  0.,  0.,  0.,  0.,  0.,  0.,  0.,\n",
       "         0.,  0.,  0.,  1.,  0.,  0.,  0.,  1.,  0.,  0.,  1.,  0.,\n",
       "         0.,  0.,  0.,  0.,  0.,  0.,  0.,  0.,  0.,  0.,  0.,  0.,\n",
       "         0.,  0.,  0.,  0.,  0.,  0.,  0.,  0.,  0.,  0.,  0.,  0.,\n",
       "         0.,  0.,  0.,  0.,  0.,  0.,  0.,  0.,  0.,  0.,  0.,  0.,\n",
       "         0.,  0.,  0.,  0.])"
      ]
     },
     "execution_count": 9,
     "metadata": {},
     "output_type": "execute_result"
    }
   ],
   "source": [
    "target[0,:]"
   ]
  },
  {
   "cell_type": "code",
   "execution_count": 10,
   "metadata": {
    "collapsed": true
   },
   "outputs": [],
   "source": [
    "def log_loss_chord(chord, predicted_chord):\n",
    "    return (torch.log(1 - predicted_chord).sum() \n",
    "            - torch.log(1 - predicted_chord[chord]).sum() \n",
    "            + torch.log(predicted_chord[chord]).sum())"
   ]
  },
  {
   "cell_type": "code",
   "execution_count": 11,
   "metadata": {},
   "outputs": [
    {
     "data": {
      "text/plain": [
       "tensor(-81.3952)"
      ]
     },
     "execution_count": 11,
     "metadata": {},
     "output_type": "execute_result"
    }
   ],
   "source": [
    "predicted_chord = torch.rand((88))\n",
    "chord = dataset['test'][0][0]\n",
    "log_loss_chord(chord, predicted_chord)"
   ]
  },
  {
   "cell_type": "code",
   "execution_count": 12,
   "metadata": {
    "collapsed": true
   },
   "outputs": [],
   "source": [
    "def log_loss_binary_chord(binary_chord, predicted_chord):\n",
    "    return (binary_chord * torch.log(predicted_chord) \n",
    "            + (1-binary_chord) * (torch.log(1-predicted_chord))).sum()"
   ]
  },
  {
   "cell_type": "code",
   "execution_count": 13,
   "metadata": {},
   "outputs": [
    {
     "data": {
      "text/plain": [
       "tensor(nan)"
      ]
     },
     "execution_count": 13,
     "metadata": {},
     "output_type": "execute_result"
    }
   ],
   "source": [
    "log_loss_binary_chord(target[0,:]+0.01, target[0,:]+0.01)"
   ]
  },
  {
   "cell_type": "code",
   "execution_count": 14,
   "metadata": {},
   "outputs": [
    {
     "data": {
      "text/plain": [
       "tensor(1.00000e-05 *\n",
       "       -7.9970)"
      ]
     },
     "execution_count": 14,
     "metadata": {},
     "output_type": "execute_result"
    }
   ],
   "source": [
    "d = 0.0000001\n",
    "t_d = target[0,:]/(1+d)+d/2\n",
    "log_loss_binary_chord(t_d, t_d)"
   ]
  }
 ],
 "metadata": {
  "kernelspec": {
   "display_name": "Python 3",
   "language": "python",
   "name": "python3"
  },
  "language_info": {
   "codemirror_mode": {
    "name": "ipython",
    "version": 3
   },
   "file_extension": ".py",
   "mimetype": "text/x-python",
   "name": "python",
   "nbconvert_exporter": "python",
   "pygments_lexer": "ipython3",
   "version": "3.6.1"
  }
 },
 "nbformat": 4,
 "nbformat_minor": 2
}
