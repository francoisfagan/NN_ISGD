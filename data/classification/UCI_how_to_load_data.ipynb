{
 "cells": [
  {
   "cell_type": "markdown",
   "metadata": {},
   "source": [
    "# Code for loading UCI datasets\n",
    "Using preprocessed data downloaded from: https://github.com/bioinf-jku/SNNs"
   ]
  },
  {
   "cell_type": "code",
   "execution_count": 7,
   "metadata": {
    "collapsed": true
   },
   "outputs": [],
   "source": [
    "import numpy as np\n",
    "import os\n",
    "from sklearn.model_selection import train_test_split"
   ]
  },
  {
   "cell_type": "code",
   "execution_count": 2,
   "metadata": {
    "collapsed": true
   },
   "outputs": [],
   "source": [
    "path = './'\n",
    "dataset_name = 'breast-cancer'\n",
    "dataset_path = path + dataset_name + '/'"
   ]
  },
  {
   "cell_type": "code",
   "execution_count": 3,
   "metadata": {},
   "outputs": [
    {
     "name": "stdout",
     "output_type": "stream",
     "text": [
      "(286, 9)\n",
      "(286,)\n"
     ]
    }
   ],
   "source": [
    "x = np.loadtxt(open(dataset_path + dataset_name + '_py.dat'), delimiter=\",\")\n",
    "y = np.loadtxt(open(dataset_path + 'labels_py.dat'), delimiter=\",\")\n",
    "\n",
    "print(x.shape)\n",
    "print(y.shape)\n",
    "\n",
    "# The folds and validation aren't useful to us\n",
    "folds = np.loadtxt(open(dataset_path + 'folds_py.dat'), delimiter=\",\")\n",
    "validation_folds = np.loadtxt(open(dataset_path + 'validation_folds_py.dat'), delimiter=\",\")"
   ]
  },
  {
   "cell_type": "code",
   "execution_count": 4,
   "metadata": {},
   "outputs": [
    {
     "name": "stdout",
     "output_type": "stream",
     "text": [
      "1.0\n",
      "0.0\n",
      "2.0\n"
     ]
    }
   ],
   "source": [
    "# This assumes that the labels are in [0,1,2,...,classes], which seems to be the case\n",
    "classes = np.max(y) + 1 \n",
    "\n",
    "print(np.max(y))\n",
    "print(np.min(y))\n",
    "print(classes)"
   ]
  },
  {
   "cell_type": "code",
   "execution_count": 5,
   "metadata": {
    "collapsed": true
   },
   "outputs": [],
   "source": [
    "x_train, x_test, y_train, y_test = train_test_split(x, y, test_size=0.2, random_state=1)"
   ]
  },
  {
   "cell_type": "code",
   "execution_count": 6,
   "metadata": {},
   "outputs": [
    {
     "data": {
      "text/plain": [
       "array([0., 0., 0., 0., 1., 1., 1., 0., 0., 0., 0., 0., 0., 0., 1., 0., 0.,\n",
       "       0., 0., 0., 0., 0., 1., 1., 0., 1., 0., 0., 0., 0., 0., 1., 0., 0.,\n",
       "       1., 0., 1., 1., 0., 0., 1., 1., 0., 0., 0., 1., 0., 0., 0., 0., 0.,\n",
       "       1., 0., 0., 0., 0., 0., 0., 0., 1., 1., 0., 0., 1., 0., 0., 1., 0.,\n",
       "       0., 0., 0., 0., 0., 0., 1., 0., 0., 1., 0., 0., 0., 0., 1., 0., 0.,\n",
       "       0., 1., 1., 0., 1., 0., 1., 1., 0., 1., 0., 0., 0., 0., 0., 0., 0.,\n",
       "       1., 0., 0., 0., 0., 0., 1., 0., 0., 1., 1., 0., 0., 1., 1., 0., 0.,\n",
       "       1., 0., 0., 0., 0., 1., 0., 1., 1., 0., 1., 1., 1., 1., 0., 1., 0.,\n",
       "       0., 1., 0., 0., 0., 0., 0., 0., 0., 0., 0., 0., 0., 1., 0., 0., 1.,\n",
       "       0., 0., 0., 0., 0., 0., 1., 0., 0., 0., 0., 0., 0., 0., 0., 1., 0.,\n",
       "       0., 1., 0., 1., 1., 0., 0., 1., 0., 0., 1., 0., 1., 0., 0., 0., 0.,\n",
       "       0., 0., 1., 0., 0., 0., 0., 0., 0., 0., 0., 1., 0., 0., 0., 1., 1.,\n",
       "       1., 0., 0., 0., 0., 0., 1., 1., 0., 0., 0., 1., 1., 0., 1., 0., 0.,\n",
       "       0., 0., 1., 1., 0., 1., 0.])"
      ]
     },
     "execution_count": 6,
     "metadata": {},
     "output_type": "execute_result"
    }
   ],
   "source": [
    "y_train"
   ]
  },
  {
   "cell_type": "markdown",
   "metadata": {},
   "source": [
    "# Work out how to load all datasets"
   ]
  },
  {
   "cell_type": "code",
   "execution_count": 18,
   "metadata": {},
   "outputs": [
    {
     "data": {
      "text/plain": [
       "['abalone',\n",
       " 'acute-inflammation',\n",
       " 'acute-nephritis',\n",
       " 'adult',\n",
       " 'annealing',\n",
       " 'arrhythmia',\n",
       " 'audiology-std',\n",
       " 'balance-scale',\n",
       " 'balloons',\n",
       " 'bank',\n",
       " 'blood',\n",
       " 'breast-cancer',\n",
       " 'breast-cancer-wisc',\n",
       " 'breast-cancer-wisc-diag',\n",
       " 'breast-cancer-wisc-prog',\n",
       " 'breast-tissue',\n",
       " 'car',\n",
       " 'cardiotocography-10clases',\n",
       " 'cardiotocography-3clases',\n",
       " 'chess-krvk',\n",
       " 'chess-krvkp',\n",
       " 'congressional-voting',\n",
       " 'conn-bench-sonar-mines-rocks',\n",
       " 'conn-bench-vowel-deterding',\n",
       " 'connect-4',\n",
       " 'contrac',\n",
       " 'credit-approval',\n",
       " 'cylinder-bands',\n",
       " 'dermatology',\n",
       " 'echocardiogram',\n",
       " 'ecoli',\n",
       " 'energy-y1',\n",
       " 'energy-y2',\n",
       " 'fertility',\n",
       " 'flags',\n",
       " 'glass',\n",
       " 'haberman-survival',\n",
       " 'hayes-roth',\n",
       " 'heart-cleveland',\n",
       " 'heart-hungarian',\n",
       " 'heart-switzerland',\n",
       " 'heart-va',\n",
       " 'hepatitis',\n",
       " 'hill-valley',\n",
       " 'horse-colic',\n",
       " 'ilpd-indian-liver',\n",
       " 'image-segmentation',\n",
       " 'ionosphere',\n",
       " 'iris',\n",
       " 'led-display',\n",
       " 'lenses',\n",
       " 'letter',\n",
       " 'libras',\n",
       " 'low-res-spect',\n",
       " 'lung-cancer',\n",
       " 'lymphography',\n",
       " 'magic',\n",
       " 'mammographic',\n",
       " 'miniboone',\n",
       " 'molec-biol-promoter',\n",
       " 'molec-biol-splice',\n",
       " 'monks-1',\n",
       " 'monks-2',\n",
       " 'monks-3',\n",
       " 'mushroom',\n",
       " 'musk-1',\n",
       " 'musk-2',\n",
       " 'nursery',\n",
       " 'oocytes_merluccius_nucleus_4d',\n",
       " 'oocytes_merluccius_states_2f',\n",
       " 'oocytes_trisopterus_nucleus_2f',\n",
       " 'oocytes_trisopterus_states_5b',\n",
       " 'optical',\n",
       " 'ozone',\n",
       " 'page-blocks',\n",
       " 'parkinsons',\n",
       " 'pendigits',\n",
       " 'pima',\n",
       " 'pittsburg-bridges-MATERIAL',\n",
       " 'pittsburg-bridges-REL-L',\n",
       " 'pittsburg-bridges-SPAN',\n",
       " 'pittsburg-bridges-T-OR-D',\n",
       " 'pittsburg-bridges-TYPE',\n",
       " 'planning',\n",
       " 'plant-margin',\n",
       " 'plant-shape',\n",
       " 'plant-texture',\n",
       " 'post-operative',\n",
       " 'primary-tumor',\n",
       " 'ringnorm',\n",
       " 'seeds',\n",
       " 'semeion',\n",
       " 'soybean',\n",
       " 'spambase',\n",
       " 'spect',\n",
       " 'spectf',\n",
       " 'statlog-australian-credit',\n",
       " 'statlog-german-credit',\n",
       " 'statlog-heart',\n",
       " 'statlog-image',\n",
       " 'statlog-landsat',\n",
       " 'statlog-shuttle',\n",
       " 'statlog-vehicle',\n",
       " 'steel-plates',\n",
       " 'synthetic-control',\n",
       " 'teaching',\n",
       " 'thyroid',\n",
       " 'tic-tac-toe',\n",
       " 'titanic',\n",
       " 'trains',\n",
       " 'twonorm',\n",
       " 'vertebral-column-2clases',\n",
       " 'vertebral-column-3clases',\n",
       " 'wall-following',\n",
       " 'waveform',\n",
       " 'waveform-noise',\n",
       " 'wine',\n",
       " 'wine-quality-red',\n",
       " 'wine-quality-white',\n",
       " 'yeast',\n",
       " 'zoo']"
      ]
     },
     "execution_count": 18,
     "metadata": {},
     "output_type": "execute_result"
    }
   ],
   "source": [
    "directory = '.'\n",
    "sub_directories = sorted([d for d in os.listdir(directory) if d.count('.') == 0])\n",
    "sub_directories"
   ]
  }
 ],
 "metadata": {
  "kernelspec": {
   "display_name": "Python 3",
   "language": "python",
   "name": "python3"
  },
  "language_info": {
   "codemirror_mode": {
    "name": "ipython",
    "version": 3
   },
   "file_extension": ".py",
   "mimetype": "text/x-python",
   "name": "python",
   "nbconvert_exporter": "python",
   "pygments_lexer": "ipython3",
   "version": "3.6.1"
  }
 },
 "nbformat": 4,
 "nbformat_minor": 2
}
