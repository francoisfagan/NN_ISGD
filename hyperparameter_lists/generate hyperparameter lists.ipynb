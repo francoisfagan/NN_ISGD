{
 "cells": [
  {
   "cell_type": "code",
   "execution_count": 1,
   "metadata": {
    "collapsed": true
   },
   "outputs": [],
   "source": [
    "import json"
   ]
  },
  {
   "cell_type": "code",
   "execution_count": 2,
   "metadata": {
    "collapsed": true
   },
   "outputs": [],
   "source": [
    "name = 'music'\n",
    "\n",
    "hyperparameter_lists = {\n",
    "    'architecture': ['rnn'],  #   # 'lstm'  #'convffnn', 'autoencoder'\n",
    "    'batch_size': [100],\n",
    "    'clipping_threshold': [0.0],\n",
    "    'dataset_name': ['Piano-midi.de'],  # 'easy_addition'  # 'simple_rnn' # #'mnist_autoencoder'\n",
    "    'epochs': [1],\n",
    "    'initialization_scale': ['\\sqrt{\\frac{6}{n+m}}'],  # '0.1'\n",
    "    'inner_ISGD_iterations': [0],  # '0.1'\n",
    "    'intra_epoch': [False],\n",
    "    'lr': [0.001],#[0.5, 1.0, 1.5, 2.0, 2.5], 0.02, 0.05, 0.1, 0.2\n",
    "    'momentum': [0.0],\n",
    "    'mu': [0.0],\n",
    "    'nodes': [50],\n",
    "    'seed': list(range(1,2)), # \n",
    "    'sgdtype': ['explicit']} # , 'implicit'"
   ]
  },
  {
   "cell_type": "code",
   "execution_count": 3,
   "metadata": {
    "collapsed": true
   },
   "outputs": [],
   "source": [
    "with open(name + '.json', 'w') as f:\n",
    "    json.dump(hyperparameter_lists, f, indent=2)"
   ]
  }
 ],
 "metadata": {
  "kernelspec": {
   "display_name": "Python 3",
   "language": "python",
   "name": "python3"
  },
  "language_info": {
   "codemirror_mode": {
    "name": "ipython",
    "version": 3
   },
   "file_extension": ".py",
   "mimetype": "text/x-python",
   "name": "python",
   "nbconvert_exporter": "python",
   "pygments_lexer": "ipython3",
   "version": "3.6.1"
  }
 },
 "nbformat": 4,
 "nbformat_minor": 2
}
