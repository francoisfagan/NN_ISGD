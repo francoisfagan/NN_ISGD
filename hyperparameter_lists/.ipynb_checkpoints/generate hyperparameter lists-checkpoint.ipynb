{
 "cells": [
  {
   "cell_type": "code",
   "execution_count": 1,
   "metadata": {
    "collapsed": true
   },
   "outputs": [],
   "source": [
    "import json"
   ]
  },
  {
   "cell_type": "code",
   "execution_count": 2,
   "metadata": {
    "collapsed": true
   },
   "outputs": [],
   "source": [
    "# name = 'Nottingham' #'MuseData'# 'JSB Chorales'#'Piano-midi.de'#\n",
    "# hyperparameter_lists = {\n",
    "#     'architecture': ['music'],  #   # 'lstm'  #'convffnn', 'autoencoder''rnn'\n",
    "#     'batch_size': [100],\n",
    "#     'clipping_threshold': [0.0],\n",
    "#     'dataset_name': [name],  \n",
    "#     'epochs': [5],\n",
    "#     'initialization_scale': ['\\sqrt{\\frac{6}{n+m}}'],  # '0.1'\n",
    "#     'inner_ISGD_iterations': [0],  # '0.1'\n",
    "#     'intra_epoch': [False],\n",
    "#     'lr': [0.5, 2.0, 5.0],#0.5, 2.0, 5.0, 20.0, 50.0, 200.0, 500.0\n",
    "#     'momentum': [0.0],\n",
    "#     'mu': [0.0],\n",
    "#     'nodes': [300],\n",
    "#     'seed': list(range(1,6)), # \n",
    "#     'sgdtype': ['explicit', 'implicit']} # \n",
    "\n",
    "# name  = 'mnist_autoencoder_experiments'\n",
    "# hyperparameter_lists = {\n",
    "#     \"architecture\": [\"autoencoder\"],\n",
    "#     \"batch_size\": [100],\n",
    "#     \"clipping_threshold\": [1.0],\n",
    "#     \"dataset_name\": [\"mnist_autoencoder\"],\n",
    "#     \"epochs\": [1],\n",
    "#     \"initialization_scale\": [\"\\\\sqrt{\\frac{6}{n+m}}\"],\n",
    "#     \"inner_ISGD_iterations\": [0],\n",
    "#     \"intra_epoch\": [False],\n",
    "#     \"lr\": [0.01, 0.05, 0.1, 0.2, 0.3, 0.4, 0.5],\n",
    "#     \"momentum\": [0.0],\n",
    "#     \"mu\": [0.0],\n",
    "#     \"nodes\": [50],\n",
    "#     \"seed\": list(range(1,6)),\n",
    "#     \"sgdtype\": [\"explicit\", 'implicit']\n",
    "# }\n",
    "\n",
    "# name  = 'mnist_experiments'\n",
    "# hyperparameter_lists = {\n",
    "#     \"architecture\": ['convffnn'],\n",
    "#     \"batch_size\": [100],\n",
    "#     \"clipping_threshold\": [0.0],\n",
    "#     \"dataset_name\": ['mnist'],\n",
    "#     \"epochs\": [1],\n",
    "#     \"initialization_scale\": [\"\\\\sqrt{\\frac{6}{n+m}}\"],\n",
    "#     \"inner_ISGD_iterations\": [10, 100],\n",
    "#     \"intra_epoch\": [True],\n",
    "#     \"lr\": [5.0, 10.0, 20.0],\n",
    "#     \"momentum\": [0.0],\n",
    "#     \"mu\": [0.0],\n",
    "#     \"nodes\": [50],\n",
    "#     \"seed\": [1],\n",
    "#     \"sgdtype\": [\"explicit\"]\n",
    "# }\n",
    "\n",
    "name  = 'classification'\n",
    "hyperparameter_lists = {\n",
    "    \"architecture\": ['classification'],\n",
    "    \"batch_size\": [100],\n",
    "    \"clipping_threshold\": [0.0],\n",
    "    # connect-4, 'abalone', 'adult', annealing'\n",
    "    \"dataset_name\": ['connect-4_classification'],#, \n",
    "    \"epochs\": [10],\n",
    "    \"initialization_scale\": [\"\\\\sqrt{\\frac{6}{n+m}}\"],\n",
    "    \"inner_ISGD_iterations\": [0],\n",
    "    \"intra_epoch\": [False],\n",
    "    \"lr\": [0.0003, 0.001, 0.003, 0.01, 0.03, 0.1, 0.2, 0.3, 0.5, 1.0],\n",
    "    \"momentum\": [0.0],\n",
    "    \"mu\": [0.0],\n",
    "    \"nodes\": [50],\n",
    "    \"seed\": [1],\n",
    "    \"sgdtype\": [\"explicit\"]\n",
    "}"
   ]
  },
  {
   "cell_type": "code",
   "execution_count": 3,
   "metadata": {},
   "outputs": [
    {
     "data": {
      "text/plain": [
       "'1e-05, 3.0000000000000004e-05, 0.0001, 0.00030000000000000003, 0.001, 0.003, 0.01, 0.03, 0.1, 0.30000000000000004, 1.0, 3.0, 10.0, 30.0'"
      ]
     },
     "execution_count": 3,
     "metadata": {},
     "output_type": "execute_result"
    }
   ],
   "source": [
    "\", \".join([str(0.00001 * (10 ** i) * j) for i in range(7) for j in [1,3]])"
   ]
  },
  {
   "cell_type": "code",
   "execution_count": 4,
   "metadata": {
    "collapsed": true
   },
   "outputs": [],
   "source": [
    "with open(name + '.json', 'w') as f:\n",
    "    json.dump(hyperparameter_lists, f, indent=2)"
   ]
  }
 ],
 "metadata": {
  "kernelspec": {
   "display_name": "Python 3",
   "language": "python",
   "name": "python3"
  },
  "language_info": {
   "codemirror_mode": {
    "name": "ipython",
    "version": 3
   },
   "file_extension": ".py",
   "mimetype": "text/x-python",
   "name": "python",
   "nbconvert_exporter": "python",
   "pygments_lexer": "ipython3",
   "version": "3.6.1"
  }
 },
 "nbformat": 4,
 "nbformat_minor": 2
}
