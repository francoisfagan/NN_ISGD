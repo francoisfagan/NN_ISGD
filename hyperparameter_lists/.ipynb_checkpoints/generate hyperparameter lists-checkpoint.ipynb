{
 "cells": [
  {
   "cell_type": "code",
   "execution_count": 1,
   "metadata": {
    "collapsed": true
   },
   "outputs": [],
   "source": [
    "import json\n",
    "import os"
   ]
  },
  {
   "cell_type": "code",
   "execution_count": 2,
   "metadata": {
    "collapsed": true
   },
   "outputs": [],
   "source": [
    "name = 'JSB Chorales'#'MuseData'# 'Piano-midi.de'#'Nottingham' #\n",
    "hyperparameter_lists = {\n",
    "    'architecture': ['music'],  #   # 'lstm'  #'convffnn', 'autoencoder''rnn'\n",
    "    'batch_size': [100],\n",
    "    'clipping_threshold': [8.0],\n",
    "    'dataset_name': [name],  \n",
    "    'epochs': [1],\n",
    "    'initialization_scale': ['\\sqrt{\\frac{6}{n+m}}'],  # '0.1'\n",
    "    'inner_ISGD_iterations': [0],  # '0.1'\n",
    "    'intra_epoch': [False],\n",
    "    'lr': [57.0],#0.5, 2.0, 5.0, 20.0, 50.0, 200.0, 500.0\n",
    "    'momentum': [0.0],\n",
    "    'mu': [0.0],\n",
    "    'nodes': [300],\n",
    "    'seed': list(range(1,2)), # \n",
    "    'sgdtype': ['explicit']} # , 'implicit'\n",
    "\n",
    "name  = 'mnist_autoencoder_experiments'\n",
    "hyperparameter_lists = {\n",
    "    \"architecture\": [\"autoencoder\"],\n",
    "    \"batch_size\": [100],\n",
    "    \"clipping_threshold\": [1.0],\n",
    "    \"dataset_name\": [\"mnist_autoencoder\"],\n",
    "    \"epochs\": [1],\n",
    "    \"initialization_scale\": [\"\\\\sqrt{\\frac{6}{n+m}}\"],\n",
    "    \"inner_ISGD_iterations\": [0],\n",
    "    \"intra_epoch\": [False],\n",
    "    \"lr\": [0.057],#[0.01, 0.05, 0.1, 0.2, 0.3, 0.4, 0.5]\n",
    "    \"momentum\": [0.0],\n",
    "    \"mu\": [0.0],\n",
    "    \"nodes\": [50],\n",
    "    \"seed\": list(range(1,2)),\n",
    "    \"sgdtype\": ['implicit']#, \"explicit\"\n",
    "}\n",
    "\n",
    "# name  = 'mnist_experiments'\n",
    "# hyperparameter_lists = {\n",
    "#     \"architecture\": ['convffnn'],\n",
    "#     \"batch_size\": [100],\n",
    "#     \"clipping_threshold\": [1.0],\n",
    "#     \"dataset_name\": ['mnist'],\n",
    "#     \"epochs\": [10],\n",
    "#     \"initialization_scale\": [\"\\\\sqrt{\\frac{6}{n+m}}\"],\n",
    "#     \"inner_ISGD_iterations\": [0],#, 100\n",
    "#     \"intra_epoch\": [False],\n",
    "#     \"lr\": [0.57],# 1.0, 1.5, 2.0, 2.5, 3.0, 3.5, 4.0],\n",
    "#     \"momentum\": [0.0],\n",
    "#     \"mu\": [0.0],\n",
    "#     \"nodes\": [50],\n",
    "#     \"seed\": [1],\n",
    "#     \"sgdtype\": ['explicit', 'implicit']\n",
    "# }\n",
    "\n",
    "# name  = 'classification'\n",
    "# directory = '../data/classification'\n",
    "# sub_directories = sorted([d for d in os.listdir(directory) if d.count('.') == 0])\n",
    "# # d_names = ['abalone'] # connect-4, 'abalone', 'adult', annealing'\n",
    "# d_names = sorted(list(set(sub_directories)))# - {'connect-4', 'abalone', 'adult', 'annealing'}\n",
    "# # d_names = [\n",
    "# # #     'acute-inflammation',\n",
    "# # #                                               'breast-cancer',\n",
    "# # #                                               'breast-cancer-wisc',\n",
    "# # #                                               'breast-cancer-wisc-diag',\n",
    "# # #                                               'breast-cancer-wisc-prog',\n",
    "# # #                                               'cardiotocography-10clases',\n",
    "# # #                                               'conn-bench-sonar-mines-rocks',\n",
    "# # #                                               'chess-krvk',\n",
    "# # #                                               'energy-y1',\n",
    "# # #                                               'heart-cleveland',\n",
    "# #                                               'heart-hungarian',\n",
    "# #                                               'heart-switzerland',\n",
    "# #                                               'molec-biol-promoter',\n",
    "# #                                               'monks-1', \n",
    "# #                                               'monks-2']\n",
    "# dataset_names = [d_name + '_classification' for d_name in d_names]\n",
    "# hyperparameter_lists = {\n",
    "#     \"architecture\": ['classification'],\n",
    "#     \"batch_size\": [100],\n",
    "#     \"clipping_threshold\": [0.0],\n",
    "#     \"dataset_name\": dataset_names,#, \n",
    "#     \"epochs\": [10],\n",
    "#     \"initialization_scale\": [\"\\\\sqrt{\\frac{6}{n+m}}\"],\n",
    "#     \"inner_ISGD_iterations\": [0],\n",
    "#     \"intra_epoch\": [False],\n",
    "# #     \"lr\": [0.001, 0.01, 0.1, 0.5, 1.0, 3.0, 5.0, 10.0, 30.0, 50.0],\n",
    "#     \"lr\": [0.01],#0.001, 0.01, 0.1, 0.5, 1.0, 3.0, 5.0, 10.0, 30.0, 50.0\n",
    "#     \"momentum\": [0.0],\n",
    "#     \"mu\": [0.0],\n",
    "#     \"nodes\": [50],\n",
    "#     \"seed\": [1],\n",
    "#     \"sgdtype\": [\"implicit\"]#, 'explicit'\n",
    "# }"
   ]
  },
  {
   "cell_type": "code",
   "execution_count": 3,
   "metadata": {},
   "outputs": [
    {
     "data": {
      "text/plain": [
       "{'architecture': ['autoencoder'],\n",
       " 'batch_size': [32],\n",
       " 'clipping_threshold': [1.0],\n",
       " 'dataset_name': ['mnist_autoencoder'],\n",
       " 'epochs': [1],\n",
       " 'initialization_scale': ['\\\\sqrt{\\x0crac{6}{n+m}}'],\n",
       " 'inner_ISGD_iterations': [0],\n",
       " 'intra_epoch': [False],\n",
       " 'lr': [0.057],\n",
       " 'momentum': [0.0],\n",
       " 'mu': [0.0],\n",
       " 'nodes': [50],\n",
       " 'seed': [1],\n",
       " 'sgdtype': ['implicit']}"
      ]
     },
     "execution_count": 3,
     "metadata": {},
     "output_type": "execute_result"
    }
   ],
   "source": [
    "hyperparameter_lists"
   ]
  },
  {
   "cell_type": "code",
   "execution_count": 4,
   "metadata": {
    "collapsed": true
   },
   "outputs": [],
   "source": [
    "with open(name + '.json', 'w') as f:\n",
    "    json.dump(hyperparameter_lists, f, indent=2)"
   ]
  }
 ],
 "metadata": {
  "kernelspec": {
   "display_name": "Python 3",
   "language": "python",
   "name": "python3"
  },
  "language_info": {
   "codemirror_mode": {
    "name": "ipython",
    "version": 3
   },
   "file_extension": ".py",
   "mimetype": "text/x-python",
   "name": "python",
   "nbconvert_exporter": "python",
   "pygments_lexer": "ipython3",
   "version": "3.6.1"
  }
 },
 "nbformat": 4,
 "nbformat_minor": 2
}
