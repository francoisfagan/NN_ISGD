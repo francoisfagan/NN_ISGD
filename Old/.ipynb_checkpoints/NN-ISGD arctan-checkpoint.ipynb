{
 "cells": [
  {
   "cell_type": "code",
   "execution_count": 1,
   "metadata": {
    "collapsed": true
   },
   "outputs": [],
   "source": [
    "from __future__ import print_function\n",
    "import torch\n",
    "import torch.nn as nn\n",
    "import math\n",
    "import numpy as np\n",
    "from functools import reduce"
   ]
  },
  {
   "cell_type": "code",
   "execution_count": 2,
   "metadata": {
    "collapsed": true
   },
   "outputs": [],
   "source": [
    "n =  2  # dimension of input\n",
    "m =  3  # dimension of output\n",
    "batch =  4  # batch size"
   ]
  },
  {
   "cell_type": "code",
   "execution_count": 3,
   "metadata": {
    "collapsed": true
   },
   "outputs": [],
   "source": [
    "def calc_logit(input, weight, bias=None):\n",
    "    \"\"\"\n",
    "    Calculate logit = input.mm(weight.t()) + bias\n",
    "\n",
    "    Args:\n",
    "        input:  [1 x n]         Input vector\n",
    "        weight:  [m x n]        Weight matrix\n",
    "        bias:  [m]              Bias vector\n",
    "\n",
    "    Returns:\n",
    "        logit: [1 x n]          Logit = input.mm(weight.t()) + bias\n",
    "\n",
    "    \"\"\"\n",
    "\n",
    "    logit = input.mm(weight.t())\n",
    "    if bias is not None:\n",
    "        logit += bias.unsqueeze(0).expand_as(logit)\n",
    "\n",
    "    return logit"
   ]
  },
  {
   "cell_type": "markdown",
   "metadata": {},
   "source": [
    "## ESGD"
   ]
  },
  {
   "cell_type": "code",
   "execution_count": 4,
   "metadata": {
    "collapsed": true
   },
   "outputs": [],
   "source": [
    "def esgd_arctan(grad_output, input, weight, bias, output):\n",
    "\n",
    "    grad_output_scaled = grad_output / (1 + logit ** 2)  # [1 x m]\n",
    "    grad_input = grad_output_scaled.mm(weight)  # [1 x n]\n",
    "    grad_weight = grad_output_scaled.t().mm(input)  # [m x n]\n",
    "    grad_bias = grad_output_scaled.sum(0).squeeze(0)  # [m]\n",
    "\n",
    "    return grad_input, grad_weight, grad_bias"
   ]
  },
  {
   "cell_type": "markdown",
   "metadata": {},
   "source": [
    "## Old ISGD implementation"
   ]
  },
  {
   "cell_type": "code",
   "execution_count": 5,
   "metadata": {
    "collapsed": true
   },
   "outputs": [],
   "source": [
    "def calc_backwards_variables(saved_tensors, logit, grad_output, lr, mu):\n",
    "    \"\"\"\n",
    "    Calculate the variables required for back-propagation\n",
    "    \n",
    "    Args:\n",
    "        saved_tensors:          Stores from forward-propagation the input, weight, bias, output\n",
    "        logit: [1 x n]          Stores from forward-propagation the logit\n",
    "        grad_output: [1 x m]    The gradient that has been back-propagated to this layer\n",
    "        lr: [1]                 Learning rate\n",
    "        mu: [1]                 Ridge-regularization constant\n",
    "\n",
    "    Returns:\n",
    "        input: [1 x n]          Input vector\n",
    "        weight: [m x n]         Weight matrix\n",
    "        bias: [m]               Bias vector\n",
    "        output [1 x m]          Input to the next layer = logit put through the non-linear activation function\n",
    "        logit: [1 x n]          Logit\n",
    "        s: [1 x m]              Sign of back-propagated gradient\n",
    "        z_norm: [1]             2-norm of (input, 1)\n",
    "        d: [1 x m]              Weighted constant, proportional to the sqrt(abs(back-propagated gradient))\n",
    "        c: [1 x m]              Logit contracted by ridge-regularization\n",
    "    \"\"\"\n",
    "\n",
    "    # Unpack saved values\n",
    "    input, weight, bias, output = saved_tensors\n",
    "\n",
    "    # ISGD constants\n",
    "    s = torch.sign(grad_output)\n",
    "    z_norm = math.sqrt((torch.norm(input) ** 2 + 1.0))\n",
    "    d = z_norm / math.sqrt(1.0 + lr * mu) * torch.sqrt(torch.abs(grad_output))\n",
    "    c = logit / (1.0 + lr * mu)\n",
    "\n",
    "    return input, weight, bias, output, logit, s, z_norm, d, c"
   ]
  },
  {
   "cell_type": "code",
   "execution_count": 6,
   "metadata": {
    "collapsed": true
   },
   "outputs": [],
   "source": [
    "def calc_weigh_bias_grad(weight, mu, lr, a, d, input, z_norm, bias):\n",
    "    \"\"\"\n",
    "    Calculate the gradient of the weight matrix and bias vector\n",
    "\n",
    "    Args:\n",
    "        weight: [m x n]         Weight matrix\n",
    "        mu: [1]                 Ridge-regularization constant\n",
    "        lr: [1]                 Learning rate\n",
    "        a: [1 x m]              Solution of ISGD update\n",
    "        d: [1 x m]              Weighted constant, proportional to the sqrt(abs(back-propagated gradient))\n",
    "        input: [1 x n]          Input vector\n",
    "        z_norm: [1]             2-norm of (input, 1)\n",
    "        bias: [m]               Bias vector\n",
    "\n",
    "    Returns:\n",
    "        grad_weight: [m x n]    Gradient of the weight matrix\n",
    "        grad_bias: [m]          Gradient of the bias vector\n",
    "\n",
    "    \"\"\"\n",
    "\n",
    "    grad_weight = weight * mu / (1.0 + lr * mu) - (a * d).t().mm(input) / z_norm ** 2\n",
    "    grad_bias = bias * mu / (1.0 + lr * mu) - (a * d).squeeze() / z_norm ** 2\n",
    "    return grad_weight, grad_bias"
   ]
  },
  {
   "cell_type": "code",
   "execution_count": 7,
   "metadata": {
    "collapsed": true
   },
   "outputs": [],
   "source": [
    "def real_root_closest_to_zero(coeff):\n",
    "    roots = np.roots(coeff)\n",
    "    real_roots = [root.real for root in roots if root.imag == 0]\n",
    "    root_closest_to_zero = reduce((lambda x, y: x if (abs(x) < abs(y)) else y), real_roots)\n",
    "    return root_closest_to_zero"
   ]
  },
  {
   "cell_type": "code",
   "execution_count": 8,
   "metadata": {
    "collapsed": true
   },
   "outputs": [],
   "source": [
    "def isgd_arctan(grad_output, input, weight, bias, output, logit):\n",
    "    \n",
    "    lr, mu = 0.00000001, 0.0\n",
    "    input, weight, bias, output, logit, s, z_norm, d, c = calc_backwards_variables([input, weight, bias, output], logit,\n",
    "                                                                                       grad_output, lr, mu)\n",
    "\n",
    "    # Calculate a\n",
    "    coeff = np.array([((lr * d) ** 2).numpy()[0],\n",
    "                      (2 * lr * d * c).numpy()[0],\n",
    "                      (c ** 2 + 1).numpy()[0],\n",
    "                      (s * d).numpy()[0]])\n",
    "\n",
    "    root_closest_to_zero = np.apply_along_axis(real_root_closest_to_zero, 0, coeff)\n",
    "    a = torch.from_numpy(root_closest_to_zero).unsqueeze(1).t().type(torch.FloatTensor)\n",
    "\n",
    "    # Calculate grad_weight, grad_bias and return all gradients\n",
    "    grad_weight, grad_bias = calc_weigh_bias_grad(weight, mu, lr, a, d, input, z_norm, bias)\n",
    "\n",
    "    # Calculate input gradient\n",
    "    grad_output_scaled = grad_output / (1 + logit ** 2)  # [1 x m]\n",
    "    grad_input = grad_output_scaled.mm(weight)  # [1 x n]\n",
    "\n",
    "    return grad_input, grad_weight, grad_bias"
   ]
  },
  {
   "cell_type": "code",
   "execution_count": 9,
   "metadata": {
    "collapsed": true
   },
   "outputs": [],
   "source": [
    "def isgd_arctan2(grad_output, input, weight, bias, output, logit):\n",
    "    \n",
    "    lr, mu = 0.0, 0.0\n",
    "    input, weight, bias, output, logit, s, z_norm, d, c = calc_backwards_variables([input, weight, bias, output], logit,\n",
    "                                                                                       grad_output, lr, mu)\n",
    "\n",
    "    # Calculate a\n",
    "    d_d = d.double()\n",
    "    s_m_d = (s * d).double()\n",
    "    c_d = c.double()\n",
    "\n",
    "    a = d_d * 0  # [b x m]\n",
    "    a_diff = 1  # Norm difference between previous and current a values\n",
    "    iter_count = 0  # Count of number of a iterations\n",
    "    while a_diff > 1e-15:\n",
    "        a_new = - s_m_d / (1.0 + (lr * d_d * a + c_d) ** 2)  # [b x m]\n",
    "        a_diff = torch.norm(a - a_new)\n",
    "        a = a_new  # [b x m]\n",
    "        iter_count += 1\n",
    "        if iter_count >= 50:\n",
    "            assert (iter_count < 50), 'Arctan update has failed to converge'\n",
    "\n",
    "    # Make a float so that can be operated on with other tensors\n",
    "    a = a.float()\n",
    "\n",
    "    # Calculate grad_weight, grad_bias and return all gradients\n",
    "    grad_weight, grad_bias = calc_weigh_bias_grad(weight, mu, lr, a, d, input, z_norm, bias)\n",
    "\n",
    "    # Calculate input gradient\n",
    "    grad_output_scaled = grad_output / (1 + logit ** 2)  # [b x m]\n",
    "    grad_input = grad_output_scaled.mm(weight)  # [b x n]\n",
    "\n",
    "    return grad_input, grad_weight, grad_bias"
   ]
  },
  {
   "cell_type": "markdown",
   "metadata": {},
   "source": [
    "## New ISGD implementation"
   ]
  },
  {
   "cell_type": "code",
   "execution_count": 22,
   "metadata": {
    "collapsed": true
   },
   "outputs": [],
   "source": [
    "def cube_solver(b, c):\n",
    "    delta = 27 * (b ** 2) - 4 * b * (c ** 3) - 36 * b * c + 4 * (c ** 4) + 8 * (c ** 2) + 4  # [b x m]\n",
    "    delta = torch.clamp(delta, min=0.0)\n",
    "    gamma = 27 * b - 2 * (c ** 3) - 18 * c  # [b x m]\n",
    "    beta = (3 * ((3 * delta) ** (1/2)) + gamma)\n",
    "    cr_beta = torch.sign(beta) * (torch.abs(beta) ** (1/3))\n",
    "    v = cr_beta / (3 * (2 ** (1/3))) - (2 ** (1/3)) * (3 - c**2) / (3 * cr_beta) + 2 * c / 3\n",
    "\n",
    "    \n",
    "#     # Check that the solution is valid\n",
    "#     diff = x * (1 + (x - c)**2) - b\n",
    "#     print(diff)\n",
    "\n",
    "    return v #.float()"
   ]
  },
  {
   "cell_type": "code",
   "execution_count": 40,
   "metadata": {
    "collapsed": true
   },
   "outputs": [],
   "source": [
    "def iterative_cube_solver(b, c):\n",
    "    # Solves for v in the equation:  v * (1 + (v - c)**2) = b\n",
    "    # Assume that b is close to zero so can initialize with v = 0\n",
    "    \n",
    "    # Making the substitution v = x + 2c/3 the equation reduces to\n",
    "    #     x**3 - beta * x - gamma = 0\n",
    "    # where beta = 1 - c**2/3 and gamma = b - 2c/3 * (1 + c**2/9)\n",
    "    # This equation is solved iteratively via\n",
    "    #     x = (gamma - x**3) / beta\n",
    "    # Initialized at x = -2c/3, which is equivalent to v = 0\n",
    "    \n",
    "    # Set constants\n",
    "    beta = 1 - c**2/3\n",
    "    gamma = b - 2*c/3 * (1 + c**2/9)\n",
    "    \n",
    "    # Initialize x\n",
    "    x = -2*c/3\n",
    "    \n",
    "    # Iterate\n",
    "    x_diff = 1\n",
    "    iter_count = 0\n",
    "    while x_diff>1e-10:\n",
    "        print(x)\n",
    "#         x_new = (gamma - x**3) / beta\n",
    "#         x_new = gamma / (x ** 2 - beta)\n",
    "        y = gamma + beta * x\n",
    "        x_new = 0.5 * torch.sign(y) * (torch.abs(y)**(1/3)) + 0.5 * x\n",
    "        x_diff = torch.norm(x - x_diff)\n",
    "        x = x_new\n",
    "        iter_count += 1\n",
    "        if iter_count >50:\n",
    "            print('Failed to converge')\n",
    "            break\n",
    "            \n",
    "    v = x + 2*c/3\n",
    "    return v\n",
    "    "
   ]
  },
  {
   "cell_type": "code",
   "execution_count": 42,
   "metadata": {
    "collapsed": true
   },
   "outputs": [],
   "source": [
    "def cubic_root_numpy(b, c):\n",
    "    # Solves for v in the equation:  v * (1 + (v - c)**2) = b\n",
    "    # Assume that b is close to zero so can initialize with v = 0\n",
    "    \n",
    "    # Making the substitution v = x + 2c/3 the equation reduces to\n",
    "    #     x**3 + beta * x + gamma = 0\n",
    "    # where beta = c**2/3 - 1 and gamma = 2c/3 * (1 + c**2/9) - b\n",
    "    \n",
    "    # Set constants\n",
    "    beta = (c**2/3 - 1).numpy()\n",
    "    gamma = (2*c/3 * (1 + c**2/9) - b).numpy()\n",
    "    \n",
    "    print(beta)\n",
    "    print(gamma)\n",
    "    \n",
    "    print(np.roots([1,0,]))"
   ]
  },
  {
   "cell_type": "code",
   "execution_count": 43,
   "metadata": {},
   "outputs": [
    {
     "name": "stdout",
     "output_type": "stream",
     "text": [
      "[-32.33333206]\n",
      "[-30.74073792]\n"
     ]
    }
   ],
   "source": [
    "cubic_root_numpy(b, c)"
   ]
  },
  {
   "cell_type": "code",
   "execution_count": 30,
   "metadata": {},
   "outputs": [
    {
     "name": "stdout",
     "output_type": "stream",
     "text": [
      "\n",
      "-1.0970e+05\n",
      "[torch.FloatTensor of size 1]\n",
      "\n",
      "\n",
      "-830\n",
      "[torch.FloatTensor of size 1]\n",
      "\n",
      "\n",
      "nan\n",
      "[torch.FloatTensor of size 1]\n",
      "\n"
     ]
    }
   ],
   "source": [
    "b = torch.Tensor([50])\n",
    "c = torch.Tensor([10])\n",
    "delta = 27 * (b ** 2) - 4 * b * (c ** 3) - 36 * b * c + 4 * (c ** 4) + 8 * (c ** 2) + 4  # [b x m]\n",
    "gamma = 27 * b - 2 * (c ** 3) - 18 * c  # [b x m]\n",
    "beta = (3 * ((3 * delta) ** (1/2)) + gamma)\n",
    "\n",
    "print(delta)\n",
    "print(gamma)\n",
    "print(beta)\n",
    "# cube_solver(, )"
   ]
  },
  {
   "cell_type": "code",
   "execution_count": null,
   "metadata": {
    "collapsed": true
   },
   "outputs": [],
   "source": []
  },
  {
   "cell_type": "code",
   "execution_count": 11,
   "metadata": {
    "collapsed": true
   },
   "outputs": [],
   "source": [
    "def isgd_new_arctan(input, weight, bias, output, logit, grad_output):\n",
    "    \n",
    "    # Hyperparameters\n",
    "    lr = 0.0001\n",
    "    mu = 0.0\n",
    "\n",
    "    # ISGD constants\n",
    "    # Make doubles to avoid rounding errors\n",
    "    z_norm_squared = (torch.norm(input, p=2, dim=1) ** 2 + 1.0).double()  # [b]\n",
    "    c = (logit / (1.0 + lr * mu)).double()  # [b x m]\n",
    "    g = grad_output.double()\n",
    "    b = torch.mul(z_norm_squared, g.t()).t() * lr / (1 + lr * mu)\n",
    "    \n",
    "    # Solves for v in the equation:  v * (1 + (v - c)**2) = b\n",
    "    delta = 27 * (b ** 2) - 4 * b * (c ** 3) - 36 * b * c + 4 * (c ** 4) + 8 * (c ** 2) + 4  # [b x m]\n",
    "    gamma = 27 * b - 2 * (c ** 3) - 18 * c  # [b x m]\n",
    "    beta = (3 * ((3 * delta) ** (1/2)) + gamma)\n",
    "    cr_beta = torch.sign(beta) * (torch.abs(beta) ** (1/3))\n",
    "    v = cr_beta / (3 * (2 ** (1/3))) - (2 ** (1/3)) * (3 - c**2) / (3 * cr_beta) + 2 * c / 3\n",
    "    \n",
    "    # Calculate u in terms of v\n",
    "    u = torch.div(v.t(), lr * z_norm_squared).t()\n",
    "    u = u.float()\n",
    "\n",
    "    # Calculate input gradient\n",
    "    grad_output_scaled = grad_output / (1 + logit ** 2)  # [b x m]\n",
    "    grad_input = grad_output_scaled.mm(weight)  # [b x n]\n",
    "\n",
    "    # Calculate grad_weight, grad_bias\n",
    "    grad_weight = weight * mu / (1.0 + lr * mu) + u.t().mm(input)  # [m x n]\n",
    "    grad_bias = bias * mu / (1.0 + lr * mu) + u.t().sum(1)  # [m]\n",
    "    \n",
    "    return grad_input, grad_weight, grad_bias"
   ]
  },
  {
   "cell_type": "markdown",
   "metadata": {},
   "source": [
    "## Test the differences between ESGD, ISGD old and ISGD_new"
   ]
  },
  {
   "cell_type": "code",
   "execution_count": 12,
   "metadata": {},
   "outputs": [
    {
     "name": "stdout",
     "output_type": "stream",
     "text": [
      "\n",
      "Difference between ESGD and ISGD new\n",
      "[\n",
      " 0  0\n",
      " 0  0\n",
      " 0  0\n",
      " 0  0\n",
      "[torch.FloatTensor of size 4x2]\n",
      ", \n",
      "1.00000e-04 *\n",
      " -1.5751  1.7595\n",
      "  0.6604  0.1469\n",
      "  5.5218 -0.3803\n",
      "[torch.FloatTensor of size 3x2]\n",
      ", \n",
      "1.00000e-04 *\n",
      " -1.3107\n",
      " -0.5925\n",
      " -3.4374\n",
      "[torch.FloatTensor of size 3]\n",
      "]\n"
     ]
    }
   ],
   "source": [
    "# Random data\n",
    "grad_output = torch.randn(batch, m)     # [b x m]\n",
    "input = torch.randn(batch, n)           # [b x n]\n",
    "weight = torch.randn(m, n)          # [m x n]\n",
    "bias = torch.randn(m,)              # [m]\n",
    "\n",
    "# Forward propagation\n",
    "# Calculate logit [1 x m], where logit = input.mm(weight.t()) + bias\n",
    "logit = calc_logit(input, weight, bias)\n",
    "\n",
    "# Non-linear activation function\n",
    "output = torch.atan(logit)  # [1 x m]\n",
    "\n",
    "# Calculate gradients\n",
    "esgd_grads = esgd_arctan(grad_output, input, weight, bias, output)\n",
    "isgd_grads = isgd_arctan2(grad_output, input, weight, bias, output, logit)\n",
    "isgd_new_grads = isgd_new_arctan(input, weight, bias, output, logit, grad_output)\n",
    "\n",
    "# print(esgd_grads)\n",
    "# print(isgd_new_grads)\n",
    "# Print difference\n",
    "# print('Difference between ESGD and ISGD old')\n",
    "# print([(x-y) for x,y in zip(isgd_grads, esgd_grads)])\n",
    "\n",
    "print('\\nDifference between ESGD and ISGD new')\n",
    "print([(x-y) for x,y in zip(isgd_new_grads, esgd_grads)])"
   ]
  },
  {
   "cell_type": "code",
   "execution_count": 13,
   "metadata": {},
   "outputs": [],
   "source": [
    "# Hyperparameters\n",
    "lr = 0.001\n",
    "mu = 0.0\n",
    "\n",
    "# ISGD constants\n",
    "z_norm_squared = (torch.norm(input, p=2, dim=1) ** 2 + 1.0).double()  # [b]\n",
    "c = (logit / (1.0 + lr * mu)).double()  # [b x m]\n",
    "\n",
    "# Calculate u\n",
    "# Calculate conditions for u\n",
    "\n",
    "#     b = torch.mul(z_norm_squared, grad_output.t()).t() * lr / (1 + lr * mu)\n",
    "#     v = cube_solver(b, c)\n",
    "#     u = torch.div(v.t(), lr * z_norm_squared).t()\n",
    "\n",
    "g = grad_output.double()\n",
    "\n",
    "b = torch.mul(z_norm_squared, g.t()).t() * lr / (1 + lr * mu)\n",
    "v = cube_solver(b, c)\n",
    "u = torch.div(v.t(), lr * z_norm_squared).t()"
   ]
  },
  {
   "cell_type": "code",
   "execution_count": 14,
   "metadata": {
    "collapsed": true
   },
   "outputs": [],
   "source": [
    "def v_diff(grad_output, c, lr, z_norm_squared, v):\n",
    "    b = torch.mul(z_norm_squared, grad_output.t()).t() * lr / (1 + lr * mu)\n",
    "    return v - b / (1.0 + (c - v) ** 2)"
   ]
  },
  {
   "cell_type": "code",
   "execution_count": 15,
   "metadata": {
    "collapsed": true
   },
   "outputs": [],
   "source": [
    "def u_diff(grad_output, c, lr, z_norm_squared, u):\n",
    "    return u - grad_output / (1.0 + (c - lr * torch.mul(z_norm_squared, u.t()).t()) ** 2) / (1.0 + lr * mu)"
   ]
  },
  {
   "cell_type": "code",
   "execution_count": 16,
   "metadata": {},
   "outputs": [
    {
     "name": "stdout",
     "output_type": "stream",
     "text": [
      "v_diff:  \n",
      "1.00000e-15 *\n",
      " -0.0690  0.4400 -0.0489\n",
      "  2.6344  0.0087 -0.1292\n",
      " -0.2047  1.5050 -0.0902\n",
      "  0.0022 -0.2526 -0.4137\n",
      "[torch.DoubleTensor of size 4x3]\n",
      "\n",
      "u_diff:  \n",
      "1.00000e-13 *\n",
      " -0.6736  4.2948 -0.4774\n",
      "  7.8187  0.0255 -0.3841\n",
      " -0.7316  5.3756 -0.3221\n",
      "  0.0044 -0.4841 -0.7928\n",
      "[torch.DoubleTensor of size 4x3]\n",
      "\n"
     ]
    }
   ],
   "source": [
    "print('v_diff: ', v_diff(g, c, lr, z_norm_squared, v))\n",
    "print('u_diff: ', u_diff(g, c, lr, z_norm_squared, u))"
   ]
  },
  {
   "cell_type": "code",
   "execution_count": 17,
   "metadata": {},
   "outputs": [
    {
     "name": "stdout",
     "output_type": "stream",
     "text": [
      "\n",
      "1.00000e-15 *\n",
      " -0.0690  0.4400 -0.0489\n",
      "  2.6344  0.0087 -0.1292\n",
      " -0.2047  1.5050 -0.0902\n",
      "  0.0022 -0.2526 -0.4137\n",
      "[torch.DoubleTensor of size 4x3]\n",
      "\n",
      "\n",
      "1.00000e-13 *\n",
      " -0.6736  4.2948 -0.4774\n",
      "  7.8187  0.0255 -0.3841\n",
      " -0.7316  5.3756 -0.3221\n",
      "  0.0044 -0.4841 -0.7928\n",
      "[torch.DoubleTensor of size 4x3]\n",
      "\n",
      "\n",
      "-0.0479  0.0383 -0.4044\n",
      " 0.3385  0.5873  1.0314\n",
      "-0.7171 -0.0003  0.0041\n",
      " 0.6961 -0.1512  0.0176\n",
      "[torch.DoubleTensor of size 4x3]\n",
      "\n"
     ]
    }
   ],
   "source": [
    "b = torch.mul(z_norm_squared, g.t()).t() * lr / (1 + lr * mu)\n",
    "print(v - b / (1.0 + (c - v) ** 2))\n",
    "u = torch.div(v.t(), lr * z_norm_squared).t()\n",
    "# print(u - torch.div((b / (1.0 + (c - v) ** 2) ).t(), lr * z_norm_squared).t())\n",
    "print(u - g / (1.0 + (c - v) ** 2) / (1 + lr * mu) )\n",
    "print(u)"
   ]
  },
  {
   "cell_type": "code",
   "execution_count": 18,
   "metadata": {},
   "outputs": [
    {
     "name": "stdout",
     "output_type": "stream",
     "text": [
      "explicit u_diff:  \n",
      "-3.4889e-07 -1.3938e-06 -1.6739e-04\n",
      "-3.8511e-04  4.9002e-04  3.6018e-03\n",
      " 4.4938e-04 -1.0331e-10  3.5541e-08\n",
      " 1.2507e-03  1.0499e-04 -5.4801e-07\n",
      "[torch.DoubleTensor of size 4x3]\n",
      "\n",
      "implicit u_diff:  \n",
      "1.00000e-13 *\n",
      " -0.6736  4.2948 -0.4774\n",
      "  7.8187  0.0255 -0.3841\n",
      " -0.7316  5.3756 -0.3221\n",
      "  0.0044 -0.4841 -0.7928\n",
      "[torch.DoubleTensor of size 4x3]\n",
      "\n"
     ]
    }
   ],
   "source": [
    "# If accurate these should all be zero\n",
    "u_esgd = g /(1 + logit.double() ** 2)\n",
    "print('explicit u_diff: ', u_diff(g, c, lr, z_norm_squared, u_esgd.double()))\n",
    "print('implicit u_diff: ', u_diff(g, c, lr, z_norm_squared, u))"
   ]
  },
  {
   "cell_type": "code",
   "execution_count": 19,
   "metadata": {},
   "outputs": [
    {
     "name": "stdout",
     "output_type": "stream",
     "text": [
      "\n",
      "1.00000e-15 *\n",
      " -0.0690  0.4400 -0.0489\n",
      "  2.6344  0.0087 -0.1292\n",
      " -0.2047  1.5050 -0.0902\n",
      "  0.0022 -0.2526 -0.4137\n",
      "[torch.DoubleTensor of size 4x3]\n",
      "\n",
      "\n",
      "1.00000e-13 *\n",
      " -0.6737  4.2949 -0.4774\n",
      "  7.8187  0.0255 -0.3841\n",
      " -0.7316  5.3756 -0.3221\n",
      "  0.0033 -0.4841 -0.7929\n",
      "[torch.DoubleTensor of size 4x3]\n",
      "\n",
      "\n",
      "1.00000e-13 *\n",
      " -0.6736  4.2948 -0.4774\n",
      "  7.8187  0.0255 -0.3841\n",
      " -0.7316  5.3756 -0.3221\n",
      "  0.0044 -0.4841 -0.7928\n",
      "[torch.DoubleTensor of size 4x3]\n",
      "\n"
     ]
    }
   ],
   "source": [
    "b = torch.mul(z_norm_squared, g.t()).t() * lr / (1 + lr * mu)\n",
    "print(v - b / (1.0 + (c - v) ** 2))\n",
    "print(torch.div(v.t(), lr * z_norm_squared).t() - torch.div((b / (1.0 + (c - v) ** 2)).t(), lr * z_norm_squared).t())\n",
    "print(u - g / (1.0 + (c - lr * torch.mul(z_norm_squared, u.t()).t()) ** 2) / (1.0 + lr * mu))"
   ]
  }
 ],
 "metadata": {
  "kernelspec": {
   "display_name": "Python 3",
   "language": "python",
   "name": "python3"
  },
  "language_info": {
   "codemirror_mode": {
    "name": "ipython",
    "version": 3
   },
   "file_extension": ".py",
   "mimetype": "text/x-python",
   "name": "python",
   "nbconvert_exporter": "python",
   "pygments_lexer": "ipython3",
   "version": "3.6.1"
  }
 },
 "nbformat": 4,
 "nbformat_minor": 2
}
