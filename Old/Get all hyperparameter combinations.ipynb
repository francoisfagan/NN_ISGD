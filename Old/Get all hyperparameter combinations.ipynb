{
 "cells": [
  {
   "cell_type": "code",
   "execution_count": 1,
   "metadata": {
    "collapsed": true
   },
   "outputs": [],
   "source": [
    "import itertools"
   ]
  },
  {
   "cell_type": "code",
   "execution_count": 4,
   "metadata": {
    "collapsed": true
   },
   "outputs": [],
   "source": [
    "hyperparameter_lists = {\n",
    "    'architecture': ['convffnn'],\n",
    "    'batch_size': [100],\n",
    "    'clipping_threshold': [0.0],\n",
    "    'dataset_name': ['mnist'],\n",
    "    'epochs': [3],\n",
    "    'initialization_scale': ['\\sqrt{\\frac{6}{n+m}}'],\n",
    "    'lr': [0.1],\n",
    "    'momentum': [0.0],\n",
    "    'mu': [0.0],\n",
    "    'seed': [1,2,3],\n",
    "    'sgdtype': ['explicit']}"
   ]
  },
  {
   "cell_type": "code",
   "execution_count": 5,
   "metadata": {},
   "outputs": [
    {
     "name": "stdout",
     "output_type": "stream",
     "text": [
      "{'architecture': 'convffnn', 'batch_size': 100, 'clipping_threshold': 0.0, 'dataset_name': 'mnist', 'epochs': 3, 'initialization_scale': '\\\\sqrt{\\x0crac{6}{n+m}}', 'lr': 0.1, 'momentum': 0.0, 'mu': 0.0, 'seed': 1, 'sgdtype': 'explicit'}\n",
      "{'architecture': 'convffnn', 'batch_size': 100, 'clipping_threshold': 0.0, 'dataset_name': 'mnist', 'epochs': 3, 'initialization_scale': '\\\\sqrt{\\x0crac{6}{n+m}}', 'lr': 0.1, 'momentum': 0.0, 'mu': 0.0, 'seed': 2, 'sgdtype': 'explicit'}\n",
      "{'architecture': 'convffnn', 'batch_size': 100, 'clipping_threshold': 0.0, 'dataset_name': 'mnist', 'epochs': 3, 'initialization_scale': '\\\\sqrt{\\x0crac{6}{n+m}}', 'lr': 0.1, 'momentum': 0.0, 'mu': 0.0, 'seed': 3, 'sgdtype': 'explicit'}\n"
     ]
    }
   ],
   "source": [
    "list_of_hyperparameter_tuples = [[(key, value) for value in values] for key, values in hyperparameter_lists.items()]\n",
    "for hyperparameter_tuple in itertools.product(*list_of_hyperparameter_tuples):\n",
    "    hyperparameter = dict(hyperparameter_tuple)\n",
    "    print(hyperparameter)"
   ]
  }
 ],
 "metadata": {
  "kernelspec": {
   "display_name": "Python 3",
   "language": "python",
   "name": "python3"
  },
  "language_info": {
   "codemirror_mode": {
    "name": "ipython",
    "version": 3
   },
   "file_extension": ".py",
   "mimetype": "text/x-python",
   "name": "python",
   "nbconvert_exporter": "python",
   "pygments_lexer": "ipython3",
   "version": "3.6.1"
  }
 },
 "nbformat": 4,
 "nbformat_minor": 2
}
