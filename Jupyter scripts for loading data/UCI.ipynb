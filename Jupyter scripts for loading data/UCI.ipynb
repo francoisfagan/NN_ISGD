{
 "cells": [
  {
   "cell_type": "markdown",
   "metadata": {},
   "source": [
    "# Code for loading UCI datasets\n",
    "Using preprocessed data downloaded from: https://github.com/bioinf-jku/SNNs"
   ]
  },
  {
   "cell_type": "code",
   "execution_count": 1,
   "metadata": {
    "collapsed": true
   },
   "outputs": [],
   "source": [
    "import numpy as np"
   ]
  },
  {
   "cell_type": "code",
   "execution_count": 2,
   "metadata": {
    "collapsed": true
   },
   "outputs": [],
   "source": [
    "path = './../data/classification/'\n",
    "dataset_name = 'annealing'\n",
    "dataset_path = path + dataset_name + '/'"
   ]
  },
  {
   "cell_type": "code",
   "execution_count": 3,
   "metadata": {
    "collapsed": true
   },
   "outputs": [],
   "source": [
    "x = np.loadtxt(open(dataset_path + dataset_name + '_py.dat'), delimiter=\",\", skiprows=1)\n",
    "y = np.loadtxt(open(dataset_path + 'labels_py.dat'), delimiter=\",\", skiprows=1)\n",
    "folds = np.loadtxt(open(dataset_path + 'folds_py.dat'), delimiter=\",\", skiprows=1)\n",
    "validation_folds = np.loadtxt(open(dataset_path + 'validation_folds_py.dat'), delimiter=\",\", skiprows=1)"
   ]
  },
  {
   "cell_type": "code",
   "execution_count": 4,
   "metadata": {},
   "outputs": [
    {
     "name": "stdout",
     "output_type": "stream",
     "text": [
      "(897, 31)\n",
      "(897, 4)\n",
      "(897,)\n",
      "(897, 4)\n"
     ]
    }
   ],
   "source": [
    "print(x.shape)\n",
    "print(folds.shape)\n",
    "print(y.shape)\n",
    "print(validation_folds.shape)"
   ]
  },
  {
   "cell_type": "code",
   "execution_count": 5,
   "metadata": {},
   "outputs": [
    {
     "name": "stdout",
     "output_type": "stream",
     "text": [
      "400.0\n",
      "667.0\n"
     ]
    }
   ],
   "source": [
    "# No idea what folds and validation_folds are\n",
    "# They don't seem to add up to the number of datapoints\n",
    "print(sum(sum(folds)))\n",
    "print(sum(sum(validation_folds)))"
   ]
  }
 ],
 "metadata": {
  "kernelspec": {
   "display_name": "Python 3",
   "language": "python",
   "name": "python3"
  },
  "language_info": {
   "codemirror_mode": {
    "name": "ipython",
    "version": 3
   },
   "file_extension": ".py",
   "mimetype": "text/x-python",
   "name": "python",
   "nbconvert_exporter": "python",
   "pygments_lexer": "ipython3",
   "version": "3.6.1"
  }
 },
 "nbformat": 4,
 "nbformat_minor": 2
}
