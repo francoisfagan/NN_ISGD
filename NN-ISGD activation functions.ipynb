{
 "cells": [
  {
   "cell_type": "code",
   "execution_count": 1,
   "metadata": {
    "collapsed": true
   },
   "outputs": [],
   "source": [
    "from __future__ import print_function\n",
    "import torch\n",
    "import math"
   ]
  },
  {
   "cell_type": "code",
   "execution_count": 2,
   "metadata": {
    "collapsed": true
   },
   "outputs": [],
   "source": [
    "lr = 0.01\n",
    "mu = 0.0"
   ]
  },
  {
   "cell_type": "code",
   "execution_count": 3,
   "metadata": {},
   "outputs": [
    {
     "name": "stdout",
     "output_type": "stream",
     "text": [
      "grad_output:  \n",
      " 0.2842 -1.9836  0.9476 -0.0175 -0.9988\n",
      "[torch.FloatTensor of size 1x5]\n",
      "\n"
     ]
    }
   ],
   "source": [
    "grad_output = torch.randn(1, 5)\n",
    "print('grad_output: ', grad_output)"
   ]
  },
  {
   "cell_type": "markdown",
   "metadata": {},
   "source": [
    "# Linear"
   ]
  },
  {
   "cell_type": "code",
   "execution_count": 4,
   "metadata": {},
   "outputs": [
    {
     "name": "stdout",
     "output_type": "stream",
     "text": [
      "input:  \n",
      "-0.5359  0.7310  0.1093\n",
      "[torch.FloatTensor of size 1x3]\n",
      "\n",
      "weight:  torch.Size([5, 3])\n",
      "bias:  torch.Size([5])\n",
      "output:  torch.Size([1, 5])\n"
     ]
    }
   ],
   "source": [
    "# Forward propagation\n",
    "input = torch.randn(1, 3)\n",
    "weight = torch.randn(5, 3)\n",
    "bias = torch.randn(5,)\n",
    "output = input.mm(weight.t())\n",
    "output += bias.unsqueeze(0).expand_as(output)\n",
    "\n",
    "print('input: ', input)\n",
    "print('weight: ', weight.size())\n",
    "print('bias: ', bias.size())\n",
    "print('output: ', output.size())"
   ]
  },
  {
   "cell_type": "markdown",
   "metadata": {},
   "source": [
    "## ESGD"
   ]
  },
  {
   "cell_type": "code",
   "execution_count": 5,
   "metadata": {},
   "outputs": [
    {
     "name": "stdout",
     "output_type": "stream",
     "text": [
      "\n",
      "-3.9880 -4.9535 -3.0896\n",
      "[torch.FloatTensor of size 1x3]\n",
      " \n",
      "-0.1523  0.2077  0.0311\n",
      " 1.0629 -1.4500 -0.2169\n",
      "-0.5078  0.6927  0.1036\n",
      " 0.0094 -0.0128 -0.0019\n",
      " 0.5352 -0.7301 -0.1092\n",
      "[torch.FloatTensor of size 5x3]\n",
      " \n",
      " 0.2842\n",
      "-1.9836\n",
      " 0.9476\n",
      "-0.0175\n",
      "-0.9988\n",
      "[torch.FloatTensor of size 5]\n",
      "\n"
     ]
    }
   ],
   "source": [
    "grad_input = grad_weight = grad_bias = None\n",
    "grad_input = grad_output.mm(weight)\n",
    "grad_weight = grad_output.t().mm(input)\n",
    "grad_bias = grad_output.sum(0).squeeze(0)\n",
    "\n",
    "print(grad_input, grad_weight, grad_bias)"
   ]
  },
  {
   "cell_type": "markdown",
   "metadata": {},
   "source": [
    "## ISGD"
   ]
  },
  {
   "cell_type": "code",
   "execution_count": 6,
   "metadata": {
    "collapsed": true
   },
   "outputs": [],
   "source": [
    "def alpha_linear(s,d,c):\n",
    "    return -s.mul(d)"
   ]
  },
  {
   "cell_type": "code",
   "execution_count": 8,
   "metadata": {},
   "outputs": [
    {
     "name": "stdout",
     "output_type": "stream",
     "text": [
      "\n",
      "-3.9880 -4.9535 -3.0896\n",
      "[torch.FloatTensor of size 1x3]\n",
      " \n",
      "-0.1523  0.2077  0.0311\n",
      " 1.0629 -1.4500 -0.2169\n",
      "-0.5078  0.6927  0.1036\n",
      " 0.0094 -0.0128 -0.0019\n",
      " 0.5352 -0.7301 -0.1092\n",
      "[torch.FloatTensor of size 5x3]\n",
      " \n",
      " 0.2842\n",
      "-1.9836\n",
      " 0.9477\n",
      "-0.0175\n",
      "-0.9988\n",
      "[torch.FloatTensor of size 5]\n",
      "\n"
     ]
    }
   ],
   "source": [
    "# Constants\n",
    "s = torch.sign(grad_output)\n",
    "z_norm = math.sqrt((torch.norm(input) ** 2 + 1.0))\n",
    "d = z_norm * math.sqrt(lr/(1.0+lr*mu)) * torch.sqrt(torch.abs(grad_output))\n",
    "c = output/(1.0+lr*mu)\n",
    "alpha = alpha_linear(s,d,c)\n",
    "\n",
    "new_weight = weight / (1.0 + lr * mu) + (alpha.mul(d)).t().mm(input) / z_norm **2\n",
    "grad_weight = (weight - new_weight) / lr\n",
    "\n",
    "new_bias = bias / (1.0 + lr * mu) + alpha.mul(d).squeeze() / z_norm **2\n",
    "grad_bias = (bias - new_bias) / lr\n",
    "\n",
    "print(grad_input, grad_weight, grad_bias)"
   ]
  },
  {
   "cell_type": "code",
   "execution_count": null,
   "metadata": {},
   "outputs": [],
   "source": [
    "v = alpha.mul(d)\n",
    "print(weight)\n",
    "print(v)\n",
    "print(v.t() * weight)\n",
    "print(weight * v.t())\n",
    "print([-1.4060*0.0078, -0.7285*0.0078, -0.0530*0.0078])"
   ]
  },
  {
   "cell_type": "code",
   "execution_count": null,
   "metadata": {},
   "outputs": [],
   "source": [
    "\n",
    "# Note that torch.norm outputs a float instead of a tensor\n",
    "z_norm = math.sqrt((torch.norm(input) ** 2 + 1.0))\n",
    "d = z_norm * math.sqrt(lr/(1.0+lr*mu)) * torch.sqrt(abs_grad_output)\n",
    "c = output/(1.0+lr*mu)\n",
    "# print('s: ', s)\n",
    "# print('delta: ', d) \n",
    "# print(c)\n",
    "\n",
    "# Calculate alpha\n",
    "alpha = alpha_linear(s,d,c)\n",
    "# print(alpha)\n",
    "\n",
    "# Calculate gradients\n",
    "new_weight = weight / (1.0 + lr * mu) + alpha.mul(d).mm(weight) / z_norm**2\n",
    "grad_weight = (weight - new_weight) / lr\n",
    "# print(weight)\n",
    "# print(new_weight)\n",
    "# print(grad_weight)\n",
    "\n",
    "new_bias = bias / (1.0 + lr * mu) #+ alpha.mul(d).squeeze().mul(bias) / z_norm**2\n",
    "grad_bias = (bias - new_bias) / lr\n",
    "# print(bias)\n",
    "# print(new_bias)\n",
    "# print(grad_bias)\n",
    "\n",
    "\n",
    "sgn_output = (output >= 0).type(torch.FloatTensor)\n",
    "grad_input = (grad_output.mul(sgn_output)).mm(weight)\n",
    "# print(grad_input)\n",
    "\n",
    "print(grad_input, grad_weight, grad_bias)"
   ]
  },
  {
   "cell_type": "markdown",
   "metadata": {},
   "source": [
    "# Relu"
   ]
  },
  {
   "cell_type": "markdown",
   "metadata": {},
   "source": [
    "## ESGD"
   ]
  },
  {
   "cell_type": "markdown",
   "metadata": {},
   "source": [
    "## Forward propagation"
   ]
  },
  {
   "cell_type": "code",
   "execution_count": null,
   "metadata": {},
   "outputs": [],
   "source": [
    "input = torch.randn(1, 3)\n",
    "weight = torch.randn(5, 3)\n",
    "bias = torch.randn(5,)\n",
    "output = input.mm(weight.t())\n",
    "output += bias.unsqueeze(0).expand_as(output)\n",
    "relu = torch.clamp(output, min=0.0)\n",
    "\n",
    "print('input: ', input)\n",
    "print('weight: ', weight.size())\n",
    "print('bias: ', bias.size())\n",
    "print('output: ', output.size())\n",
    "print('relu: ', relu.size())"
   ]
  },
  {
   "cell_type": "markdown",
   "metadata": {},
   "source": [
    "## Back-propagation"
   ]
  },
  {
   "cell_type": "markdown",
   "metadata": {},
   "source": [
    "## ISGD"
   ]
  },
  {
   "cell_type": "code",
   "execution_count": null,
   "metadata": {},
   "outputs": [],
   "source": [
    "# Constants\n",
    "s = torch.sign(grad_output)\n",
    "abs_grad_output = torch.abs(grad_output)\n",
    "# Note that torch.norm outputs a float instead of a tensor\n",
    "z_norm = math.sqrt((torch.norm(input) ** 2 + 1.0))\n",
    "d = z_norm * math.sqrt(lr/(1.0+lr*mu)) * torch.sqrt(abs_grad_output)\n",
    "c = output/(1.0+lr*mu)\n",
    "# print('s: ', s)\n",
    "# print('delta: ', d) \n",
    "# print(c)\n",
    "\n",
    "# Calculate alpha\n",
    "alpha = alpha_relu(s,d,c)\n",
    "\n",
    "# Calculate gradients\n",
    "new_weight = weight / (1.0 + lr * mu) + alpha.mul(d).mm(weight) / z_norm**2\n",
    "grad_weight = (weight - new_weight) / lr\n",
    "# print(weight)\n",
    "# print(new_weight)\n",
    "# print(grad_weight)\n",
    "\n",
    "new_bias = bias / (1.0 + lr * mu) + alpha.mul(d).squeeze().mul(bias) / z_norm**2\n",
    "grad_bias = (bias - new_bias) / lr\n",
    "# print(bias)\n",
    "# print(new_bias)\n",
    "# print(grad_bias)\n",
    "\n",
    "sgn_output = (output >= 0).type(torch.FloatTensor)\n",
    "grad_input = (grad_output.mul(sgn_output)).mm(weight)\n",
    "print(grad_input)"
   ]
  },
  {
   "cell_type": "code",
   "execution_count": null,
   "metadata": {
    "collapsed": true
   },
   "outputs": [],
   "source": [
    "def alpha_relu(s,d,c):\n",
    "#     cond1 = (s == 1).mul(c <= 0).type(torch.FloatTensor)\n",
    "    cond2 = (s == 1).mul(c > 0).mul(c <= d**2).type(torch.FloatTensor)\n",
    "    cond3 = (s == 1).mul(c > d**2).type(torch.FloatTensor)\n",
    "#     cond4 = (s == -1).mul(c <= -d**2/2.0).type(torch.FloatTensor)\n",
    "    cond5 = (s == -1).mul(c > -d**2/2.0).type(torch.FloatTensor)\n",
    "    # print(cond1, cond2, cond3, cond4, cond5)\n",
    "\n",
    "    alpha = (0.0\n",
    "#              + 0.0 * cond1\n",
    "            - (c.div(d)).mul(cond2)\n",
    "            - d.mul(cond3)\n",
    "#             + 0.0 * cond4\n",
    "            + d.mul(cond5)\n",
    "            )\n",
    "\n",
    "    return alpha"
   ]
  },
  {
   "cell_type": "code",
   "execution_count": null,
   "metadata": {},
   "outputs": [],
   "source": [
    "alpha_relu(s,d,c)"
   ]
  },
  {
   "cell_type": "code",
   "execution_count": null,
   "metadata": {},
   "outputs": [],
   "source": [
    "# Understand grad_output_pos_out.sum(0).squeeze(0)\n",
    "print(grad_output_pos_out)\n",
    "print(grad_output_pos_out.sum(0))\n",
    "print(grad_output_pos_out.sum(0).squeeze(0))"
   ]
  },
  {
   "cell_type": "markdown",
   "metadata": {},
   "source": [
    "## Standard RELU"
   ]
  },
  {
   "cell_type": "code",
   "execution_count": null,
   "metadata": {},
   "outputs": [],
   "source": [
    "pos_out = (output >= 0).type(torch.FloatTensor)\n",
    "grad_output_pos_out = torch.mul(grad_output, pos_out)\n",
    "grad_input = grad_output_pos_out.mm(weight)\n",
    "grad_weight = grad_output_pos_out.t().mm(input)\n",
    "grad_bias = grad_output_pos_out.sum(0).squeeze(0)\n",
    "\n",
    "print('grad_output: ', grad_output.size())\n",
    "print('output: ', output.size())\n",
    "print('pos_out: ', pos_out.size())\n",
    "print('grad_output_pos_out: ', grad_output_pos_out.size())\n",
    "print('grad_input: ', grad_input.size())\n",
    "print('grad_bias: ', grad_bias.size())\n",
    "print('grad_weight: ', grad_weight.size())"
   ]
  }
 ],
 "metadata": {
  "kernelspec": {
   "display_name": "Python 3",
   "language": "python",
   "name": "python3"
  },
  "language_info": {
   "codemirror_mode": {
    "name": "ipython",
    "version": 3
   },
   "file_extension": ".py",
   "mimetype": "text/x-python",
   "name": "python",
   "nbconvert_exporter": "python",
   "pygments_lexer": "ipython3",
   "version": "3.6.1"
  }
 },
 "nbformat": 4,
 "nbformat_minor": 2
}
