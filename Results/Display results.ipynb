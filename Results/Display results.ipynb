{
 "cells": [
  {
   "cell_type": "markdown",
   "metadata": {},
   "source": [
    "# Display results\n",
    "This code enables easy selection of experimental results and plotting their values"
   ]
  },
  {
   "cell_type": "code",
   "execution_count": 1,
   "metadata": {
    "collapsed": true
   },
   "outputs": [],
   "source": [
    "import json\n",
    "import os\n",
    "import numpy as np\n",
    "import matplotlib.pyplot as plt\n",
    "from matplotlib.backends.backend_pdf import PdfPages"
   ]
  },
  {
   "cell_type": "code",
   "execution_count": 2,
   "metadata": {
    "collapsed": true
   },
   "outputs": [],
   "source": [
    "def satistifies_conditions(experiment, conditions):\n",
    "    \"\"\" Check if experiment hyperparameters satisfy desired conditions\n",
    "    \"\"\"\n",
    "    hp = experiment['hyperparameters']\n",
    "    \n",
    "    # Check if each condition satistified\n",
    "    # If not, then return false\n",
    "    for key, value in conditions.items():\n",
    "        if key not in hp or hp[key] not in value:\n",
    "            return False\n",
    "    \n",
    "    # All conditions are satisfied\n",
    "    return True"
   ]
  },
  {
   "cell_type": "code",
   "execution_count": 3,
   "metadata": {
    "collapsed": true
   },
   "outputs": [],
   "source": [
    "def load_experiments_satisfying_conditions(conditions, anti_conditions=dict()):\n",
    "    \"\"\" Load all experiments that satisfy the given conditions,\n",
    "    except those that also satisfy the anticonditions\n",
    "    Return them as a list.\n",
    "    \"\"\"\n",
    "    # Get all experiment filenames\n",
    "    experiment_filenames = [f for f in os.listdir(os.getcwd()) if f[-5:] == '.json']\n",
    "    \n",
    "    # Initialize list of experiments that satisfy the conditions\n",
    "    experiments_satisfactory = []\n",
    "    \n",
    "    # Load each experiment file\n",
    "    for experiment_filename in experiment_filenames:\n",
    "        with open(experiment_filename) as experiment_file:\n",
    "            experiment = json.load(experiment_file)\n",
    "            \n",
    "            # Check if experiment satistifies conditions\n",
    "            # If so, append to list of experiments satisfying the conditions\n",
    "            if satistifies_conditions(experiment, conditions):\n",
    "                if anti_conditions == dict() or not satistifies_conditions(experiment, anti_conditions):\n",
    "                    experiments_satisfactory.append(experiment)\n",
    "                \n",
    "    return experiments_satisfactory"
   ]
  },
  {
   "cell_type": "code",
   "execution_count": 4,
   "metadata": {
    "collapsed": true
   },
   "outputs": [],
   "source": [
    "def get_per_epoch_performance(experiments, dataset, measure):\n",
    "    \"\"\" For each experiment return it performance on the given dataset for the given measure\n",
    "    \"\"\"\n",
    "    \n",
    "    # Check that the dataset and measure is valid\n",
    "    assert measure in {'average_accuracy', 'average_loss'}\n",
    "    assert dataset in {'train', 'test'}\n",
    "    \n",
    "    # Infer the number of epochs and experiments\n",
    "    # and create corresponding performance matrix\n",
    "    num_epochs = experiments[0]['hyperparameters']['epochs']\n",
    "    num_experiments = len(experiments)\n",
    "    performance = np.zeros((num_experiments, num_epochs))\n",
    "    \n",
    "    # Extract performances\n",
    "    for i, experiment in enumerate(experiments):\n",
    "        performance[i, :] = experiment['results'][dataset][measure]\n",
    "        \n",
    "    return performance\n",
    "        "
   ]
  },
  {
   "cell_type": "markdown",
   "metadata": {},
   "source": [
    "# Example usage"
   ]
  },
  {
   "cell_type": "code",
   "execution_count": 5,
   "metadata": {
    "collapsed": true
   },
   "outputs": [],
   "source": [
    "# Specify conditions for experiments\n",
    "conditions = {\n",
    "    'architecture': {'convffnn'},\n",
    "    'batch_size': {100},\n",
    "    'clipping_threshold': {0.0},\n",
    "    'dataset_name': {'mnist'},\n",
    "    'epochs': {3},\n",
    "    'initialization_scale': {'\\sqrt{\\frac{6}{n+m}}'},\n",
    "    'lr': {0.1},\n",
    "    'momentum': {0.0},\n",
    "    'mu': {0.0},\n",
    "    'seed': {1,2,3,4,5,6,7,8,9,10},\n",
    "    'sgdtype': {'explicit'}}"
   ]
  },
  {
   "cell_type": "code",
   "execution_count": 6,
   "metadata": {
    "collapsed": true
   },
   "outputs": [],
   "source": [
    "# Load experiments and their performance\n",
    "experiments = load_experiments_satisfying_conditions(conditions)\n",
    "measure = 'average_accuracy'\n",
    "performance = get_per_epoch_performance(experiments, 'train', measure)"
   ]
  },
  {
   "cell_type": "code",
   "execution_count": 7,
   "metadata": {},
   "outputs": [
    {
     "data": {
      "image/png": "[encoded data removed]",
      "text/plain": [
       "<Figure size 432x288 with 1 Axes>"
      ]
     },
     "metadata": {},
     "output_type": "display_data"
    }
   ],
   "source": [
    "# Create data for plotting\n",
    "epochs = performance.shape[1]\n",
    "x = np.arange(1,1+epochs)\n",
    "y = np.mean(performance,0)\n",
    "yerr = np.std(performance,0)\n",
    "\n",
    "# Plot!\n",
    "plt.figure()\n",
    "plt.errorbar(x, y, yerr=yerr)\n",
    "plt.xlabel('Epochs')\n",
    "plt.ylabel(measure)\n",
    "plt.show()"
   ]
  },
  {
   "cell_type": "markdown",
   "metadata": {},
   "source": [
    "# Mnist experiments"
   ]
  },
  {
   "cell_type": "code",
   "execution_count": 8,
   "metadata": {
    "collapsed": true
   },
   "outputs": [],
   "source": [
    "def get_minst_conditions(sgdtype, lr):\n",
    "    condition = {\n",
    "    'architecture': {'convffnn'},\n",
    "    'batch_size': {100},\n",
    "    'clipping_threshold': {0.0},\n",
    "    'dataset_name': {'mnist'},\n",
    "    'epochs': {1},\n",
    "    'initialization_scale': {'\\sqrt{\\frac{6}{n+m}}'},\n",
    "    'lr': {lr},\n",
    "    'momentum': {0.0},\n",
    "    'mu': {0.0},\n",
    "    'seed': set(range(1,21)),\n",
    "    'sgdtype': {sgdtype}\n",
    "    }\n",
    "    \n",
    "    if sgdtype == 'exact ISGD':\n",
    "        condition = {\n",
    "        'architecture': {'convffnn'},\n",
    "        'batch_size': {100},\n",
    "        'clipping_threshold': {0.0},\n",
    "        'dataset_name': {'mnist'},\n",
    "        'epochs': {1},\n",
    "        'initialization_scale': {'\\sqrt{\\frac{6}{n+m}}'},\n",
    "        'inner_ISGD_iterations': [10],  # '0.1'\n",
    "        'lr': {lr},\n",
    "        'momentum': {0.0},\n",
    "        'mu': {0.0},\n",
    "        'seed': set(range(1,21)),\n",
    "        'sgdtype': {'explicit'}\n",
    "        }\n",
    "    \n",
    "    return condition"
   ]
  },
  {
   "cell_type": "code",
   "execution_count": 82,
   "metadata": {},
   "outputs": [
    {
     "data": {
      "image/png": "[encoded data removed]",
      "text/plain": [
       "<Figure size 360x216 with 1 Axes>"
      ]
     },
     "metadata": {},
     "output_type": "display_data"
    }
   ],
   "source": [
    "# Select what parameters to fix\n",
    "measure = 'average_accuracy' # 'average_loss' # \n",
    "dataset = 'train'\n",
    "scatter = False\n",
    "\n",
    "# Values to iterate over\n",
    "learning_rates = [0.2, 0.4, 0.6, 0.8, 1.0, 1.2, 1.4, 1.6,1.8, 2.0]\n",
    "sgdtypes = ['explicit', 'implicit', 'exact ISGD']\n",
    "\n",
    "# Initialize results dictionary\n",
    "results = {sgdtype: {} for sgdtype in sgdtypes}\n",
    "\n",
    "# Gather the data\n",
    "for sgdtype in sgdtypes:\n",
    "    for lr in learning_rates:\n",
    "        conditions = get_minst_conditions(sgdtype, lr)\n",
    "        anticondition = dict() if sgdtype == 'exact ISGD' else {'inner_ISGD_iterations': [0,100]}\n",
    "        experiments = load_experiments_satisfying_conditions(conditions, anticondition)\n",
    "        performance = get_per_epoch_performance(experiments, dataset, measure)\n",
    "        if scatter:\n",
    "            results[sgdtype][lr] = performance\n",
    "        else:\n",
    "            results[sgdtype][lr] = (np.mean(performance), np.std(performance))\n",
    "\n",
    "# Prepare filename for saving the plot\n",
    "file_name = ('../plots/mnist_classification_' \n",
    "             + measure \n",
    "             + ('_scatter' if scatter else '') \n",
    "             + ('_test' if dataset == 'test' else '') \n",
    "             + '.pdf')\n",
    "\n",
    "# Plot results\n",
    "with PdfPages(file_name) as pdf:\n",
    "    plt.figure(figsize=(5,3))#Default = (8.0, 6.0)\n",
    "    \n",
    "    # Iterate over combinations and plot\n",
    "    for sgdtype in ({'explicit', 'implicit'} if scatter else sgdtypes):\n",
    "        if scatter:\n",
    "            for lr in learning_rates:\n",
    "                y = results[sgdtype][lr]\n",
    "                x = lr * np.ones(results[sgdtype][lr].shape)\n",
    "                color = None\n",
    "                if sgdtype=='explicit':\n",
    "                    color='C0'\n",
    "                elif sgdtype=='implicit':\n",
    "                    color='C1'\n",
    "                elif sgdtype=='exact ISGD':\n",
    "                    color='C2'\n",
    "                plt.scatter(x, y,color=color, alpha=0.25)\n",
    "        else:\n",
    "            x = learning_rates\n",
    "            y = [results[sgdtype][lr][0] for lr in learning_rates]\n",
    "            yerr = [results[sgdtype][lr][1] for lr in learning_rates]\n",
    "            plt.errorbar(x, y, yerr=yerr, label=sgdtype)\n",
    "            \n",
    "    # Set labels and title\n",
    "    plt.xlabel('Learning rate')\n",
    "    ylabel = ( ('Training ' if dataset == 'train' else 'Test ')\n",
    "              + ('set loss' if measure == 'average_loss' else 'set accuracy'))\n",
    "    plt.ylabel(ylabel)\n",
    "    plt.legend()\n",
    "    plt.title('Mnist classification')\n",
    "\n",
    "    # Save figure\n",
    "    pdf.savefig(bbox_inches=\"tight\")\n",
    "    plt.show()"
   ]
  },
  {
   "cell_type": "markdown",
   "metadata": {},
   "source": [
    "# Difference between exact formulations"
   ]
  },
  {
   "cell_type": "code",
   "execution_count": 10,
   "metadata": {
    "collapsed": true
   },
   "outputs": [],
   "source": [
    "def get_exact_conditions(sgdtype, lr):\n",
    "    \n",
    "    if sgdtype == 'exact ISGD 100':\n",
    "        condition = {\n",
    "        'architecture': {'convffnn'},\n",
    "        'batch_size': {100},\n",
    "        'clipping_threshold': {0.0},\n",
    "        'dataset_name': {'mnist'},\n",
    "        'epochs': {1},\n",
    "        'initialization_scale': {'\\sqrt{\\frac{6}{n+m}}'},\n",
    "        'inner_ISGD_iterations': [100],  # '0.1'\n",
    "        'lr': {lr},\n",
    "        'momentum': {0.0},\n",
    "        'mu': {0.0},\n",
    "        'seed': set(range(1,21)),\n",
    "        'sgdtype': {'explicit'}\n",
    "        }\n",
    "    \n",
    "    if sgdtype == 'exact ISGD 10':\n",
    "        condition = {\n",
    "        'architecture': {'convffnn'},\n",
    "        'batch_size': {100},\n",
    "        'clipping_threshold': {0.0},\n",
    "        'dataset_name': {'mnist'},\n",
    "        'epochs': {1},\n",
    "        'initialization_scale': {'\\sqrt{\\frac{6}{n+m}}'},\n",
    "        'inner_ISGD_iterations': [10],  # '0.1'\n",
    "        'lr': {lr},\n",
    "        'momentum': {0.0},\n",
    "        'mu': {0.0},\n",
    "        'seed': set(range(1,21)),\n",
    "        'sgdtype': {'explicit'}\n",
    "        }\n",
    "    \n",
    "    return condition"
   ]
  },
  {
   "cell_type": "code",
   "execution_count": 84,
   "metadata": {},
   "outputs": [
    {
     "data": {
      "image/png": "[encoded data removed]",
      "text/plain": [
       "<Figure size 360x216 with 1 Axes>"
      ]
     },
     "metadata": {},
     "output_type": "display_data"
    }
   ],
   "source": [
    "# Select what parameters to fix\n",
    "measure = 'average_loss' # 'average_accuracy' # \n",
    "dataset = 'train'\n",
    "\n",
    "# Values to iterate over\n",
    "learning_rates = [0.2, 0.4, 0.6, 0.8, 1.0, 1.2, 1.4, 1.6,1.8, 2.0,5.0, 10.0, 20.0]# \n",
    "sgdtypes = ['exact ISGD 10', 'exact ISGD 100']\n",
    "\n",
    "# Initialize results dictionary\n",
    "results = {sgdtype: {} for sgdtype in sgdtypes}\n",
    "\n",
    "# Gather the data\n",
    "for sgdtype in sgdtypes:\n",
    "    for lr in learning_rates:\n",
    "        conditions = get_exact_conditions(sgdtype, lr)\n",
    "        experiments = load_experiments_satisfying_conditions(conditions, anticondition)\n",
    "        performance = get_per_epoch_performance(experiments, dataset, measure)\n",
    "        results[sgdtype][lr] = (np.mean(performance), np.std(performance))\n",
    "\n",
    "            \n",
    "# Prepare filename for saving the plot\n",
    "file_name = '../plots/exact_ISGD_classification_' + measure + '.pdf'\n",
    "\n",
    "# Plot results\n",
    "with PdfPages(file_name) as pdf:\n",
    "    plt.figure(figsize=(5,3))#Default = (8.0, 6.0)\n",
    "    \n",
    "    # Iterate over combinations and plot\n",
    "    for sgdtype in sgdtypes:\n",
    "        x = learning_rates\n",
    "        y = [results[sgdtype][lr][0] for lr in learning_rates]\n",
    "        yerr = [results[sgdtype][lr][1] for lr in learning_rates]\n",
    "        plt.semilogy(x, y, label=sgdtype, color='C2' if sgdtype=='exact ISGD 10' else 'C3')\n",
    "            \n",
    "    # Set labels and title\n",
    "    plt.xlabel('Learning rate')\n",
    "    plt.ylabel('Training set loss' if measure == 'average_loss' else 'Training set accuracy')\n",
    "    plt.legend()\n",
    "    plt.title('Mnist classification')\n",
    "\n",
    "    # Save figure\n",
    "    pdf.savefig(bbox_inches=\"tight\")\n",
    "    plt.show()"
   ]
  },
  {
   "cell_type": "markdown",
   "metadata": {},
   "source": [
    "# Mnist experiments with intra-epoch losses"
   ]
  },
  {
   "cell_type": "code",
   "execution_count": 12,
   "metadata": {
    "collapsed": true
   },
   "outputs": [],
   "source": [
    "def get_minst_intra_epoch_conditions(lr):\n",
    "    condition = {\n",
    "    'architecture': ['convffnn'],\n",
    "    'batch_size': [100],\n",
    "    'clipping_threshold': [0.0],\n",
    "    'dataset_name': ['mnist'],\n",
    "    'epochs': [1],\n",
    "    'initialization_scale': ['\\sqrt{\\frac{6}{n+m}}'],\n",
    "    'intra_epoch': [True],\n",
    "    'lr': [lr],#, \n",
    "    'momentum': [0.0],\n",
    "    'mu': [0.0],\n",
    "    'nodes': [50],\n",
    "    'seed': list(range(1,6)),\n",
    "    'sgdtype': ['explicit']\n",
    "    }\n",
    "    \n",
    "    return condition"
   ]
  },
  {
   "cell_type": "code",
   "execution_count": 13,
   "metadata": {
    "collapsed": true
   },
   "outputs": [],
   "source": [
    "def get_per_intra_epoch_performance(experiments, measure):\n",
    "    \"\"\" For each experiment return it performance on the given dataset for the given measure\n",
    "    \"\"\"\n",
    "    \n",
    "    # Check that the dataset and measure is valid\n",
    "    assert measure in {'average_loss_intra_epoch', 'average_accuracy_intra_epoch'}\n",
    "    \n",
    "    # Infer the number of epochs and experiments\n",
    "    # and create corresponding performance matrix\n",
    "    num_intra = len(experiments[0]['results'][measure])\n",
    "    num_experiments = len(experiments)\n",
    "    performance = np.zeros((num_experiments, num_intra))\n",
    "    \n",
    "    # Extract performances\n",
    "    for i, experiment in enumerate(experiments):\n",
    "        performance[i, :] = experiment['results'][measure]\n",
    "        \n",
    "    return performance\n",
    "        "
   ]
  },
  {
   "cell_type": "code",
   "execution_count": 93,
   "metadata": {},
   "outputs": [
    {
     "data": {
      "image/png": "[encoded data removed]",
      "text/plain": [
       "<Figure size 360x216 with 1 Axes>"
      ]
     },
     "metadata": {},
     "output_type": "display_data"
    }
   ],
   "source": [
    "# Select what parameters to fix\n",
    "measure = 'average_accuracy_intra_epoch' #'average_loss_intra_epoch' # \n",
    "dataset = 'train'\n",
    "scatter = False\n",
    "\n",
    "# Values to iterate over\n",
    "learning_rates = [0.1, 0.2, 0.3, 0.4, 0.5]#, 1.0]\n",
    "sgdtypes = 'explicit'\n",
    "\n",
    "# Initialize results dictionary\n",
    "results = {}\n",
    "\n",
    "# Gather the data\n",
    "for lr in learning_rates:\n",
    "    conditions = get_minst_intra_epoch_conditions(lr)\n",
    "    experiments = load_experiments_satisfying_conditions(conditions)\n",
    "    results[lr] = get_per_intra_epoch_performance(experiments, measure)\n",
    "    \n",
    "# Prepare filename for saving the plot\n",
    "file_name = '../plots/intra_epoch_' + measure + '.pdf'\n",
    "\n",
    "# Plot results\n",
    "with PdfPages(file_name) as pdf:\n",
    "    plt.figure(figsize=(5,3))#Default = (8.0, 6.0)\n",
    "    \n",
    "    # Iterate over combinations and plot\n",
    "    num_intra = len(experiments[0]['results'][measure])\n",
    "    x = list(np.arange(1, 1 + num_intra) / num_intra)\n",
    "    for lr in learning_rates:\n",
    "        y = np.mean(results[lr],axis=0)\n",
    "        yerr = np.std(results[lr],axis=0)\n",
    "        plt.errorbar(x, y, yerr=yerr, label=lr)\n",
    "            \n",
    "    # Set labels and title\n",
    "    plt.xlabel('Epochs')\n",
    "    plt.ylabel('Training set loss' if measure == 'average_loss_intra_epoch' else 'Training set accuracy')\n",
    "    plt.legend(title='Learning rates')\n",
    "    plt.tight_layout(pad=0.3)\n",
    "    plt.title('Mnist classification')\n",
    "\n",
    "    # Save figure\n",
    "    pdf.savefig(bbox_inches=\"tight\")\n",
    "    plt.show()"
   ]
  },
  {
   "cell_type": "markdown",
   "metadata": {},
   "source": [
    "# Mnist experiments with clipping"
   ]
  },
  {
   "cell_type": "code",
   "execution_count": 15,
   "metadata": {
    "collapsed": true
   },
   "outputs": [],
   "source": [
    "def get_minst_clipping_conditions(sgdtype, lr):\n",
    "    condition = {\n",
    "    'architecture': {'convffnn'},\n",
    "    'batch_size': {100},\n",
    "    'clipping_threshold': {1.0},\n",
    "    'dataset_name': {'mnist'},\n",
    "    'epochs': {1},\n",
    "    'initialization_scale': {'\\sqrt{\\frac{6}{n+m}}'},\n",
    "    'lr': {lr},\n",
    "    'momentum': {0.0},\n",
    "    'mu': {0.0},\n",
    "    'seed': set(range(1,21)),# - set([1]),\n",
    "    'sgdtype': {sgdtype}\n",
    "    }\n",
    "    \n",
    "    return condition"
   ]
  },
  {
   "cell_type": "code",
   "execution_count": 16,
   "metadata": {
    "collapsed": true
   },
   "outputs": [],
   "source": [
    "def get_minst_clipping_anti_conditions(sgdtype, lr):\n",
    "    condition = {\n",
    "    'inner_ISGD_iterations': {0, 10},  # '0.1'\n",
    "    'intra_epoch': {True, False}\n",
    "    }\n",
    "    \n",
    "    return condition"
   ]
  },
  {
   "cell_type": "code",
   "execution_count": 101,
   "metadata": {},
   "outputs": [
    {
     "data": {
      "image/png": "[encoded data removed]",
      "text/plain": [
       "<Figure size 360x216 with 1 Axes>"
      ]
     },
     "metadata": {},
     "output_type": "display_data"
    }
   ],
   "source": [
    "# Select what parameters to fix\n",
    "measure = 'average_accuracy' # 'average_loss' # \n",
    "dataset = 'test'\n",
    "scatter = False\n",
    "\n",
    "# Values to iterate over\n",
    "learning_rates = [0.5, 1.0, 1.5, 2.0, 2.5, 3.0, 3.5, 4]\n",
    "sgdtypes = ['explicit', 'implicit']\n",
    "\n",
    "# Initialize results dictionary\n",
    "results = {sgdtype: {} for sgdtype in sgdtypes}\n",
    "\n",
    "# Gather the data\n",
    "for sgdtype in sgdtypes:\n",
    "    for lr in learning_rates:\n",
    "        conditions = get_minst_clipping_conditions(sgdtype, lr)\n",
    "        anti_conditions = get_minst_clipping_anti_conditions(sgdtype, lr)\n",
    "        experiments = load_experiments_satisfying_conditions(conditions, anti_conditions)\n",
    "        performance = get_per_epoch_performance(experiments, dataset, measure)\n",
    "        if scatter:\n",
    "            results[sgdtype][lr] = performance\n",
    "        else:\n",
    "            results[sgdtype][lr] = (np.mean(performance), np.std(performance))\n",
    "\n",
    "# Prepare filename for saving the plot\n",
    "file_name = ('../plots/mnist_classification_clipping_' \n",
    "             + measure \n",
    "             + ('_scatter' if scatter else '') \n",
    "             + ('_test' if dataset == 'test' else '') \n",
    "             + '.pdf')\n",
    "\n",
    "# Plot results\n",
    "with PdfPages(file_name) as pdf:\n",
    "    plt.figure(figsize=(5,3))#Default = (8.0, 6.0)\n",
    "    \n",
    "    # Iterate over combinations and plot\n",
    "    for sgdtype in sgdtypes:\n",
    "        if scatter:\n",
    "            for lr in learning_rates:\n",
    "                y = results[sgdtype][lr]\n",
    "                x = lr * np.ones(results[sgdtype][lr].shape)\n",
    "                color = None\n",
    "                if sgdtype=='explicit':\n",
    "                    color='C0'\n",
    "                elif sgdtype=='implicit':\n",
    "                    color='C1'\n",
    "                plt.scatter(x, y,color=color, alpha=0.25)\n",
    "        else:\n",
    "            x = learning_rates\n",
    "            y = [results[sgdtype][lr][0] for lr in learning_rates]\n",
    "            yerr = [results[sgdtype][lr][1] for lr in learning_rates]\n",
    "            plt.errorbar(x, y, yerr=yerr, label=sgdtype)\n",
    "            \n",
    "    # Set labels and title\n",
    "    plt.xlabel('Learning rate')\n",
    "    ylabel = ( ('Training ' if dataset == 'train' else 'Test ')\n",
    "              + ('set loss' if measure == 'average_loss' else 'set accuracy'))\n",
    "    plt.ylabel(ylabel)\n",
    "    plt.title('Mnist classification, clip = 1.0')\n",
    "    plt.legend()\n",
    "\n",
    "    # Save figure\n",
    "    pdf.savefig(bbox_inches=\"tight\")\n",
    "    plt.show()"
   ]
  },
  {
   "cell_type": "markdown",
   "metadata": {},
   "source": [
    "# Autoencoder experiments"
   ]
  },
  {
   "cell_type": "code",
   "execution_count": 134,
   "metadata": {
    "collapsed": true
   },
   "outputs": [],
   "source": [
    "def get_minst_autoencoder_conditions(sgdtype, lr, clip):\n",
    "    condition = {\n",
    "    \"architecture\": {\"autoencoder\"},\n",
    "    \"batch_size\": {100},\n",
    "    \"clipping_threshold\": {clip},\n",
    "    \"dataset_name\": {\"mnist_autoencoder\"},\n",
    "    \"epochs\": {1},\n",
    "    \"initialization_scale\": {\"\\\\sqrt{\\frac{6}{n+m}}\"},\n",
    "    \"lr\": {lr},\n",
    "    \"momentum\": {0.0},\n",
    "    \"mu\": {0.0},\n",
    "    \"seed\": set(range(1,21)),\n",
    "    \"sgdtype\": {sgdtype},\n",
    "    \"data_type\": {\"autoencoder\"}\n",
    "    }\n",
    "    \n",
    "    return condition"
   ]
  },
  {
   "cell_type": "code",
   "execution_count": 212,
   "metadata": {},
   "outputs": [
    {
     "name": "stderr",
     "output_type": "stream",
     "text": [
      "No handles with labels found to put in legend.\n"
     ]
    },
    {
     "data": {
      "image/png": "[encoded data removed]",
      "text/plain": [
       "<Figure size 360x216 with 1 Axes>"
      ]
     },
     "metadata": {},
     "output_type": "display_data"
    },
    {
     "name": "stderr",
     "output_type": "stream",
     "text": [
      "No handles with labels found to put in legend.\n"
     ]
    },
    {
     "data": {
      "image/png": "[encoded data removed]",
      "text/plain": [
       "<Figure size 360x216 with 1 Axes>"
      ]
     },
     "metadata": {},
     "output_type": "display_data"
    },
    {
     "data": {
      "image/png": "[encoded data removed]",
      "text/plain": [
       "<Figure size 360x216 with 1 Axes>"
      ]
     },
     "metadata": {},
     "output_type": "display_data"
    },
    {
     "data": {
      "image/png": "[encoded data removed]",
      "text/plain": [
       "<Figure size 360x216 with 1 Axes>"
      ]
     },
     "metadata": {},
     "output_type": "display_data"
    },
    {
     "name": "stderr",
     "output_type": "stream",
     "text": [
      "No handles with labels found to put in legend.\n"
     ]
    },
    {
     "data": {
      "image/png": "[encoded data removed]",
      "text/plain": [
       "<Figure size 360x216 with 1 Axes>"
      ]
     },
     "metadata": {},
     "output_type": "display_data"
    },
    {
     "name": "stderr",
     "output_type": "stream",
     "text": [
      "No handles with labels found to put in legend.\n"
     ]
    },
    {
     "data": {
      "image/png": "[encoded data removed]",
      "text/plain": [
       "<Figure size 360x216 with 1 Axes>"
      ]
     },
     "metadata": {},
     "output_type": "display_data"
    },
    {
     "data": {
      "image/png": "[encoded data removed]",
      "text/plain": [
       "<Figure size 360x216 with 1 Axes>"
      ]
     },
     "metadata": {},
     "output_type": "display_data"
    },
    {
     "data": {
      "image/png": "[encoded data removed]",
      "text/plain": [
       "<Figure size 360x216 with 1 Axes>"
      ]
     },
     "metadata": {},
     "output_type": "display_data"
    }
   ],
   "source": [
    "# Select what parameters to fix\n",
    "measure = 'average_loss'\n",
    "for dataset in ['train', 'test']:\n",
    "    for scatter in [True, False]:\n",
    "        for clip in [0.0, 1.0]:\n",
    "\n",
    "            # Values to iterate over\n",
    "            if clip == 0.0:\n",
    "                learning_rates = [0.0001,0.001, 0.0025, 0.005, 0.006, 0.007, 0.008, 0.009, 0.01, 0.0125, 0.015, 0.02]\n",
    "            else:\n",
    "                learning_rates = [0.01, 0.05, 0.1, 0.2, 0.3, 0.4] # , 0.5\n",
    "            sgdtypes = ['explicit', 'implicit']\n",
    "\n",
    "            # Initialize results dictionary\n",
    "            results = {sgdtype: {} for sgdtype in sgdtypes}\n",
    "\n",
    "            # Gather the data\n",
    "            for sgdtype in sgdtypes:\n",
    "                for lr in learning_rates:\n",
    "                    conditions = get_minst_autoencoder_conditions(sgdtype, lr, clip)\n",
    "                    experiments = load_experiments_satisfying_conditions(conditions)\n",
    "                    performance = get_per_epoch_performance(experiments, dataset, measure)\n",
    "                    if scatter:\n",
    "                        results[sgdtype][lr] = performance\n",
    "                    else:\n",
    "                        results[sgdtype][lr] = (np.mean(performance), np.std(performance))\n",
    "\n",
    "            # Prepare filename for saving the plot\n",
    "            clip_str = str(clip).replace('.','_')\n",
    "            file_name = ('../plots/mnist_autoencoder_' \n",
    "                         + measure \n",
    "                         + ('_scatter' if scatter else '') \n",
    "                         + '_clip_' + clip_str\n",
    "                         + ('_test' if dataset == 'test' else '') \n",
    "                         + '.pdf')\n",
    "\n",
    "            # Plot results\n",
    "            with PdfPages(file_name) as pdf:\n",
    "                plt.figure(figsize=(5,3))#Default = (8.0, 6.0)\n",
    "\n",
    "                # Iterate over combinations and plot\n",
    "                for sgdtype in ({'explicit', 'implicit'} if scatter else sgdtypes):\n",
    "                    if scatter:\n",
    "                        for lr in learning_rates:\n",
    "                            y = results[sgdtype][lr]\n",
    "                            x = lr * np.ones(results[sgdtype][lr].shape)\n",
    "                            color = None\n",
    "                            if sgdtype=='explicit':\n",
    "                                color='C0'\n",
    "                            elif sgdtype=='implicit':\n",
    "                                color='C1'\n",
    "                            elif sgdtype=='exact ISGD':\n",
    "                                color='C2'\n",
    "                            plt.scatter(x, y,color=color, alpha=0.25)\n",
    "                    else:\n",
    "                        x = learning_rates\n",
    "                        y = [results[sgdtype][lr][0] for lr in learning_rates]\n",
    "                        yerr = [results[sgdtype][lr][1] for lr in learning_rates]\n",
    "                        plt.errorbar(x, y, yerr=yerr, label=sgdtype)\n",
    "\n",
    "                # Set labels and title\n",
    "                plt.xlabel('Learning rate')\n",
    "                ylabel = ( ('Training ' if dataset == 'train' else 'Test ')\n",
    "                          + ('set loss' if measure == 'average_loss' else 'set accuracy'))\n",
    "                plt.ylabel(ylabel)\n",
    "                plt.legend()\n",
    "                title = 'Mnist autoencoder' + ((', clip = ' + str(clip)) if clip != 0.0 else '')\n",
    "                plt.title(title)\n",
    "\n",
    "                # Specify the maximum number of ticks and x-axis limits\n",
    "                ax = plt.gca() \n",
    "                if scatter and clip == 0.0:\n",
    "                    ax.set_xlim(-0.000895, 0.020995) # This is the same as when scatter = False\n",
    "                ax.xaxis.set_major_locator(plt.MaxNLocator(5))\n",
    "\n",
    "                # Save figure\n",
    "                pdf.savefig(bbox_inches=\"tight\")\n",
    "                plt.show()"
   ]
  },
  {
   "cell_type": "markdown",
   "metadata": {},
   "source": [
    "# RNN music"
   ]
  },
  {
   "cell_type": "code",
   "execution_count": 5,
   "metadata": {
    "collapsed": true
   },
   "outputs": [],
   "source": [
    "def get_music_conditions(sgdtype, lr, dataset_name, clip):\n",
    "    \n",
    "    condition = {\n",
    "        'architecture': ['music'],\n",
    "        'batch_size': [100],\n",
    "        'clipping_threshold': [clip],\n",
    "        'dataset_name': [dataset_name],\n",
    "        'epochs': [5],\n",
    "        'initialization_scale': ['\\sqrt{\\frac{6}{n+m}}'],  # '0.1'\n",
    "        'inner_ISGD_iterations': [0],\n",
    "        'intra_epoch': [False],\n",
    "        'lr': [lr],\n",
    "        'momentum': [0.0],\n",
    "        'mu': [0.0],\n",
    "        'nodes': [300],\n",
    "        'seed': list(range(1,6)),\n",
    "        'sgdtype': [sgdtype]}\n",
    "    \n",
    "    return condition\n",
    " "
   ]
  },
  {
   "cell_type": "code",
   "execution_count": null,
   "metadata": {},
   "outputs": [
    {
     "name": "stderr",
     "output_type": "stream",
     "text": [
      "No handles with labels found to put in legend.\n"
     ]
    },
    {
     "data": {
      "image/png": "[encoded data removed]",
      "text/plain": [
       "<Figure size 360x216 with 1 Axes>"
      ]
     },
     "metadata": {},
     "output_type": "display_data"
    }
   ],
   "source": [
    "# Select what parameters to fix\n",
    "measure = 'average_loss'\n",
    "dataset_name = 'MuseData'#'Piano-midi.de'# 'Nottingham' #'JSB Chorales'#\n",
    "epoch_num = 4\n",
    "\n",
    "for dataset in ['train', 'test']:\n",
    "    for scatter in [True, False]:#\n",
    "        for clip in [8.0]:#0.0, 0.01, 0.1, 1.0, \n",
    "\n",
    "            # Values to iterate over\n",
    "            learning_rates = [0.5, 2.0, 5.0, 20.0, 50.0, 200.0, 500.0]#] #\n",
    "            sgdtypes = ['explicit', 'implicit']\n",
    "\n",
    "            # Initialize results dictionary\n",
    "            results = {sgdtype: {} for sgdtype in sgdtypes}\n",
    "\n",
    "            # Gather the data\n",
    "            results = {sgdtype: {} for sgdtype in sgdtypes}\n",
    "            for sgdtype in sgdtypes:\n",
    "                for lr in learning_rates:\n",
    "                    conditions = get_music_conditions(sgdtype, lr, dataset_name, clip)\n",
    "                    experiments = load_experiments_satisfying_conditions(conditions)\n",
    "                    performance = get_per_epoch_performance(experiments, dataset, measure)[:,epoch_num]\n",
    "                    if scatter:\n",
    "                        results[sgdtype][lr] = performance\n",
    "                    else:\n",
    "                        # Muse data with explicit and lr = 500.0 has a nan value\n",
    "                        # This sets the nan equal to the average of its other values for explicit and lr = 500.0\n",
    "                        performance[np.isnan(performance)] = 0.003419765\n",
    "                        results[sgdtype][lr] = (np.mean(performance), np.std(performance))\n",
    "\n",
    "                        \n",
    "            # Prepare filename for saving the plot\n",
    "            clip_str = str(clip).replace('.','_')\n",
    "            file_name = ('../plots/' \n",
    "                         + '_'.join(dataset_name.split('.')[0].split()) \n",
    "                         +'_' + measure \n",
    "                         + ('_scatter' if scatter else '') \n",
    "                         + ('_test' if dataset == 'test' else '') \n",
    "                         + '_clip_' + clip_str \n",
    "                         + '.pdf')\n",
    "\n",
    "            # Plot results\n",
    "            with PdfPages(file_name) as pdf:\n",
    "                plt.figure(figsize=(5,3))#Default = (8.0, 6.0)\n",
    "\n",
    "                # Iterate over combinations and plot\n",
    "                max_y = 0 # Used for setting the y axis limits\n",
    "                for sgdtype in sgdtypes:\n",
    "                    if scatter:\n",
    "                        for lr in learning_rates:\n",
    "                            y = results[sgdtype][lr]\n",
    "                            max_y = max(max_y, max(y))\n",
    "                            x = lr * np.ones(results[sgdtype][lr].shape)\n",
    "                            color = None\n",
    "                            if sgdtype=='explicit':\n",
    "                                color='C0'\n",
    "                            elif sgdtype=='implicit':\n",
    "                                color='C1'\n",
    "                            plt.scatter(x, y,color=color, alpha=0.25)\n",
    "                    else:\n",
    "                        x = learning_rates\n",
    "                        y = [results[sgdtype][lr][0] for lr in learning_rates]\n",
    "                        yerr = [results[sgdtype][lr][1] for lr in learning_rates]\n",
    "                        plt.errorbar(x, y, yerr=yerr, label=sgdtype)\n",
    "\n",
    "                # Set labels and title\n",
    "                plt.xlabel('Learning rate')\n",
    "                ylabel = ( ('Training ' if dataset == 'train' else 'Test ')\n",
    "                          + ('set loss' if measure == 'average_loss' else 'set accuracy'))\n",
    "                plt.ylabel(ylabel)\n",
    "                plt.legend()\n",
    "                title = dataset_name + ((', clip = ' + str(clip)) if clip != 0.0 else ' (no clipping)')\n",
    "                plt.title(title)\n",
    "\n",
    "                # Specify the maximum number of ticks and x-axis limits\n",
    "                if scatter:\n",
    "                    ax = plt.gca()\n",
    "                    ax.set_ylim(0.0, 1.1*max_y)\n",
    "\n",
    "                # Save figure\n",
    "                pdf.savefig(bbox_inches=\"tight\")\n",
    "                plt.show()\n",
    "    "
   ]
  },
  {
   "cell_type": "code",
   "execution_count": 20,
   "metadata": {},
   "outputs": [
    {
     "data": {
      "text/plain": [
       "{'explicit': {}, 'implicit': {}}"
      ]
     },
     "execution_count": 20,
     "metadata": {},
     "output_type": "execute_result"
    }
   ],
   "source": [
    "results"
   ]
  },
  {
   "cell_type": "code",
   "execution_count": 16,
   "metadata": {},
   "outputs": [
    {
     "data": {
      "text/plain": [
       "0.003419765"
      ]
     },
     "execution_count": 16,
     "metadata": {},
     "output_type": "execute_result"
    }
   ],
   "source": [
    "np.mean([0.00136486, 0.00388008, 0.00534331, 0.00309081])"
   ]
  },
  {
   "cell_type": "markdown",
   "metadata": {},
   "source": [
    "# Classification"
   ]
  },
  {
   "cell_type": "code",
   "execution_count": 202,
   "metadata": {
    "collapsed": true
   },
   "outputs": [],
   "source": [
    "def get_num_datapoints_classes(dataset_name):\n",
    "    dataset_path = '../data/classification/' + dataset_name + '/'\n",
    "\n",
    "    x = np.loadtxt(open(dataset_path + dataset_name + '_py.dat'), delimiter=\",\")\n",
    "    y = np.loadtxt(open(dataset_path + 'labels_py.dat'), delimiter=\",\")\n",
    "\n",
    "    num_datapoints = y.shape[0]\n",
    "    num_classes = np.max(y) + 1 \n",
    "    \n",
    "    return num_datapoints, num_classes"
   ]
  },
  {
   "cell_type": "code",
   "execution_count": 203,
   "metadata": {
    "collapsed": true
   },
   "outputs": [],
   "source": [
    "def get_classification_conditions(sgdtype, lr, dataset_name):\n",
    "    \n",
    "    condition = {\n",
    "    \"architecture\": ['classification'],\n",
    "    \"batch_size\": [100],\n",
    "    \"clipping_threshold\": [0.0],\n",
    "    \"dataset_name\": [dataset_name],\n",
    "    \"epochs\": [10],\n",
    "    \"initialization_scale\": [\"\\\\sqrt{\\frac{6}{n+m}}\"],\n",
    "    \"inner_ISGD_iterations\": [0],\n",
    "    \"intra_epoch\": [False],\n",
    "    \"lr\": [lr],\n",
    "    \"momentum\": [0.0],\n",
    "    \"mu\": [0.0],\n",
    "    \"nodes\": [50],\n",
    "    \"seed\": [1,2,3,4,5],\n",
    "    \"sgdtype\": [sgdtype]\n",
    "}\n",
    "    \n",
    "    return condition\n",
    " "
   ]
  },
  {
   "cell_type": "code",
   "execution_count": 217,
   "metadata": {
    "collapsed": true
   },
   "outputs": [],
   "source": [
    "# Group datasets into being large (more than 1000 datapoints) \n",
    "# and small (less than 1000 datapoints)\n",
    "small_datasets = set()\n",
    "large_datasets = set()\n",
    "\n",
    "# dataset_names = ['annealing', 'abalone', 'adult', 'connect-4']\n",
    "dataset_names = sorted([d for d in os.listdir('../data/classification') if d.count('.') == 0])\n",
    "for dataset_name in dataset_names:\n",
    "    num_datapoints, num_classes = get_num_datapoints_classes(dataset_name)\n",
    "    if num_datapoints >= 1000:\n",
    "        large_datasets.add(dataset_name)\n",
    "    else:\n",
    "        small_datasets.add(dataset_name)"
   ]
  },
  {
   "cell_type": "code",
   "execution_count": 229,
   "metadata": {},
   "outputs": [
    {
     "data": {
      "text/plain": [
       "'optical'"
      ]
     },
     "execution_count": 229,
     "metadata": {},
     "output_type": "execute_result"
    }
   ],
   "source": [
    "sorted(list(large_datasets))[22]"
   ]
  },
  {
   "cell_type": "code",
   "execution_count": 213,
   "metadata": {},
   "outputs": [
    {
     "name": "stdout",
     "output_type": "stream",
     "text": [
      "abalone\n",
      "acute-inflammation\n",
      "acute-nephritis\n",
      "adult\n",
      "annealing\n",
      "arrhythmia\n",
      "audiology-std\n",
      "balance-scale\n",
      "balloons\n",
      "bank\n",
      "blood\n",
      "breast-cancer\n",
      "breast-cancer-wisc\n",
      "breast-cancer-wisc-diag\n",
      "breast-cancer-wisc-prog\n",
      "breast-tissue\n",
      "car\n",
      "cardiotocography-10clases\n",
      "cardiotocography-3clases\n",
      "chess-krvk\n",
      "chess-krvkp\n",
      "congressional-voting\n",
      "conn-bench-sonar-mines-rocks\n",
      "conn-bench-vowel-deterding\n",
      "connect-4\n",
      "contrac\n",
      "credit-approval\n",
      "cylinder-bands\n",
      "dermatology\n",
      "echocardiogram\n",
      "ecoli\n",
      "energy-y1\n",
      "energy-y2\n",
      "fertility\n",
      "flags\n",
      "glass\n",
      "haberman-survival\n",
      "hayes-roth\n",
      "heart-cleveland\n",
      "heart-hungarian\n",
      "heart-switzerland\n",
      "heart-va\n",
      "hepatitis\n",
      "hill-valley\n",
      "horse-colic\n",
      "ilpd-indian-liver\n",
      "image-segmentation\n",
      "ionosphere\n",
      "iris\n",
      "led-display\n",
      "lenses\n",
      "letter\n",
      "libras\n",
      "low-res-spect\n",
      "lung-cancer\n",
      "lymphography\n",
      "magic\n",
      "mammographic\n",
      "miniboone\n",
      "molec-biol-promoter\n",
      "molec-biol-splice\n",
      "monks-1\n",
      "monks-2\n",
      "monks-3\n",
      "mushroom\n",
      "musk-1\n",
      "musk-2\n",
      "nursery\n",
      "oocytes-merluccius-nucleus-4d\n",
      "oocytes-merluccius-states-2f\n",
      "oocytes-trisopterus-nucleus-2f\n",
      "oocytes-trisopterus-states-5b\n",
      "optical\n",
      "ozone\n",
      "page-blocks\n",
      "parkinsons\n",
      "pendigits\n",
      "pima\n",
      "pittsburg-bridges-MATERIAL\n",
      "pittsburg-bridges-REL-L\n",
      "pittsburg-bridges-SPAN\n",
      "pittsburg-bridges-T-OR-D\n",
      "pittsburg-bridges-TYPE\n",
      "planning\n",
      "plant-margin\n",
      "plant-shape\n",
      "plant-texture\n",
      "post-operative\n",
      "primary-tumor\n",
      "ringnorm\n",
      "seeds\n",
      "semeion\n",
      "soybean\n",
      "spambase\n",
      "spect\n",
      "spectf\n",
      "statlog-australian-credit\n",
      "statlog-german-credit\n",
      "statlog-heart\n",
      "statlog-image\n",
      "statlog-landsat\n",
      "statlog-shuttle\n",
      "statlog-vehicle\n",
      "steel-plates\n",
      "synthetic-control\n",
      "teaching\n",
      "thyroid\n",
      "tic-tac-toe\n",
      "titanic\n",
      "trains\n",
      "twonorm\n",
      "vertebral-column-2clases\n",
      "vertebral-column-3clases\n",
      "wall-following\n",
      "waveform\n",
      "waveform-noise\n",
      "wine\n",
      "wine-quality-red\n",
      "wine-quality-white\n",
      "yeast\n",
      "zoo\n"
     ]
    }
   ],
   "source": [
    "# Select what parameters to fix\n",
    "measure = 'average_loss'\n",
    "dataset = 'train'\n",
    "epoch_num = 9\n",
    "\n",
    "# Values to iterate over\n",
    "learning_rates = [0.001, 0.01, 0.1, 0.5, 1.0, 3.0, 5.0, 10.0, 30.0, 50.0]\n",
    "sgdtypes = ['explicit', 'implicit']\n",
    "\n",
    "# Initialize results dictionary\n",
    "results = dict()\n",
    "\n",
    "# Gather the data\n",
    "for dataset_name in dataset_names:\n",
    "    print(dataset_name)\n",
    "    sgdtypes = ['explicit', 'implicit']\n",
    "    results[dataset_name] = {sgdtype: {} for sgdtype in sgdtypes}\n",
    "    for sgdtype in sgdtypes:\n",
    "        for lr in learning_rates:\n",
    "            conditions = get_classification_conditions(sgdtype, lr, dataset_name + '_classification')\n",
    "            experiments = load_experiments_satisfying_conditions(conditions)\n",
    "            results[dataset_name][sgdtype][lr] = -np.ones(10)\n",
    "            performance = get_per_epoch_performance(experiments, dataset, measure)[0]\n",
    "            results[dataset_name][sgdtype][lr] = performance\n"
   ]
  },
  {
   "cell_type": "code",
   "execution_count": 246,
   "metadata": {},
   "outputs": [
    {
     "name": "stdout",
     "output_type": "stream",
     "text": [
      "Implicit better:  [ 0.  0.  0.  1.  1.  7. 23. 19. 25. 26.]\n",
      "Explicit better:  [ 0.  0.  0.  0.  2. 21. 31. 41. 33. 35.]\n",
      "Difference implicit better:  [  0.   0.   0.   1.  -1. -14.  -8. -22.  -8.  -9.]\n",
      "Number datasets:  75\n",
      "ISGD better & 0 & 0 & 0 & 1 & 1 & 7 & 23 & 19 & 25 & 26\\tabularnewline\n",
      "\\hline\n",
      "ESGD better & 0 & 0 & 0 & 0 & 2 & 21 & 31 & 41 & 33 & 35\\tabularnewline\n",
      "\\hline\\hline\n",
      "ISGD - ESGD & 0 & 0 & 0 & 1 & -1 & -14 & -8 & -22 & -8 & -9\\tabularnewline\n"
     ]
    }
   ],
   "source": [
    "# Generate aggregate statistics\n",
    "threshold = 0.25 # Fraction by which one method outperforms the other\n",
    "epoch_num = 9\n",
    "size_datasets = small_datasets #large_datasets # \n",
    "\n",
    "# Initialize ternary performance matrix\n",
    "# with a row for each dataset and column for each learning rate.\n",
    "# The element will be:\n",
    "#     +1 if ISGD > 1.1 ESGD\n",
    "#     -1 if ESGD > 1.1 ISGD\n",
    "#     0  otherwise\n",
    "performance_ternary = np.zeros((len(results), len(learning_rates)))\n",
    "dataset_index = 0\n",
    "for key, value in results.items():\n",
    "    if key in size_datasets:\n",
    "        explicit_values = np.array([value['explicit'][lr][epoch_num] for lr in learning_rates])\n",
    "        implicit_values = np.array([value['implicit'][lr][epoch_num] for lr in learning_rates])\n",
    "        performance_list = (1.0 * (implicit_values < (1+threshold) * explicit_values)\n",
    "                           - 1.0 * (explicit_values < (1+threshold) * implicit_values))\n",
    "        performance_ternary[dataset_index, :] = performance_list\n",
    "        dataset_index += 1\n",
    "    \n",
    "# Calculate aggregats\n",
    "# print('Ternary performance matrix: ', performance_ternary)\n",
    "imp_better = np.sum(1.0 *(performance_ternary == 1.0), axis=0)\n",
    "exp_better = np.sum(1.0 *(performance_ternary == -1.0), axis=0)\n",
    "print('Implicit better: ', imp_better)\n",
    "print('Explicit better: ',  exp_better)\n",
    "print('Difference implicit better: ',  imp_better - exp_better)\n",
    "print('Number datasets: ', dataset_index)\n",
    "\n",
    "latex_string = 'ISGD better & ' + ' & '.join( str(int(x)) for x in imp_better.tolist()) + '\\\\tabularnewline\\n\\\\hline\\n'\n",
    "latex_string = latex_string + 'ESGD better & ' + ' & '.join( str(int(x)) for x in exp_better.tolist()) + '\\\\tabularnewline\\n\\\\hline\\\\hline\\n'\n",
    "latex_string = latex_string + 'ISGD - ESGD & ' + ' & '.join( str(int(x)) for x in (imp_better - exp_better).tolist()) + '\\\\tabularnewline'\n",
    "print(latex_string)"
   ]
  },
  {
   "cell_type": "code",
   "execution_count": 238,
   "metadata": {},
   "outputs": [
    {
     "data": {
      "text/plain": [
       "'0.0 & 0.0 & 0.0 & 1.0 & 1.0 & 7.0 & 23.0 & 19.0 & 25.0 & 26.0'"
      ]
     },
     "execution_count": 238,
     "metadata": {},
     "output_type": "execute_result"
    }
   ],
   "source": []
  },
  {
   "cell_type": "code",
   "execution_count": 230,
   "metadata": {},
   "outputs": [
    {
     "name": "stdout",
     "output_type": "stream",
     "text": [
      "\\multirow{2}{*}{abalone} & 1.11 & 1.10 & 0.83 & 0.77 & 0.76 & 12.30 & 6.13 & 25.20 & 57.09 & 212.61 & explicit\\tabularnewline\n",
      " & 1.11 & 1.10 & 0.83 & 0.77 & 0.77 & 2.65 & 3.18 & 22.95 & 98.31 & 84.63 & implicit\\tabularnewline\n",
      "\\hline\n",
      "\\multirow{2}{*}{adult} & 0.55 & 0.35 & 0.32 & 0.32 & 0.31 & 0.36 & 1.52 & 2.97 & 17.99 & 27.19 & explicit\\tabularnewline\n",
      " & 0.55 & 0.35 & 0.32 & 0.32 & 0.32 & 0.34 & 1.15 & 4.31 & 12.22 & 20.27 & implicit\\tabularnewline\n",
      "\\hline\n",
      "\\multirow{2}{*}{bank} & 0.60 & 0.36 & 0.25 & 0.27 & 0.30 & 0.52 & 1.29 & 14.74 & 27.23 & 113.73 & explicit\\tabularnewline\n",
      " & 0.60 & 0.36 & 0.25 & 0.27 & 0.29 & 0.35 & 1.46 & 21.44 & 65.24 & 19.08 & implicit\\tabularnewline\n",
      "\\hline\n",
      "\\multirow{2}{*}{car} & 1.18 & 1.01 & 0.85 & 0.50 & 0.39 & 0.59 & 5.28 & 4.55 & 53.97 & 106.93 & explicit\\tabularnewline\n",
      " & 1.18 & 1.01 & 0.85 & 0.50 & 0.47 & 2.40 & 2.12 & 10.38 & 213.52 & 122.84 & implicit\\tabularnewline\n",
      "\\hline\n",
      "\\multirow{2}{*}{cardiotocography-10clases} & 2.30 & 2.18 & 1.24 & 0.68 & 0.68 & 4.36 & 6.71 & 13.91 & 59.09 & 156.53 & explicit\\tabularnewline\n",
      " & 2.30 & 2.18 & 1.24 & 0.69 & 0.68 & 5.01 & 21.19 & 12.75 & 119.45 & 113.76 & implicit\\tabularnewline\n",
      "\\hline\n",
      "\\multirow{2}{*}{cardiotocography-3clases} & 1.09 & 0.74 & 0.30 & 0.21 & 0.21 & 0.67 & 5.59 & 19.91 & 23.95 & 173.83 & explicit\\tabularnewline\n",
      " & 1.09 & 0.74 & 0.30 & 0.21 & 0.21 & 3.26 & 6.42 & 25.49 & 17.43 & 156.47 & implicit\\tabularnewline\n",
      "\\hline\n",
      "\\multirow{2}{*}{chess-krvk} & 2.81 & 2.45 & 1.96 & 1.70 & 1.75 & 2.13 & 2.22 & 10.26 & 39.35 & 144.99 & explicit\\tabularnewline\n",
      " & 2.81 & 2.45 & 1.97 & 1.72 & 1.75 & 1.94 & 3.92 & 72.35 & 55.65 & 136.72 & implicit\\tabularnewline\n",
      "\\hline\n",
      "\\multirow{2}{*}{chess-krvkp} & 0.69 & 0.68 & 0.08 & 0.04 & 0.02 & 1.38 & 0.77 & 12.53 & 156.29 & 467.88 & explicit\\tabularnewline\n",
      " & 0.69 & 0.68 & 0.08 & 0.07 & 0.07 & 0.33 & 2.80 & 12.91 & 26.88 & 56.18 & implicit\\tabularnewline\n",
      "\\hline\n",
      "\\multirow{2}{*}{connect-4} & 0.56 & 0.54 & 0.48 & 0.40 & 0.38 & 2.36 & 4.59 & 9.25 & 34.85 & 59.43 & explicit\\tabularnewline\n",
      " & 0.56 & 0.54 & 0.50 & 0.44 & 0.46 & 3.23 & 4.64 & 11.31 & 33.66 & 52.39 & implicit\\tabularnewline\n",
      "\\hline\n",
      "\\multirow{2}{*}{contrac} & 1.08 & 1.07 & 1.07 & 0.99 & 0.96 & 1.00 & 5.34 & 17.32 & 149.70 & 133.28 & explicit\\tabularnewline\n",
      " & 1.08 & 1.07 & 1.07 & 0.99 & 0.96 & 0.99 & 14.08 & 11.72 & 60.05 & 181.86 & implicit\\tabularnewline\n",
      "\\hline\n",
      "\\multirow{2}{*}{hill-valley} & 0.70 & 0.69 & 0.69 & 0.69 & 0.69 & 84.43 & 38.06 & 943.16 & 3267.16 & 1005.30 & explicit\\tabularnewline\n",
      " & 0.70 & 0.69 & 0.69 & 0.69 & 0.70 & 168.00 & 180.79 & 907.54 & 2014.49 & 90.33 & implicit\\tabularnewline\n",
      "\\hline\n",
      "\\multirow{2}{*}{image-segmentation} & 1.95 & 1.94 & 0.95 & 0.20 & 0.12 & 9.13 & 11.97 & 13.45 & 95.62 & 72.58 & explicit\\tabularnewline\n",
      " & 1.95 & 1.94 & 0.95 & 0.22 & 0.15 & 2.77 & 2.10 & 13.21 & 277.97 & 131.41 & implicit\\tabularnewline\n",
      "\\hline\n",
      "\\multirow{2}{*}{led-display} & 2.32 & 2.32 & 2.30 & 1.73 & 1.25 & 1.63 & 4.25 & 7.59 & 109.59 & 209.45 & explicit\\tabularnewline\n",
      " & 2.32 & 2.32 & 2.30 & 1.73 & 1.26 & 3.13 & 5.43 & 30.01 & 93.78 & 240.85 & implicit\\tabularnewline\n",
      "\\hline\n",
      "\\multirow{2}{*}{letter} & 3.27 & 3.21 & 1.31 & 0.61 & 0.64 & 0.83 & 2.47 & 5.98 & 35.33 & 60.50 & explicit\\tabularnewline\n",
      " & 3.27 & 3.21 & 1.31 & 0.59 & 0.68 & 0.84 & 1.85 & 5.92 & 27.24 & 39.06 & implicit\\tabularnewline\n",
      "\\hline\n",
      "\\multirow{2}{*}{magic} & 0.65 & 0.53 & 0.47 & 0.41 & 0.41 & 0.46 & 3.59 & 24.93 & 40.47 & 57.64 & explicit\\tabularnewline\n",
      " & 0.65 & 0.53 & 0.48 & 0.42 & 0.43 & 0.53 & 5.43 & 5.41 & 41.77 & 146.46 & implicit\\tabularnewline\n",
      "\\hline\n",
      "\\multirow{2}{*}{miniboone} & 0.37 & 0.29 & 0.23 & 0.21 & 0.22 & 1.40 & 5.60 & 18.28 & 60.37 & 190.87 & explicit\\tabularnewline\n",
      " & 0.37 & 0.29 & 0.22 & 0.22 & 0.22 & 1.12 & 2.71 & 3.39 & 20.09 & 32.84 & implicit\\tabularnewline\n",
      "\\hline\n",
      "\\multirow{2}{*}{molec-biol-splice} & 1.05 & 0.98 & 0.36 & 0.31 & 0.25 & 5.32 & 9.87 & 30.26 & 146.88 & 227.42 & explicit\\tabularnewline\n",
      " & 1.05 & 0.98 & 0.36 & 0.34 & 0.33 & 27.64 & 8.85 & 29.27 & 149.89 & 188.89 & implicit\\tabularnewline\n",
      "\\hline\n",
      "\\multirow{2}{*}{mushroom} & 0.69 & 0.36 & 0.01 & 0.00 & 0.00 & 0.00 & 0.06 & 1.96 & 157.31 & 87.08 & explicit\\tabularnewline\n",
      " & 0.69 & 0.36 & 0.01 & 0.00 & 0.00 & 0.00 & 0.05 & 4.86 & 11.92 & 42.45 & implicit\\tabularnewline\n",
      "\\hline\n",
      "\\multirow{2}{*}{musk-2} & 0.49 & 0.19 & 0.08 & 0.03 & 2.75 & 34.14 & 112.76 & 228.01 & 436.03 & 288.58 & explicit\\tabularnewline\n",
      " & 0.49 & 0.19 & 0.08 & 0.03 & 2.46 & 63.96 & 109.08 & 36.49 & 263.51 & 105.52 & implicit\\tabularnewline\n",
      "\\hline\n",
      "\\multirow{2}{*}{nursery} & 1.47 & 1.21 & 0.51 & 0.12 & 0.14 & 0.31 & 0.87 & 6.99 & 63.94 & 195.34 & explicit\\tabularnewline\n",
      " & 1.47 & 1.21 & 0.52 & 0.18 & 0.12 & 0.19 & 1.36 & 33.21 & 129.24 & 514.70 & implicit\\tabularnewline\n",
      "\\hline\n",
      "\\multirow{2}{*}{oocytes-merluccius-nucleus-4d} & 0.65 & 0.63 & 0.61 & 0.69 & 0.73 & 18.79 & 19.89 & 82.75 & 767.96 & 917.21 & explicit\\tabularnewline\n",
      " & 0.65 & 0.63 & 0.61 & 0.68 & 0.72 & 30.91 & 91.02 & 108.44 & 291.86 & 181.39 & implicit\\tabularnewline\n",
      "\\hline\n",
      "\\multirow{2}{*}{oocytes-merluccius-states-2f} & 1.04 & 0.88 & 0.35 & 0.22 & 0.20 & 1.46 & 3.09 & 34.59 & 255.92 & 35.96 & explicit\\tabularnewline\n",
      " & 1.04 & 0.88 & 0.35 & 0.22 & 0.21 & 3.73 & 7.49 & 42.19 & 53.97 & 86.39 & implicit\\tabularnewline\n",
      "\\hline\n",
      "\\multirow{2}{*}{optical} & 2.27 & 1.55 & 0.10 & 0.02 & 0.01 & 0.23 & 1.59 & 10.73 & 51.20 & 121.22 & explicit\\tabularnewline\n",
      " & 2.27 & 1.55 & 0.10 & 0.03 & 0.01 & 0.22 & 0.42 & 3.97 & 8.87 & 15.60 & implicit\\tabularnewline\n",
      "\\hline\n",
      "\\multirow{2}{*}{ozone} & 0.51 & 0.18 & 0.09 & 0.09 & 0.10 & 9.91 & 11.00 & 8.83 & 115.42 & 30.89 & explicit\\tabularnewline\n",
      " & 0.51 & 0.18 & 0.09 & 0.09 & 0.10 & 2.46 & 2.67 & 57.39 & 13.99 & 79.68 & implicit\\tabularnewline\n",
      "\\hline\n",
      "\\multirow{2}{*}{page-blocks} & 1.30 & 0.47 & 0.25 & 0.16 & 0.13 & 0.13 & 1.36 & 6.97 & 7.46 & 23.52 & explicit\\tabularnewline\n",
      " & 1.30 & 0.47 & 0.25 & 0.16 & 0.15 & 0.13 & 2.79 & 24.66 & 43.27 & 111.66 & implicit\\tabularnewline\n",
      "\\hline\n",
      "\\multirow{2}{*}{pendigits} & 2.30 & 2.22 & 0.28 & 0.07 & 0.06 & 0.10 & 0.95 & 4.35 & 20.55 & 66.20 & explicit\\tabularnewline\n",
      " & 2.30 & 2.22 & 0.28 & 0.05 & 0.05 & 0.18 & 0.26 & 0.72 & 12.03 & 32.69 & implicit\\tabularnewline\n",
      "\\hline\n",
      "\\multirow{2}{*}{plant-margin} & 4.60 & 4.59 & 3.91 & 1.39 & 0.82 & 6.24 & 16.50 & 52.11 & 152.54 & 299.85 & explicit\\tabularnewline\n",
      " & 4.60 & 4.59 & 3.91 & 1.39 & 0.86 & 21.08 & 28.08 & 46.19 & 117.16 & 208.09 & implicit\\tabularnewline\n",
      "\\hline\n",
      "\\multirow{2}{*}{plant-shape} & 4.60 & 4.58 & 3.95 & 3.00 & 2.89 & 23.00 & 42.98 & 79.10 & 293.86 & 496.63 & explicit\\tabularnewline\n",
      " & 4.60 & 4.58 & 3.95 & 3.00 & 2.87 & 19.54 & 43.80 & 85.42 & 234.65 & 572.32 & implicit\\tabularnewline\n",
      "\\hline\n",
      "\\multirow{2}{*}{plant-texture} & 4.61 & 4.59 & 4.17 & 1.20 & 0.55 & 0.34 & 16.13 & 39.06 & 123.57 & 193.97 & explicit\\tabularnewline\n",
      " & 4.61 & 4.59 & 4.17 & 1.20 & 0.57 & 0.84 & 11.28 & 17.27 & 68.12 & 208.77 & implicit\\tabularnewline\n",
      "\\hline\n",
      "\\multirow{2}{*}{ringnorm} & 0.69 & 0.69 & 0.46 & 0.19 & 0.24 & 3.51 & 4.33 & 11.12 & 33.76 & 68.65 & explicit\\tabularnewline\n",
      " & 0.69 & 0.69 & 0.47 & 0.22 & 0.21 & 2.64 & 5.10 & 53.34 & 29.11 & 72.79 & implicit\\tabularnewline\n",
      "\\hline\n",
      "\\multirow{2}{*}{semeion} & 2.18 & 1.04 & 0.08 & 0.01 & 0.02 & 5.35 & 21.05 & 92.46 & 978.63 & 1565.21 & explicit\\tabularnewline\n",
      " & 2.18 & 1.04 & 0.08 & 0.01 & 0.00 & 90.42 & 1.71 & 7.28 & 149.68 & 559.76 & implicit\\tabularnewline\n",
      "\\hline\n",
      "\\multirow{2}{*}{spambase} & 0.67 & 0.36 & 0.18 & 0.16 & 0.17 & 8.17 & 2.06 & 20.93 & 67.37 & 102.59 & explicit\\tabularnewline\n",
      " & 0.67 & 0.36 & 0.18 & 0.16 & 0.17 & 9.62 & 3.12 & 11.46 & 80.37 & 161.66 & implicit\\tabularnewline\n",
      "\\hline\n",
      "\\multirow{2}{*}{statlog-german-credit} & 0.73 & 0.65 & 0.59 & 0.46 & 0.47 & 0.54 & 19.04 & 28.39 & 223.84 & 279.24 & explicit\\tabularnewline\n",
      " & 0.73 & 0.65 & 0.59 & 0.46 & 0.47 & 0.55 & 12.99 & 32.00 & 36.53 & 281.25 & implicit\\tabularnewline\n",
      "\\hline\n",
      "\\multirow{2}{*}{statlog-image} & 1.95 & 1.94 & 0.98 & 0.20 & 0.13 & 2.63 & 10.29 & 16.16 & 104.27 & 86.13 & explicit\\tabularnewline\n",
      " & 1.95 & 1.94 & 0.98 & 0.20 & 0.18 & 3.61 & 7.49 & 62.98 & 65.65 & 62.29 & implicit\\tabularnewline\n",
      "\\hline\n",
      "\\multirow{2}{*}{statlog-landsat} & 1.73 & 0.90 & 0.37 & 0.32 & 0.30 & 3.21 & 7.15 & 25.85 & 51.35 & 53.25 & explicit\\tabularnewline\n",
      " & 1.73 & 0.90 & 0.37 & 0.33 & 0.33 & 5.02 & 8.10 & 6.22 & 34.73 & 126.06 & implicit\\tabularnewline\n",
      "\\hline\n",
      "\\multirow{2}{*}{statlog-shuttle} & 0.80 & 0.18 & 0.03 & 0.04 & 0.01 & 0.02 & 0.54 & 0.71 & 40.30 & 4.51 & explicit\\tabularnewline\n",
      " & 0.80 & 0.18 & 0.03 & 0.02 & 0.02 & 0.02 & 0.12 & 0.26 & 7.60 & 13.13 & implicit\\tabularnewline\n",
      "\\hline\n",
      "\\multirow{2}{*}{steel-plates} & 1.91 & 1.80 & 1.22 & 0.72 & 0.69 & 3.44 & 14.42 & 12.85 & 99.23 & 87.18 & explicit\\tabularnewline\n",
      " & 1.91 & 1.80 & 1.22 & 0.73 & 0.70 & 68.19 & 11.35 & 169.10 & 136.68 & 340.84 & implicit\\tabularnewline\n",
      "\\hline\n",
      "\\multirow{2}{*}{thyroid} & 0.68 & 0.30 & 0.13 & 0.07 & 0.06 & 0.06 & 1.37 & 3.02 & 8.48 & 52.41 & explicit\\tabularnewline\n",
      " & 0.68 & 0.30 & 0.13 & 0.07 & 0.07 & 0.09 & 2.71 & 6.23 & 33.58 & 51.21 & implicit\\tabularnewline\n",
      "\\hline\n",
      "\\multirow{2}{*}{titanic} & 0.64 & 0.63 & 0.63 & 0.52 & 0.52 & 0.59 & 0.98 & 10.04 & 61.18 & 87.35 & explicit\\tabularnewline\n",
      " & 0.64 & 0.63 & 0.63 & 0.52 & 0.53 & 0.61 & 4.44 & 14.18 & 81.66 & 58.33 & implicit\\tabularnewline\n",
      "\\hline\n",
      "\\multirow{2}{*}{twonorm} & 0.69 & 0.55 & 0.06 & 0.06 & 0.06 & 0.07 & 0.59 & 5.49 & 23.61 & 26.69 & explicit\\tabularnewline\n",
      " & 0.69 & 0.55 & 0.06 & 0.06 & 0.07 & 0.08 & 2.58 & 3.33 & 4.87 & 21.40 & implicit\\tabularnewline\n",
      "\\hline\n",
      "\\multirow{2}{*}{wall-following} & 1.38 & 1.18 & 0.67 & 0.33 & 0.34 & 1.56 & 6.02 & 19.54 & 63.01 & 149.71 & explicit\\tabularnewline\n",
      " & 1.38 & 1.18 & 0.68 & 0.34 & 0.32 & 3.83 & 5.84 & 11.73 & 33.44 & 367.02 & implicit\\tabularnewline\n",
      "\\hline\n",
      "\\multirow{2}{*}{waveform} & 1.09 & 0.89 & 0.28 & 0.28 & 0.29 & 1.43 & 5.87 & 16.95 & 43.49 & 37.55 & explicit\\tabularnewline\n",
      " & 1.09 & 0.89 & 0.28 & 0.28 & 0.29 & 1.81 & 6.47 & 9.13 & 32.50 & 30.61 & implicit\\tabularnewline\n",
      "\\hline\n",
      "\\multirow{2}{*}{waveform-noise} & 1.09 & 0.82 & 0.29 & 0.33 & 0.29 & 10.64 & 21.44 & 41.78 & 107.99 & 249.30 & explicit\\tabularnewline\n",
      " & 1.09 & 0.82 & 0.29 & 0.33 & 0.31 & 7.92 & 9.56 & 10.69 & 87.91 & 35.45 & implicit\\tabularnewline\n",
      "\\hline\n",
      "\\multirow{2}{*}{wine-quality-red} & 1.78 & 1.55 & 1.20 & 0.96 & 0.95 & 1.01 & 4.72 & 16.11 & 72.08 & 206.43 & explicit\\tabularnewline\n",
      " & 1.78 & 1.55 & 1.20 & 0.97 & 0.96 & 0.99 & 7.27 & 24.77 & 71.79 & 183.35 & implicit\\tabularnewline\n",
      "\\hline\n",
      "\\multirow{2}{*}{wine-quality-white} & 1.96 & 1.42 & 1.18 & 1.12 & 1.14 & 1.36 & 5.40 & 28.62 & 95.23 & 209.29 & explicit\\tabularnewline\n",
      " & 1.96 & 1.42 & 1.18 & 1.12 & 1.15 & 1.30 & 22.65 & 22.89 & 267.55 & 226.40 & implicit\\tabularnewline\n",
      "\\hline\n",
      "\\multirow{2}{*}{yeast} & 2.29 & 2.07 & 1.73 & 1.21 & 1.21 & 2.11 & 5.53 & 16.11 & 40.73 & 139.51 & explicit\\tabularnewline\n",
      " & 2.29 & 2.07 & 1.73 & 1.21 & 1.29 & 2.06 & 18.38 & 30.82 & 100.81 & 318.28 & implicit\\tabularnewline\n",
      "\\hline\n",
      "\n"
     ]
    }
   ],
   "source": [
    "# Decide on what size datasets\n",
    "size_datasets = large_datasets # small_datasets #\n",
    "\n",
    "# Generate latex table\n",
    "latex_strings = []\n",
    "\n",
    "for dataset_name in dataset_names:\n",
    "    if dataset_name in size_datasets:\n",
    "        latex_row_list = dict()\n",
    "        for sgdtype in sgdtypes:\n",
    "            latex_row_list[sgdtype] = (['\\\\multirow{2}{*}{'+ dataset_name +'}'\n",
    "                                        if sgdtype == 'explicit' \n",
    "                                        else ''] \n",
    "                                       + ['{0:.2f}'.format(float(results[dataset_name][sgdtype][lr][epoch_num])) \n",
    "                                          for lr in learning_rates] \n",
    "                                       + [sgdtype])\n",
    "\n",
    "        latex_strings.append(' & '.join(latex_row_list['explicit']) \n",
    "              + '\\\\tabularnewline\\n' \n",
    "              + ' & '.join(latex_row_list['implicit'])\n",
    "              )\n",
    "\n",
    "print(''.join(latex_strings))"
   ]
  }
 ],
 "metadata": {
  "kernelspec": {
   "display_name": "Python 3",
   "language": "python",
   "name": "python3"
  },
  "language_info": {
   "codemirror_mode": {
    "name": "ipython",
    "version": 3
   },
   "file_extension": ".py",
   "mimetype": "text/x-python",
   "name": "python",
   "nbconvert_exporter": "python",
   "pygments_lexer": "ipython3",
   "version": "3.6.1"
  }
 },
 "nbformat": 4,
 "nbformat_minor": 2
}
