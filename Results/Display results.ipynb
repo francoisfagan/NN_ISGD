{
 "cells": [
  {
   "cell_type": "markdown",
   "metadata": {},
   "source": [
    "# Display results\n",
    "This code enables easy selection of experimental results and plotting their values"
   ]
  },
  {
   "cell_type": "code",
   "execution_count": 157,
   "metadata": {
    "collapsed": true
   },
   "outputs": [],
   "source": [
    "import json\n",
    "import os\n",
    "import numpy as np\n",
    "import matplotlib.pyplot as plt\n",
    "from matplotlib.backends.backend_pdf import PdfPages"
   ]
  },
  {
   "cell_type": "code",
   "execution_count": 158,
   "metadata": {
    "collapsed": true
   },
   "outputs": [],
   "source": [
    "def satistifies_conditions(experiment, conditions):\n",
    "    \"\"\" Check if experiment hyperparameters satisfy desired conditions\n",
    "    \"\"\"\n",
    "    hp = experiment['hyperparameters']\n",
    "    \n",
    "    # Check if each condition satistified\n",
    "    # If not, then return false\n",
    "    for key, value in conditions.items():\n",
    "        if key not in hp or hp[key] not in value:\n",
    "            return False\n",
    "    \n",
    "    # All conditions are satisfied\n",
    "    return True"
   ]
  },
  {
   "cell_type": "code",
   "execution_count": 3,
   "metadata": {
    "collapsed": true
   },
   "outputs": [],
   "source": [
    "def load_experiments_satisfying_conditions(conditions, anti_conditions=dict()):\n",
    "    \"\"\" Load all experiments that satisfy the given conditions,\n",
    "    except those that also satisfy the anticonditions\n",
    "    Return them as a list.\n",
    "    \"\"\"\n",
    "    # Get all experiment filenames\n",
    "    experiment_filenames = [f for f in os.listdir(os.getcwd()) if f[-5:] == '.json']\n",
    "    \n",
    "    # Initialize list of experiments that satisfy the conditions\n",
    "    experiments_satisfactory = []\n",
    "    \n",
    "    # Load each experiment file\n",
    "    for experiment_filename in experiment_filenames:\n",
    "        with open(experiment_filename) as experiment_file:\n",
    "            experiment = json.load(experiment_file)\n",
    "            \n",
    "            # Check if experiment satistifies conditions\n",
    "            # If so, append to list of experiments satisfying the conditions\n",
    "            if satistifies_conditions(experiment, conditions):\n",
    "                if anti_conditions == dict() or not satistifies_conditions(experiment, anti_conditions):\n",
    "                    experiments_satisfactory.append(experiment)\n",
    "                \n",
    "    return experiments_satisfactory"
   ]
  },
  {
   "cell_type": "code",
   "execution_count": 4,
   "metadata": {
    "collapsed": true
   },
   "outputs": [],
   "source": [
    "def get_per_epoch_performance(experiments, dataset, measure):\n",
    "    \"\"\" For each experiment return it performance on the given dataset for the given measure\n",
    "    \"\"\"\n",
    "    \n",
    "    # Check that the dataset and measure is valid\n",
    "    assert measure in {'average_accuracy', 'average_loss'}\n",
    "    assert dataset in {'train', 'test'}\n",
    "    \n",
    "    # Infer the number of epochs and experiments\n",
    "    # and create corresponding performance matrix\n",
    "    num_epochs = experiments[0]['hyperparameters']['epochs']\n",
    "    num_experiments = len(experiments)\n",
    "    performance = np.zeros((num_experiments, num_epochs))\n",
    "    \n",
    "    # Extract performances\n",
    "    for i, experiment in enumerate(experiments):\n",
    "        performance[i, :] = experiment['results'][dataset][measure]\n",
    "        \n",
    "    return performance\n",
    "        "
   ]
  },
  {
   "cell_type": "markdown",
   "metadata": {},
   "source": [
    "# Example usage"
   ]
  },
  {
   "cell_type": "code",
   "execution_count": 5,
   "metadata": {
    "collapsed": true
   },
   "outputs": [],
   "source": [
    "# Specify conditions for experiments\n",
    "conditions = {\n",
    "    'architecture': {'convffnn'},\n",
    "    'batch_size': {100},\n",
    "    'clipping_threshold': {0.0},\n",
    "    'dataset_name': {'mnist'},\n",
    "    'epochs': {3},\n",
    "    'initialization_scale': {'\\sqrt{\\frac{6}{n+m}}'},\n",
    "    'lr': {0.1},\n",
    "    'momentum': {0.0},\n",
    "    'mu': {0.0},\n",
    "    'seed': {1,2,3,4,5,6,7,8,9,10},\n",
    "    'sgdtype': {'explicit'}}"
   ]
  },
  {
   "cell_type": "code",
   "execution_count": 6,
   "metadata": {
    "collapsed": true
   },
   "outputs": [],
   "source": [
    "# Load experiments and their performance\n",
    "experiments = load_experiments_satisfying_conditions(conditions)\n",
    "measure = 'average_accuracy'\n",
    "performance = get_per_epoch_performance(experiments, 'train', measure)"
   ]
  },
  {
   "cell_type": "code",
   "execution_count": 7,
   "metadata": {},
   "outputs": [
    {
     "data": {
      "image/png": "[encoded data removed]",
      "text/plain": [
       "<Figure size 432x288 with 1 Axes>"
      ]
     },
     "metadata": {},
     "output_type": "display_data"
    }
   ],
   "source": [
    "# Create data for plotting\n",
    "epochs = performance.shape[1]\n",
    "x = np.arange(1,1+epochs)\n",
    "y = np.mean(performance,0)\n",
    "yerr = np.std(performance,0)\n",
    "\n",
    "# Plot!\n",
    "plt.figure()\n",
    "plt.errorbar(x, y, yerr=yerr)\n",
    "plt.xlabel('Epochs')\n",
    "plt.ylabel(measure)\n",
    "plt.show()"
   ]
  },
  {
   "cell_type": "markdown",
   "metadata": {},
   "source": [
    "# Mnist experiments"
   ]
  },
  {
   "cell_type": "code",
   "execution_count": 153,
   "metadata": {
    "collapsed": true
   },
   "outputs": [],
   "source": [
    "def get_minst_conditions(sgdtype, lr):\n",
    "    condition = {\n",
    "    'architecture': {'convffnn'},\n",
    "    'batch_size': {100},\n",
    "    'clipping_threshold': {0.0},\n",
    "    'dataset_name': {'mnist'},\n",
    "    'epochs': {1},\n",
    "    'initialization_scale': {'\\sqrt{\\frac{6}{n+m}}'},\n",
    "    'lr': {lr},\n",
    "    'momentum': {0.0},\n",
    "    'mu': {0.0},\n",
    "    'seed': set(range(1,21)),\n",
    "    'sgdtype': {sgdtype}\n",
    "    }\n",
    "    \n",
    "    if sgdtype == 'exact ISGD':\n",
    "        condition = {\n",
    "        'architecture': {'convffnn'},\n",
    "        'batch_size': {100},\n",
    "        'clipping_threshold': {0.0},\n",
    "        'dataset_name': {'mnist'},\n",
    "        'epochs': {1},\n",
    "        'initialization_scale': {'\\sqrt{\\frac{6}{n+m}}'},\n",
    "        'inner_ISGD_iterations': [100],  # '0.1'\n",
    "        'lr': {lr},\n",
    "        'momentum': {0.0},\n",
    "        'mu': {0.0},\n",
    "        'seed': set(range(1,21)),\n",
    "        'sgdtype': {'explicit'}\n",
    "        }\n",
    "    \n",
    "    return condition"
   ]
  },
  {
   "cell_type": "code",
   "execution_count": 156,
   "metadata": {},
   "outputs": [
    {
     "data": {
      "image/png": "[encoded data removed]",
      "text/plain": [
       "<Figure size 360x216 with 1 Axes>"
      ]
     },
     "metadata": {},
     "output_type": "display_data"
    }
   ],
   "source": [
    "# Select what parameters to fix\n",
    "measure = 'average_loss' # 'average_accuracy' # \n",
    "dataset = 'train'\n",
    "scatter = False\n",
    "\n",
    "# Gather the data\n",
    "learning_rates = [0.2, 0.4, 0.6, 0.8, 1.0, 1.2, 1.4, 1.6,1.8, 2.0]#  [i/10.0 for i in range(1,21)] looks a bit messy\n",
    "sgdtypes = ['explicit', 'implicit', 'exact ISGD']\n",
    "results = {sgdtype: {} for sgdtype in sgdtypes}\n",
    "for sgdtype in sgdtypes:\n",
    "    for lr in learning_rates:\n",
    "        conditions = get_minst_conditions(sgdtype, lr)\n",
    "        anticondition = dict() if sgdtype == 'exact ISGD' else {'inner_ISGD_iterations': [0,100]}\n",
    "        experiments = load_experiments_satisfying_conditions(conditions, anticondition)\n",
    "        performance = get_per_epoch_performance(experiments, dataset, measure)\n",
    "        if scatter:\n",
    "            results[sgdtype][lr] = performance\n",
    "        else:\n",
    "            results[sgdtype][lr] = (np.mean(performance), np.std(performance))\n",
    "\n",
    "# Plot\n",
    "with PdfPages('../plots/mnist_classification_' + measure + '.pdf') as pdf:\n",
    "    plt.figure(figsize=(5,3))#Default = (8.0, 6.0)\n",
    "    for sgdtype in sgdtypes:\n",
    "        if scatter:\n",
    "            for lr in learning_rates:\n",
    "                y = results[sgdtype][lr]\n",
    "                x = lr * np.ones(results[sgdtype][lr].shape)\n",
    "                plt.scatter(x, y,color='C1' if sgdtype=='implicit' else 'C0')\n",
    "        else:\n",
    "            x = learning_rates\n",
    "            y = [results[sgdtype][lr][0] for lr in learning_rates]\n",
    "            yerr = [results[sgdtype][lr][1] for lr in learning_rates]\n",
    "            plt.errorbar(x, y, yerr=yerr, label=sgdtype)\n",
    "    plt.xlabel('Learning rate')\n",
    "    plt.ylabel('Training set loss' if measure == 'average_loss' else 'Training set accuracy')\n",
    "    plt.legend()\n",
    "\n",
    "    # Save figure\n",
    "    pdf.savefig(bbox_inches=\"tight\")\n",
    "    plt.show()"
   ]
  },
  {
   "cell_type": "markdown",
   "metadata": {},
   "source": [
    "# Mnist experiments with intra-epoch losses"
   ]
  },
  {
   "cell_type": "code",
   "execution_count": 10,
   "metadata": {
    "collapsed": true
   },
   "outputs": [],
   "source": [
    "def get_minst_intra_epoch_conditions(lr):\n",
    "    condition = {\n",
    "    'architecture': ['convffnn'],\n",
    "    'batch_size': [100],\n",
    "    'clipping_threshold': [0.0],\n",
    "    'dataset_name': ['mnist'],\n",
    "    'epochs': [1],\n",
    "    'initialization_scale': ['\\sqrt{\\frac{6}{n+m}}'],\n",
    "    'intra_epoch': [True],\n",
    "    'lr': [lr],#, \n",
    "    'momentum': [0.0],\n",
    "    'mu': [0.0],\n",
    "    'nodes': [50],\n",
    "    'seed': list(range(1,6)),\n",
    "    'sgdtype': ['explicit']\n",
    "    }\n",
    "    \n",
    "    return condition"
   ]
  },
  {
   "cell_type": "code",
   "execution_count": 11,
   "metadata": {
    "collapsed": true
   },
   "outputs": [],
   "source": [
    "def get_per_intra_epoch_performance(experiments, measure):\n",
    "    \"\"\" For each experiment return it performance on the given dataset for the given measure\n",
    "    \"\"\"\n",
    "    \n",
    "    # Check that the dataset and measure is valid\n",
    "    assert measure in {'average_loss_intra_epoch', 'average_accuracy_intra_epoch'}\n",
    "    \n",
    "    # Infer the number of epochs and experiments\n",
    "    # and create corresponding performance matrix\n",
    "    num_intra = len(experiments[0]['results'][measure])\n",
    "    num_experiments = len(experiments)\n",
    "    performance = np.zeros((num_experiments, num_intra))\n",
    "    \n",
    "    # Extract performances\n",
    "    for i, experiment in enumerate(experiments):\n",
    "        performance[i, :] = experiment['results'][measure]\n",
    "        \n",
    "    return performance\n",
    "        "
   ]
  },
  {
   "cell_type": "code",
   "execution_count": 96,
   "metadata": {},
   "outputs": [
    {
     "data": {
      "image/png": "[encoded data removed]",
      "text/plain": [
       "<Figure size 360x216 with 1 Axes>"
      ]
     },
     "metadata": {},
     "output_type": "display_data"
    }
   ],
   "source": [
    "# Select what parameters to fix\n",
    "measure = 'average_loss_intra_epoch' # 'average_accuracy_intra_epoch' #\n",
    "dataset = 'train'\n",
    "scatter = False\n",
    "\n",
    "# Gather the data\n",
    "learning_rates = [0.1, 0.2, 0.3, 0.4, 0.5]#, 1.0] # [0.1, 0.2, 0.3, 0.4, 0.5]\n",
    "sgdtypes = 'explicit'\n",
    "results = {}\n",
    "for lr in learning_rates:\n",
    "    conditions = get_minst_intra_epoch_conditions(lr)\n",
    "    experiments = load_experiments_satisfying_conditions(conditions)\n",
    "    results[lr] = get_per_intra_epoch_performance(experiments, measure)\n",
    "    \n",
    "# Plot\n",
    "with PdfPages('../plots/intra_epoch_' + measure + '.pdf') as pdf:\n",
    "    plt.figure(figsize=(5,3))#Default = (8.0, 6.0)\n",
    "    num_intra = len(experiments[0]['results'][measure])\n",
    "    x = list(np.arange(1, 1 + num_intra) / num_intra)\n",
    "    for lr in learning_rates:\n",
    "        y = np.mean(results[lr],axis=0)\n",
    "        yerr = np.std(results[lr],axis=0)\n",
    "        plt.errorbar(x, y, yerr=yerr, label=lr)\n",
    "    plt.xlabel('Epochs')\n",
    "    plt.ylabel('Training set loss' if measure == 'average_loss_intra_epoch' else 'Training set accuracy')\n",
    "    plt.legend(title='Learning rates')\n",
    "    plt.tight_layout(pad=0.3)\n",
    "\n",
    "    # Save figure\n",
    "    pdf.savefig(bbox_inches=\"tight\")\n",
    "    plt.show()"
   ]
  },
  {
   "cell_type": "markdown",
   "metadata": {},
   "source": [
    "# Mnist experiments with clipping"
   ]
  },
  {
   "cell_type": "code",
   "execution_count": 13,
   "metadata": {
    "collapsed": true
   },
   "outputs": [],
   "source": [
    "def get_minst_clipping_conditions(sgdtype, lr):\n",
    "    condition = {\n",
    "    'architecture': {'convffnn'},\n",
    "    'batch_size': {100},\n",
    "    'clipping_threshold': {1.0},\n",
    "    'dataset_name': {'mnist'},\n",
    "    'epochs': {1},\n",
    "    'initialization_scale': {'\\sqrt{\\frac{6}{n+m}}'},\n",
    "    'lr': {lr},\n",
    "    'momentum': {0.0},\n",
    "    'mu': {0.0},\n",
    "    'seed': set(range(1,21)),# - set([1]),\n",
    "    'sgdtype': {sgdtype}\n",
    "    }\n",
    "    \n",
    "    return condition"
   ]
  },
  {
   "cell_type": "code",
   "execution_count": 14,
   "metadata": {
    "collapsed": true
   },
   "outputs": [],
   "source": [
    "def get_minst_clipping_anti_conditions(sgdtype, lr):\n",
    "    condition = {\n",
    "    'inner_ISGD_iterations': {0, 10},  # '0.1'\n",
    "    'intra_epoch': {True, False}\n",
    "    }\n",
    "    \n",
    "    return condition"
   ]
  },
  {
   "cell_type": "code",
   "execution_count": 95,
   "metadata": {},
   "outputs": [
    {
     "data": {
      "image/png": "[encoded data removed]",
      "text/plain": [
       "<Figure size 360x216 with 1 Axes>"
      ]
     },
     "metadata": {},
     "output_type": "display_data"
    }
   ],
   "source": [
    "# Select what parameters to fix\n",
    "measure = 'average_accuracy' # 'average_loss' # \n",
    "dataset = 'train'\n",
    "\n",
    "# Gather the data\n",
    "learning_rates = [0.5, 1.0, 1.5, 2.0, 2.5, 3.0, 3.5, 4]\n",
    "#[0.25, 0.5, 0.75, 1.0,1.25,1.5,1.75,2.0]#[i/10.0 for i in range(1,21)]\n",
    "sgdtypes = ['explicit', 'implicit']\n",
    "results = {sgdtype: {} for sgdtype in sgdtypes}\n",
    "for sgdtype in sgdtypes:\n",
    "    for lr in learning_rates:\n",
    "        conditions = get_minst_clipping_conditions(sgdtype, lr)\n",
    "        anti_conditions = get_minst_clipping_anti_conditions(sgdtype, lr)\n",
    "        experiments = load_experiments_satisfying_conditions(conditions, anti_conditions)\n",
    "        performance = get_per_epoch_performance(experiments, dataset, measure)\n",
    "        results[sgdtype][lr] = (np.mean(performance), np.std(performance))\n",
    "\n",
    "# Plot\n",
    "with PdfPages('../plots/minst_classification_clipping_' + measure + '.pdf') as pdf:\n",
    "    plt.figure(figsize=(5,3))#Default = (8.0, 6.0)\n",
    "    for sgdtype in sgdtypes:\n",
    "        x = learning_rates\n",
    "        y = [results[sgdtype][lr][0] for lr in learning_rates]\n",
    "        yerr = [results[sgdtype][lr][1] for lr in learning_rates]\n",
    "        plt.errorbar(x, y, yerr=yerr, label=sgdtype)\n",
    "    plt.xlabel('Learning rate')\n",
    "    plt.ylabel('Training set loss' if measure == 'average_loss_intra_epoch' else 'Training set accuracy')\n",
    "    plt.legend()\n",
    "    plt.tight_layout(pad=0.3)\n",
    "\n",
    "    # Save figure\n",
    "    pdf.savefig(bbox_inches=\"tight\")\n",
    "    plt.show()"
   ]
  },
  {
   "cell_type": "markdown",
   "metadata": {},
   "source": [
    "# Autoencoder experiments"
   ]
  },
  {
   "cell_type": "code",
   "execution_count": 16,
   "metadata": {
    "collapsed": true
   },
   "outputs": [],
   "source": [
    "def get_minst_autoencoder_conditions(sgdtype, lr):\n",
    "    condition = {\n",
    "    \"architecture\": {\"autoencoder\"},\n",
    "    \"batch_size\": {100},\n",
    "    \"clipping_threshold\": {0.0},\n",
    "    \"dataset_name\": {\"mnist_autoencoder\"},\n",
    "    \"epochs\": {1},\n",
    "    \"initialization_scale\": {\"\\\\sqrt{\\frac{6}{n+m}}\"},\n",
    "    \"lr\": {lr},\n",
    "    \"momentum\": {0.0},\n",
    "    \"mu\": {0.0},\n",
    "    \"seed\": set(range(1,21)),\n",
    "    \"sgdtype\": {sgdtype},\n",
    "    \"data_type\": {\"autoencoder\"}\n",
    "    }\n",
    "    \n",
    "    return condition"
   ]
  },
  {
   "cell_type": "code",
   "execution_count": 169,
   "metadata": {},
   "outputs": [
    {
     "data": {
      "image/png": "[encoded data removed]",
      "text/plain": [
       "<Figure size 360x216 with 1 Axes>"
      ]
     },
     "metadata": {},
     "output_type": "display_data"
    }
   ],
   "source": [
    "# Select what parameters to fix\n",
    "dataset = 'train'\n",
    "\n",
    "# Gather the data\n",
    "measure = 'average_loss'\n",
    "learning_rates = [0.0001,0.001, 0.0025, 0.005, 0.006, 0.007, 0.008, 0.009, 0.01, 0.0125, 0.015, 0.02]\n",
    "sgdtypes = ['explicit', 'implicit']\n",
    "results = {sgdtype: {} for sgdtype in sgdtypes}\n",
    "for sgdtype in sgdtypes:\n",
    "    for lr in learning_rates:\n",
    "        conditions = get_minst_autoencoder_conditions(sgdtype, lr)\n",
    "        experiments = load_experiments_satisfying_conditions(conditions)\n",
    "        performance = get_per_epoch_performance(experiments, dataset, measure)\n",
    "        results[sgdtype][lr] = (np.mean(performance), np.std(performance))\n",
    "\n",
    "# Plot\n",
    "with PdfPages('../plots/minst_autoencoder_' + measure + '.pdf') as pdf:\n",
    "    plt.figure(figsize=(5,3))#Default = (8.0, 6.0)#\n",
    "    for sgdtype in sgdtypes:\n",
    "        x = learning_rates\n",
    "        y = [results[sgdtype][lr][0] for lr in learning_rates]\n",
    "        yerr = [results[sgdtype][lr][1] for lr in learning_rates]\n",
    "        plt.errorbar(x, y, yerr=yerr, label=sgdtype)\n",
    "    plt.xlabel('Learning rate')\n",
    "    plt.ylabel('Training loss')\n",
    "    plt.legend(loc=\"upper left\")\n",
    "    ax = plt.gca()\n",
    "    ax.xaxis.set_major_locator(plt.MaxNLocator(5)) # Specifies the maximum number of ticks\n",
    "\n",
    "    # Save figure\n",
    "    pdf.savefig(bbox_inches=\"tight\")\n",
    "    plt.show()"
   ]
  },
  {
   "cell_type": "markdown",
   "metadata": {},
   "source": [
    "# Autoencoder with clipping experiments"
   ]
  },
  {
   "cell_type": "code",
   "execution_count": 161,
   "metadata": {
    "collapsed": true
   },
   "outputs": [],
   "source": [
    "def get_minst_autoencoder_clipping_conditions(sgdtype, lr):\n",
    "    condition = {\n",
    "    \"architecture\": {\"autoencoder\"},\n",
    "    \"batch_size\": {100},\n",
    "    \"clipping_threshold\": {1.0},\n",
    "    \"dataset_name\": {\"mnist_autoencoder\"},\n",
    "    \"epochs\": {1},\n",
    "    \"initialization_scale\": {\"\\\\sqrt{\\frac{6}{n+m}}\"},\n",
    "    \"lr\": {lr},\n",
    "    \"momentum\": {0.0},\n",
    "    \"mu\": {0.0},\n",
    "    \"seed\": set(range(1,21)),\n",
    "    \"sgdtype\": {sgdtype}\n",
    "    }\n",
    "    \n",
    "    return condition"
   ]
  },
  {
   "cell_type": "code",
   "execution_count": 171,
   "metadata": {},
   "outputs": [
    {
     "data": {
      "image/png": "[encoded data removed]",
      "text/plain": [
       "<Figure size 360x216 with 1 Axes>"
      ]
     },
     "metadata": {},
     "output_type": "display_data"
    }
   ],
   "source": [
    "# Select what parameters to fix\n",
    "dataset = 'train'\n",
    "\n",
    "# Gather the data\n",
    "measure = 'average_loss'\n",
    "learning_rates = [0.01, 0.05, 0.1, 0.2, 0.3, 0.4] # , 0.5\n",
    "sgdtypes = ['explicit', 'implicit']\n",
    "results = {sgdtype: {} for sgdtype in sgdtypes}\n",
    "for sgdtype in sgdtypes:\n",
    "    for lr in learning_rates:\n",
    "        conditions = get_minst_autoencoder_clipping_conditions(sgdtype, lr)\n",
    "        experiments = load_experiments_satisfying_conditions(conditions)\n",
    "        performance = get_per_epoch_performance(experiments, dataset, measure)\n",
    "        results[sgdtype][lr] = (np.mean(performance), np.std(performance))\n",
    "\n",
    "# Plot\n",
    "with PdfPages('../plots/minst_autoencoder_clipped_' + measure + '.pdf') as pdf:\n",
    "    plt.figure(figsize=(5,3))#Default = (8.0, 6.0)#\n",
    "    for sgdtype in sgdtypes:\n",
    "        x = learning_rates\n",
    "        y = [results[sgdtype][lr][0] for lr in learning_rates]\n",
    "        yerr = [results[sgdtype][lr][1] for lr in learning_rates]\n",
    "        plt.errorbar(x, y, yerr=yerr, label=sgdtype)\n",
    "    plt.xlabel('Learning rate')\n",
    "    plt.ylabel('Training loss')\n",
    "    plt.legend()\n",
    "\n",
    "    # Save figure\n",
    "    pdf.savefig(bbox_inches=\"tight\")\n",
    "    plt.show()"
   ]
  },
  {
   "cell_type": "markdown",
   "metadata": {},
   "source": [
    "# RNN piano"
   ]
  },
  {
   "cell_type": "code",
   "execution_count": 190,
   "metadata": {
    "collapsed": true
   },
   "outputs": [],
   "source": [
    "def get_music_conditions(sgdtype, lr, dataset_name):\n",
    "    \n",
    "    condition = {\n",
    "        'architecture': ['music'],\n",
    "        'batch_size': [100],\n",
    "        'clipping_threshold': [0.0],\n",
    "        'dataset_name': [dataset_name],\n",
    "        'epochs': [10],\n",
    "        'initialization_scale': ['\\sqrt{\\frac{6}{n+m}}'],  # '0.1'\n",
    "        'inner_ISGD_iterations': [0],\n",
    "        'intra_epoch': [False],\n",
    "        'lr': [lr],\n",
    "        'momentum': [0.0],\n",
    "        'mu': [0.0],\n",
    "        'nodes': [50],\n",
    "        'seed': list(range(1,2)),\n",
    "        'sgdtype': [sgdtype]}\n",
    "    \n",
    "    return condition\n",
    " "
   ]
  },
  {
   "cell_type": "code",
   "execution_count": 236,
   "metadata": {},
   "outputs": [
    {
     "data": {
      "image/png": "[encoded data removed]",
      "text/plain": [
       "<Figure size 432x288 with 1 Axes>"
      ]
     },
     "metadata": {},
     "output_type": "display_data"
    }
   ],
   "source": [
    "# Select what parameters to fix\n",
    "dataset = 'train'\n",
    "epoch_num = 5\n",
    "dataset_name = 'Piano-midi.de'#'JSB Chorales'#'Nottingham' #'MuseData'# \n",
    "\n",
    "# Gather the data\n",
    "measure = 'average_loss'\n",
    "learning_rates = [0.01, 0.05, 0.1, 0.15, 0.5, 1.0] #, 2.0, 5.0, 10.0\n",
    "sgdtypes = ['explicit', 'implicit']\n",
    "results = {sgdtype: {} for sgdtype in sgdtypes}\n",
    "for sgdtype in sgdtypes:\n",
    "    for lr in learning_rates:\n",
    "        conditions = get_music_conditions(sgdtype, lr, dataset_name)\n",
    "        experiments = load_experiments_satisfying_conditions(conditions)\n",
    "        performance = get_per_epoch_performance(experiments, dataset, measure)[0]\n",
    "        results[sgdtype][lr] = performance#(np.mean(performance), np.std(performance))\n",
    "\n",
    "# Plot\n",
    "plt.figure()\n",
    "for sgdtype in sgdtypes:\n",
    "    # Plot over learning rates\n",
    "#     x = learning_rates\n",
    "#     y = [results[sgdtype][lr][epoch_num] for lr in learning_rates]\n",
    "    \n",
    "    # Plot over epochs\n",
    "    lr = 0.01\n",
    "    epoch_list = list(range(10))\n",
    "    x = epoch_list\n",
    "    y = [results[sgdtype][lr][e] for e in epoch_list]\n",
    "    \n",
    "    plt.plot(x, y, label=sgdtype)\n",
    "plt.xlabel('Learning rate')\n",
    "plt.ylabel('Training loss')\n",
    "plt.legend()\n",
    "plt.show()"
   ]
  },
  {
   "cell_type": "code",
   "execution_count": 205,
   "metadata": {},
   "outputs": [
    {
     "data": {
      "text/plain": [
       "10.188898356200305"
      ]
     },
     "execution_count": 205,
     "metadata": {},
     "output_type": "execute_result"
    }
   ],
   "source": [
    "results['explicit'][lr][0]"
   ]
  }
 ],
 "metadata": {
  "kernelspec": {
   "display_name": "Python 3",
   "language": "python",
   "name": "python3"
  },
  "language_info": {
   "codemirror_mode": {
    "name": "ipython",
    "version": 3
   },
   "file_extension": ".py",
   "mimetype": "text/x-python",
   "name": "python",
   "nbconvert_exporter": "python",
   "pygments_lexer": "ipython3",
   "version": "3.6.1"
  }
 },
 "nbformat": 4,
 "nbformat_minor": 2
}
