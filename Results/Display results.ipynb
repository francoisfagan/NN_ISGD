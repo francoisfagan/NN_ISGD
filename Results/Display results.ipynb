{
 "cells": [
  {
   "cell_type": "code",
   "execution_count": 15,
   "metadata": {
    "collapsed": true
   },
   "outputs": [],
   "source": [
    "import json\n",
    "import os\n",
    "import numpy as np\n",
    "import matplotlib.pyplot as plt"
   ]
  },
  {
   "cell_type": "code",
   "execution_count": 2,
   "metadata": {},
   "outputs": [],
   "source": [
    "def satistifies_conditions(experiment, conditions):\n",
    "    \"\"\" Check if experiment hyperparameters satisfy desired conditions\n",
    "    \"\"\"\n",
    "    hp = experiment['hyperparameters']\n",
    "    \n",
    "    # Check if each condition satistified\n",
    "    # If not, then return false\n",
    "    for key, value in conditions.items():\n",
    "        if hp[key] != value:\n",
    "            return False\n",
    "    \n",
    "    # All conditions are satisfied\n",
    "    return True"
   ]
  },
  {
   "cell_type": "code",
   "execution_count": 3,
   "metadata": {},
   "outputs": [],
   "source": [
    "def load_experiments_satisfying_conditions(conditions):\n",
    "    \"\"\" Load all experiments that satisfy the given conditions.\n",
    "    Return them as a list.\n",
    "    \"\"\"\n",
    "    # Get all experiment filenames\n",
    "    experiment_filenames = [f for f in os.listdir(os.getcwd()) if f[-5:] == '.json']\n",
    "    \n",
    "    # Initialize list of experiments that satisfy the conditions\n",
    "    experiments_satisfactory = []\n",
    "    \n",
    "    # Load each experiment file\n",
    "    for experiment_filename in experiment_filenames:\n",
    "        with open(experiment_filename) as experiment_file:\n",
    "            experiment = json.load(experiment_file)\n",
    "            \n",
    "            # Check if experiment satistifies conditions\n",
    "            # If so, append to list of experiments satisfying the conditions\n",
    "            if satistifies_conditions(experiment, conditions):\n",
    "                experiments_satisfactory.append(experiment)\n",
    "                \n",
    "    return experiments_satisfactory"
   ]
  },
  {
   "cell_type": "code",
   "execution_count": 29,
   "metadata": {
    "collapsed": true
   },
   "outputs": [],
   "source": [
    "def get_per_epoch_performance(experiments, dataset, measure):\n",
    "    assert measure in {'average_accuracy', 'average_loss'}\n",
    "    assert dataset in {'train', 'test'}\n",
    "    \n",
    "    num_epochs = experiments[0]['hyperparameters']['epochs']\n",
    "    num_experiments = len(experiments)\n",
    "    \n",
    "    # Initialize matrix of experiments and epochs\n",
    "    performance = np.zeros((num_experiments, num_epochs))\n",
    "    for i, experiment in enumerate(experiments):\n",
    "        performance[i, :] = experiment['results'][dataset][measure]\n",
    "        \n",
    "    return performance\n",
    "        "
   ]
  },
  {
   "cell_type": "code",
   "execution_count": 24,
   "metadata": {
    "collapsed": true
   },
   "outputs": [],
   "source": [
    "conditions = {\n",
    "    'architecture': 'convffnn',  # 'rnn'  # 'lstm'  #\n",
    "    'batch_size': 100,\n",
    "    'clipping_threshold': 0.0,\n",
    "    'dataset_name': 'mnist',  # 'easy_addition'  # 'simple_rnn' #\n",
    "    'epochs': 3,\n",
    "    'initialization_scale': '\\sqrt{\\frac{6}{n+m}}',  # '0.1'\n",
    "    'lr': 0.1,\n",
    "    'momentum': 0.0,\n",
    "    'mu': 0.0,\n",
    "#     'seed': 9,\n",
    "    'sgdtype': 'explicit'}"
   ]
  },
  {
   "cell_type": "code",
   "execution_count": 25,
   "metadata": {},
   "outputs": [],
   "source": [
    "experiments = load_experiments_satisfying_conditions(conditions)"
   ]
  },
  {
   "cell_type": "code",
   "execution_count": 26,
   "metadata": {},
   "outputs": [
    {
     "data": {
      "text/plain": [
       "[{'hyperparameters': {'architecture': 'convffnn',\n",
       "   'batch_size': 100,\n",
       "   'clipping_threshold': 0.0,\n",
       "   'data_type': 'classification',\n",
       "   'dataset_name': 'mnist',\n",
       "   'epochs': 3,\n",
       "   'initialization_scale': '\\\\sqrt{\\x0crac{6}{n+m}}',\n",
       "   'lr': 0.1,\n",
       "   'momentum': 0.0,\n",
       "   'mu': 0.0,\n",
       "   'seed': 8,\n",
       "   'sgdtype': 'explicit'},\n",
       "  'results': {'runtime': 96.44668126106262,\n",
       "   'test': {'average_accuracy': [96.61, 97.96, 98.2],\n",
       "    'average_loss': [0.11134519221261144,\n",
       "     0.06870078049134463,\n",
       "     0.06058314834954217]},\n",
       "   'train': {'average_accuracy': [96.41166666666666,\n",
       "     97.655,\n",
       "     98.00333333333333],\n",
       "    'average_loss': [0.11887394819719097,\n",
       "     0.07746965805068612,\n",
       "     0.06541564535039167]}}},\n",
       " {'hyperparameters': {'architecture': 'convffnn',\n",
       "   'batch_size': 100,\n",
       "   'clipping_threshold': 0.0,\n",
       "   'data_type': 'classification',\n",
       "   'dataset_name': 'mnist',\n",
       "   'epochs': 3,\n",
       "   'initialization_scale': '\\\\sqrt{\\x0crac{6}{n+m}}',\n",
       "   'lr': 0.1,\n",
       "   'momentum': 0.0,\n",
       "   'mu': 0.0,\n",
       "   'seed': 9,\n",
       "   'sgdtype': 'explicit'},\n",
       "  'results': {'runtime': 106.22691607475281,\n",
       "   'test': {'average_accuracy': [96.51, 97.56, 97.96],\n",
       "    'average_loss': [0.10642560234293341,\n",
       "     0.07648355235345662,\n",
       "     0.06093078379984945]},\n",
       "   'train': {'average_accuracy': [96.39333333333333, 97.52166666666666, 97.97],\n",
       "    'average_loss': [0.11579179835816224,\n",
       "     0.08252692143588017,\n",
       "     0.06806553555031618]}}}]"
      ]
     },
     "execution_count": 26,
     "metadata": {},
     "output_type": "execute_result"
    }
   ],
   "source": [
    "experiments"
   ]
  },
  {
   "cell_type": "code",
   "execution_count": 39,
   "metadata": {},
   "outputs": [],
   "source": [
    "measure = 'average_accuracy'\n",
    "performance = get_per_epoch_performance(experiments, 'train', measure)"
   ]
  },
  {
   "cell_type": "code",
   "execution_count": 40,
   "metadata": {},
   "outputs": [
    {
     "data": {
      "image/png": "[encoded data removed]",
      "text/plain": [
       "<matplotlib.figure.Figure at 0x10f159ba8>"
      ]
     },
     "metadata": {},
     "output_type": "display_data"
    }
   ],
   "source": [
    "# Create data for plotting\n",
    "epochs = performance.shape[1]\n",
    "x = np.arange(1,1+epochs)\n",
    "y = np.mean(performance,0)\n",
    "yerr = np.std(performance,0)\n",
    "\n",
    "# Plot!\n",
    "plt.figure()\n",
    "plt.errorbar(x, y, yerr=yerr)\n",
    "plt.xlabel('Epochs')\n",
    "plt.ylabel(measure)\n",
    "plt.show()"
   ]
  }
 ],
 "metadata": {
  "kernelspec": {
   "display_name": "Python 3",
   "language": "python",
   "name": "python3"
  },
  "language_info": {
   "codemirror_mode": {
    "name": "ipython",
    "version": 3
   },
   "file_extension": ".py",
   "mimetype": "text/x-python",
   "name": "python",
   "nbconvert_exporter": "python",
   "pygments_lexer": "ipython3",
   "version": "3.6.1"
  }
 },
 "nbformat": 4,
 "nbformat_minor": 2
}
