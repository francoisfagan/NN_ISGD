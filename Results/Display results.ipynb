{
 "cells": [
  {
   "cell_type": "markdown",
   "metadata": {},
   "source": [
    "# Display results\n",
    "This code enables easy selection of experimental results and plotting their values"
   ]
  },
  {
   "cell_type": "code",
   "execution_count": 1,
   "metadata": {
    "collapsed": true
   },
   "outputs": [],
   "source": [
    "import json\n",
    "import os\n",
    "import numpy as np\n",
    "import matplotlib.pyplot as plt"
   ]
  },
  {
   "cell_type": "code",
   "execution_count": 2,
   "metadata": {
    "collapsed": true
   },
   "outputs": [],
   "source": [
    "def satistifies_conditions(experiment, conditions):\n",
    "    \"\"\" Check if experiment hyperparameters satisfy desired conditions\n",
    "    \"\"\"\n",
    "    hp = experiment['hyperparameters']\n",
    "    \n",
    "    # Check if each condition satistified\n",
    "    # If not, then return false\n",
    "    for key, value in conditions.items():\n",
    "        if hp[key] not in value:\n",
    "            return False\n",
    "    \n",
    "    # All conditions are satisfied\n",
    "    return True"
   ]
  },
  {
   "cell_type": "code",
   "execution_count": 3,
   "metadata": {
    "collapsed": true
   },
   "outputs": [],
   "source": [
    "def load_experiments_satisfying_conditions(conditions):\n",
    "    \"\"\" Load all experiments that satisfy the given conditions.\n",
    "    Return them as a list.\n",
    "    \"\"\"\n",
    "    # Get all experiment filenames\n",
    "    experiment_filenames = [f for f in os.listdir(os.getcwd()) if f[-5:] == '.json']\n",
    "    \n",
    "    # Initialize list of experiments that satisfy the conditions\n",
    "    experiments_satisfactory = []\n",
    "    \n",
    "    # Load each experiment file\n",
    "    for experiment_filename in experiment_filenames:\n",
    "        with open(experiment_filename) as experiment_file:\n",
    "            experiment = json.load(experiment_file)\n",
    "            \n",
    "            # Check if experiment satistifies conditions\n",
    "            # If so, append to list of experiments satisfying the conditions\n",
    "            if satistifies_conditions(experiment, conditions):\n",
    "                experiments_satisfactory.append(experiment)\n",
    "                \n",
    "    return experiments_satisfactory"
   ]
  },
  {
   "cell_type": "code",
   "execution_count": 4,
   "metadata": {
    "collapsed": true
   },
   "outputs": [],
   "source": [
    "def get_per_epoch_performance(experiments, dataset, measure):\n",
    "    \"\"\" For each experiment return it performance on the given dataset for the given measure\n",
    "    \"\"\"\n",
    "    \n",
    "    # Check that the dataset and measure is valid\n",
    "    assert measure in {'average_accuracy', 'average_loss'}\n",
    "    assert dataset in {'train', 'test'}\n",
    "    \n",
    "    # Infer the number of epochs and experiments\n",
    "    # and create corresponding performance matrix\n",
    "    num_epochs = experiments[0]['hyperparameters']['epochs']\n",
    "    num_experiments = len(experiments)\n",
    "    performance = np.zeros((num_experiments, num_epochs))\n",
    "    \n",
    "    # Extract performances\n",
    "    for i, experiment in enumerate(experiments):\n",
    "        performance[i, :] = experiment['results'][dataset][measure]\n",
    "        \n",
    "    return performance\n",
    "        "
   ]
  },
  {
   "cell_type": "markdown",
   "metadata": {},
   "source": [
    "# Example usage"
   ]
  },
  {
   "cell_type": "code",
   "execution_count": 5,
   "metadata": {
    "collapsed": true
   },
   "outputs": [],
   "source": [
    "# Specify conditions for experiments\n",
    "conditions = {\n",
    "    'architecture': {'convffnn'},\n",
    "    'batch_size': {100},\n",
    "    'clipping_threshold': {0.0},\n",
    "    'dataset_name': {'mnist'},\n",
    "    'epochs': {3},\n",
    "    'initialization_scale': {'\\sqrt{\\frac{6}{n+m}}'},\n",
    "    'lr': {0.1},\n",
    "    'momentum': {0.0},\n",
    "    'mu': {0.0},\n",
    "    'seed': {1,2,3,4,5,6,7,8,9,10},\n",
    "    'sgdtype': {'explicit'}}"
   ]
  },
  {
   "cell_type": "code",
   "execution_count": 6,
   "metadata": {},
   "outputs": [],
   "source": [
    "# Load experiments and their performance\n",
    "experiments = load_experiments_satisfying_conditions(conditions)\n",
    "measure = 'average_accuracy'\n",
    "performance = get_per_epoch_performance(experiments, 'train', measure)"
   ]
  },
  {
   "cell_type": "code",
   "execution_count": 7,
   "metadata": {},
   "outputs": [
    {
     "data": {
      "image/png": "[encoded data removed]",
      "text/plain": [
       "<Figure size 432x288 with 1 Axes>"
      ]
     },
     "metadata": {},
     "output_type": "display_data"
    }
   ],
   "source": [
    "# Create data for plotting\n",
    "epochs = performance.shape[1]\n",
    "x = np.arange(1,1+epochs)\n",
    "y = np.mean(performance,0)\n",
    "yerr = np.std(performance,0)\n",
    "\n",
    "# Plot!\n",
    "plt.figure()\n",
    "plt.errorbar(x, y, yerr=yerr)\n",
    "plt.xlabel('Epochs')\n",
    "plt.ylabel(measure)\n",
    "plt.show()"
   ]
  },
  {
   "cell_type": "markdown",
   "metadata": {},
   "source": [
    "# Mnist experiments"
   ]
  },
  {
   "cell_type": "code",
   "execution_count": 8,
   "metadata": {
    "collapsed": true
   },
   "outputs": [],
   "source": [
    "def get_conditions(sgdtype, lr):\n",
    "    condition = {\n",
    "    'architecture': {'convffnn'},\n",
    "    'batch_size': {100},\n",
    "    'clipping_threshold': {0.0},\n",
    "    'dataset_name': {'mnist'},\n",
    "    'epochs': {1},\n",
    "    'initialization_scale': {'\\sqrt{\\frac{6}{n+m}}'},\n",
    "    'lr': {lr},\n",
    "    'momentum': {0.0},\n",
    "    'mu': {0.0},\n",
    "    'seed': set(range(1,21)),\n",
    "    'sgdtype': {sgdtype}}\n",
    "    \n",
    "    return condition"
   ]
  },
  {
   "cell_type": "code",
   "execution_count": 9,
   "metadata": {
    "collapsed": true
   },
   "outputs": [],
   "source": [
    "# Select what parameters to fix\n",
    "measure = 'average_accuracy' # 'average_loss' # \n",
    "dataset = 'train'"
   ]
  },
  {
   "cell_type": "code",
   "execution_count": 10,
   "metadata": {},
   "outputs": [],
   "source": [
    "# Gather the data\n",
    "learning_rates = [i/10.0 for i in range(1,20)]\n",
    "sgdtypes = ['explicit', 'implicit']\n",
    "results = {sgdtype: {} for sgdtype in sgdtypes}\n",
    "for sgdtype in sgdtypes:\n",
    "    for lr in learning_rates:\n",
    "        conditions = get_conditions(sgdtype, lr)\n",
    "        experiments = load_experiments_satisfying_conditions(conditions)\n",
    "        performance = get_per_epoch_performance(experiments, dataset, measure)\n",
    "        results[sgdtype][lr] = (np.mean(performance), np.std(performance))"
   ]
  },
  {
   "cell_type": "code",
   "execution_count": 11,
   "metadata": {},
   "outputs": [
    {
     "data": {
      "image/png": "[encoded data removed]",
      "text/plain": [
       "<Figure size 432x288 with 1 Axes>"
      ]
     },
     "metadata": {},
     "output_type": "display_data"
    }
   ],
   "source": [
    "# Plot\n",
    "plt.figure()\n",
    "for sgdtype in sgdtypes:\n",
    "    x = learning_rates\n",
    "    y = [results[sgdtype][lr][0] for lr in learning_rates]\n",
    "    yerr = [results[sgdtype][lr][1] for lr in learning_rates]\n",
    "    plt.errorbar(x, y, yerr=yerr, label=sgdtype)\n",
    "plt.xlabel('Learning rate')\n",
    "plt.ylabel(measure)\n",
    "plt.legend()\n",
    "plt.show()"
   ]
  }
 ],
 "metadata": {
  "kernelspec": {
   "display_name": "Python 3",
   "language": "python",
   "name": "python3"
  },
  "language_info": {
   "codemirror_mode": {
    "name": "ipython",
    "version": 3
   },
   "file_extension": ".py",
   "mimetype": "text/x-python",
   "name": "python",
   "nbconvert_exporter": "python",
   "pygments_lexer": "ipython3",
   "version": "3.6.1"
  }
 },
 "nbformat": 4,
 "nbformat_minor": 2
}
