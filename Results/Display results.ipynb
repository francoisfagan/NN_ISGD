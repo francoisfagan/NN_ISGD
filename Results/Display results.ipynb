{
 "cells": [
  {
   "cell_type": "markdown",
   "metadata": {},
   "source": [
    "# Display results\n",
    "This code enables easy selection of experimental results and plotting their values"
   ]
  },
  {
   "cell_type": "code",
   "execution_count": 1,
   "metadata": {
    "collapsed": true
   },
   "outputs": [],
   "source": [
    "import json\n",
    "import os\n",
    "import numpy as np\n",
    "import matplotlib.pyplot as plt\n",
    "from matplotlib.backends.backend_pdf import PdfPages"
   ]
  },
  {
   "cell_type": "code",
   "execution_count": 2,
   "metadata": {
    "collapsed": true
   },
   "outputs": [],
   "source": [
    "def satistifies_conditions(experiment, conditions):\n",
    "    \"\"\" Check if experiment hyperparameters satisfy desired conditions\n",
    "    \"\"\"\n",
    "    hp = experiment['hyperparameters']\n",
    "    \n",
    "    # Check if each condition satistified\n",
    "    # If not, then return false\n",
    "    for key, value in conditions.items():\n",
    "        if key not in hp or hp[key] not in value:\n",
    "            return False\n",
    "    \n",
    "    # All conditions are satisfied\n",
    "    return True"
   ]
  },
  {
   "cell_type": "code",
   "execution_count": 3,
   "metadata": {
    "collapsed": true
   },
   "outputs": [],
   "source": [
    "def load_experiments_satisfying_conditions(conditions, anti_conditions=dict()):\n",
    "    \"\"\" Load all experiments that satisfy the given conditions,\n",
    "    except those that also satisfy the anticonditions\n",
    "    Return them as a list.\n",
    "    \"\"\"\n",
    "    # Get all experiment filenames\n",
    "    experiment_filenames = [f for f in os.listdir(os.getcwd()) if f[-5:] == '.json']\n",
    "    \n",
    "    # Initialize list of experiments that satisfy the conditions\n",
    "    experiments_satisfactory = []\n",
    "    \n",
    "    # Load each experiment file\n",
    "    for experiment_filename in experiment_filenames:\n",
    "        with open(experiment_filename) as experiment_file:\n",
    "            experiment = json.load(experiment_file)\n",
    "            \n",
    "            # Check if experiment satistifies conditions\n",
    "            # If so, append to list of experiments satisfying the conditions\n",
    "            if satistifies_conditions(experiment, conditions):\n",
    "                if anti_conditions == dict() or not satistifies_conditions(experiment, anti_conditions):\n",
    "                    experiments_satisfactory.append(experiment)\n",
    "                \n",
    "    return experiments_satisfactory"
   ]
  },
  {
   "cell_type": "code",
   "execution_count": 4,
   "metadata": {
    "collapsed": true
   },
   "outputs": [],
   "source": [
    "def get_per_epoch_performance(experiments, dataset, measure):\n",
    "    \"\"\" For each experiment return it performance on the given dataset for the given measure\n",
    "    \"\"\"\n",
    "    \n",
    "    # Check that the dataset and measure is valid\n",
    "    assert measure in {'average_accuracy', 'average_loss'}\n",
    "    assert dataset in {'train', 'test'}\n",
    "    \n",
    "    # Infer the number of epochs and experiments\n",
    "    # and create corresponding performance matrix\n",
    "    num_epochs = experiments[0]['hyperparameters']['epochs']\n",
    "    num_experiments = len(experiments)\n",
    "    performance = np.zeros((num_experiments, num_epochs))\n",
    "    \n",
    "    # Extract performances\n",
    "    for i, experiment in enumerate(experiments):\n",
    "        performance[i, :] = experiment['results'][dataset][measure]\n",
    "        \n",
    "    return performance\n",
    "        "
   ]
  },
  {
   "cell_type": "markdown",
   "metadata": {},
   "source": [
    "# Example usage"
   ]
  },
  {
   "cell_type": "code",
   "execution_count": 5,
   "metadata": {
    "collapsed": true
   },
   "outputs": [],
   "source": [
    "# Specify conditions for experiments\n",
    "conditions = {\n",
    "    'architecture': {'convffnn'},\n",
    "    'batch_size': {100},\n",
    "    'clipping_threshold': {0.0},\n",
    "    'dataset_name': {'mnist'},\n",
    "    'epochs': {3},\n",
    "    'initialization_scale': {'\\sqrt{\\frac{6}{n+m}}'},\n",
    "    'lr': {0.1},\n",
    "    'momentum': {0.0},\n",
    "    'mu': {0.0},\n",
    "    'seed': {1,2,3,4,5,6,7,8,9,10},\n",
    "    'sgdtype': {'explicit'}}"
   ]
  },
  {
   "cell_type": "code",
   "execution_count": 6,
   "metadata": {
    "collapsed": true
   },
   "outputs": [],
   "source": [
    "# Load experiments and their performance\n",
    "experiments = load_experiments_satisfying_conditions(conditions)\n",
    "measure = 'average_accuracy'\n",
    "performance = get_per_epoch_performance(experiments, 'train', measure)"
   ]
  },
  {
   "cell_type": "code",
   "execution_count": 7,
   "metadata": {},
   "outputs": [
    {
     "data": {
      "image/png": "[encoded data removed]",
      "text/plain": [
       "<Figure size 432x288 with 1 Axes>"
      ]
     },
     "metadata": {},
     "output_type": "display_data"
    }
   ],
   "source": [
    "# Create data for plotting\n",
    "epochs = performance.shape[1]\n",
    "x = np.arange(1,1+epochs)\n",
    "y = np.mean(performance,0)\n",
    "yerr = np.std(performance,0)\n",
    "\n",
    "# Plot!\n",
    "plt.figure()\n",
    "plt.errorbar(x, y, yerr=yerr)\n",
    "plt.xlabel('Epochs')\n",
    "plt.ylabel(measure)\n",
    "plt.show()"
   ]
  },
  {
   "cell_type": "markdown",
   "metadata": {},
   "source": [
    "# Mnist experiments"
   ]
  },
  {
   "cell_type": "code",
   "execution_count": 86,
   "metadata": {
    "collapsed": true
   },
   "outputs": [],
   "source": [
    "def get_minst_conditions(sgdtype, lr):\n",
    "    condition = {\n",
    "    'architecture': {'convffnn'},\n",
    "    'batch_size': {100},\n",
    "    'clipping_threshold': {0.0},\n",
    "    'dataset_name': {'mnist'},\n",
    "    'epochs': {1},\n",
    "    'initialization_scale': {'\\sqrt{\\frac{6}{n+m}}'},\n",
    "    'lr': {lr},\n",
    "    'momentum': {0.0},\n",
    "    'mu': {0.0},\n",
    "    'seed': set(range(1,21)),\n",
    "    'sgdtype': {sgdtype}\n",
    "    }\n",
    "    \n",
    "    if sgdtype == 'exact ISGD':\n",
    "        condition = {\n",
    "        'architecture': {'convffnn'},\n",
    "        'batch_size': {100},\n",
    "        'clipping_threshold': {0.0},\n",
    "        'dataset_name': {'mnist'},\n",
    "        'epochs': {1},\n",
    "        'initialization_scale': {'\\sqrt{\\frac{6}{n+m}}'},\n",
    "        'inner_ISGD_iterations': [10],  # '0.1'\n",
    "        'lr': {lr},\n",
    "        'momentum': {0.0},\n",
    "        'mu': {0.0},\n",
    "        'seed': set(range(1,21)),\n",
    "        'sgdtype': {'explicit'}\n",
    "        }\n",
    "    \n",
    "    return condition"
   ]
  },
  {
   "cell_type": "code",
   "execution_count": 88,
   "metadata": {},
   "outputs": [
    {
     "data": {
      "image/png": "[encoded data removed]",
      "text/plain": [
       "<Figure size 360x216 with 1 Axes>"
      ]
     },
     "metadata": {},
     "output_type": "display_data"
    }
   ],
   "source": [
    "# Select what parameters to fix\n",
    "measure = 'average_accuracy' # 'average_loss' # \n",
    "dataset = 'train'\n",
    "scatter = False\n",
    "\n",
    "# Gather the data\n",
    "learning_rates = [0.2, 0.4, 0.6, 0.8, 1.0, 1.2, 1.4, 1.6,1.8, 2.0]#  [i/10.0 for i in range(1,21)] looks a bit messy\n",
    "sgdtypes = ['explicit', 'implicit', 'exact ISGD']\n",
    "results = {sgdtype: {} for sgdtype in sgdtypes}\n",
    "for sgdtype in sgdtypes:\n",
    "    for lr in learning_rates:\n",
    "        conditions = get_minst_conditions(sgdtype, lr)\n",
    "        anticondition = dict() if sgdtype == 'exact ISGD' else {'inner_ISGD_iterations': [0,100]}\n",
    "        experiments = load_experiments_satisfying_conditions(conditions, anticondition)\n",
    "        performance = get_per_epoch_performance(experiments, dataset, measure)\n",
    "        if scatter:\n",
    "            results[sgdtype][lr] = performance\n",
    "        else:\n",
    "            results[sgdtype][lr] = (np.mean(performance), np.std(performance))\n",
    "\n",
    "# Plot\n",
    "with PdfPages('../plots/mnist_classification_' + measure + '.pdf') as pdf:\n",
    "    plt.figure(figsize=(5,3))#Default = (8.0, 6.0)\n",
    "    for sgdtype in sgdtypes:\n",
    "        if scatter:\n",
    "            for lr in learning_rates:\n",
    "                y = results[sgdtype][lr]\n",
    "                x = lr * np.ones(results[sgdtype][lr].shape)\n",
    "                plt.scatter(x, y,color='C1' if sgdtype=='implicit' else 'C0')\n",
    "        else:\n",
    "            x = learning_rates\n",
    "            y = [results[sgdtype][lr][0] for lr in learning_rates]\n",
    "            yerr = [results[sgdtype][lr][1] for lr in learning_rates]\n",
    "            plt.errorbar(x, y, yerr=yerr, label=sgdtype)\n",
    "    plt.xlabel('Learning rate')\n",
    "    plt.ylabel('Training set loss' if measure == 'average_loss' else 'Training set accuracy')\n",
    "    plt.legend()\n",
    "    plt.title('Mnist classification')\n",
    "\n",
    "    # Save figure\n",
    "    pdf.savefig(bbox_inches=\"tight\")\n",
    "    plt.show()"
   ]
  },
  {
   "cell_type": "markdown",
   "metadata": {},
   "source": [
    "# Difference between exact formulations"
   ]
  },
  {
   "cell_type": "code",
   "execution_count": 10,
   "metadata": {
    "collapsed": true
   },
   "outputs": [],
   "source": [
    "def get_exact_conditions(sgdtype, lr):\n",
    "    \n",
    "    if sgdtype == 'exact ISGD 100':\n",
    "        condition = {\n",
    "        'architecture': {'convffnn'},\n",
    "        'batch_size': {100},\n",
    "        'clipping_threshold': {0.0},\n",
    "        'dataset_name': {'mnist'},\n",
    "        'epochs': {1},\n",
    "        'initialization_scale': {'\\sqrt{\\frac{6}{n+m}}'},\n",
    "        'inner_ISGD_iterations': [100],  # '0.1'\n",
    "        'lr': {lr},\n",
    "        'momentum': {0.0},\n",
    "        'mu': {0.0},\n",
    "        'seed': set(range(1,21)),\n",
    "        'sgdtype': {'explicit'}\n",
    "        }\n",
    "    \n",
    "    if sgdtype == 'exact ISGD 10':\n",
    "        condition = {\n",
    "        'architecture': {'convffnn'},\n",
    "        'batch_size': {100},\n",
    "        'clipping_threshold': {0.0},\n",
    "        'dataset_name': {'mnist'},\n",
    "        'epochs': {1},\n",
    "        'initialization_scale': {'\\sqrt{\\frac{6}{n+m}}'},\n",
    "        'inner_ISGD_iterations': [10],  # '0.1'\n",
    "        'lr': {lr},\n",
    "        'momentum': {0.0},\n",
    "        'mu': {0.0},\n",
    "        'seed': set(range(1,21)),\n",
    "        'sgdtype': {'explicit'}\n",
    "        }\n",
    "    \n",
    "    return condition"
   ]
  },
  {
   "cell_type": "code",
   "execution_count": 71,
   "metadata": {},
   "outputs": [
    {
     "data": {
      "image/png": "[encoded data removed]",
      "text/plain": [
       "<Figure size 360x216 with 1 Axes>"
      ]
     },
     "metadata": {},
     "output_type": "display_data"
    }
   ],
   "source": [
    "# Select what parameters to fix\n",
    "measure = 'average_loss' # 'average_accuracy' # \n",
    "dataset = 'train'\n",
    "scatter = False\n",
    "\n",
    "# Gather the data\n",
    "learning_rates = [0.2, 0.4, 0.6, 0.8, 1.0, 1.2, 1.4, 1.6,1.8, 2.0,5.0, 10.0, 20.0]# \n",
    "sgdtypes = ['exact ISGD 10', 'exact ISGD 100']\n",
    "results = {sgdtype: {} for sgdtype in sgdtypes}\n",
    "for sgdtype in sgdtypes:\n",
    "    for lr in learning_rates:\n",
    "        conditions = get_exact_conditions(sgdtype, lr)\n",
    "        experiments = load_experiments_satisfying_conditions(conditions, anticondition)\n",
    "        performance = get_per_epoch_performance(experiments, dataset, measure)\n",
    "        if scatter:\n",
    "            results[sgdtype][lr] = performance\n",
    "        else:\n",
    "            results[sgdtype][lr] = (np.mean(performance), np.std(performance))\n",
    "\n",
    "# Plot\n",
    "with PdfPages('../plots/exact_ISGD_classification_' + measure + '.pdf') as pdf:\n",
    "    plt.figure(figsize=(5,3))#Default = (8.0, 6.0)\n",
    "    for sgdtype in sgdtypes:\n",
    "        if scatter:\n",
    "            for lr in learning_rates:\n",
    "                y = results[sgdtype][lr]\n",
    "                x = lr * np.ones(results[sgdtype][lr].shape)\n",
    "                plt.scatter(x, y,color='C2' if sgdtype=='implicit' else 'C3')\n",
    "        else:\n",
    "            x = learning_rates\n",
    "            y = [results[sgdtype][lr][0] for lr in learning_rates]\n",
    "            yerr = [results[sgdtype][lr][1] for lr in learning_rates]\n",
    "            plt.semilogy(x, y, label=sgdtype, color='C2' if sgdtype=='exact ISGD 10' else 'C3')\n",
    "    plt.xlabel('Learning rate')\n",
    "    plt.ylabel('Training set loss' if measure == 'average_loss' else 'Training set accuracy')\n",
    "    plt.legend()\n",
    "    plt.title('Mnist classification')\n",
    "\n",
    "    # Save figure\n",
    "    pdf.savefig(bbox_inches=\"tight\")\n",
    "    plt.show()"
   ]
  },
  {
   "cell_type": "markdown",
   "metadata": {},
   "source": [
    "# Mnist experiments with intra-epoch losses"
   ]
  },
  {
   "cell_type": "code",
   "execution_count": 12,
   "metadata": {
    "collapsed": true
   },
   "outputs": [],
   "source": [
    "def get_minst_intra_epoch_conditions(lr):\n",
    "    condition = {\n",
    "    'architecture': ['convffnn'],\n",
    "    'batch_size': [100],\n",
    "    'clipping_threshold': [0.0],\n",
    "    'dataset_name': ['mnist'],\n",
    "    'epochs': [1],\n",
    "    'initialization_scale': ['\\sqrt{\\frac{6}{n+m}}'],\n",
    "    'intra_epoch': [True],\n",
    "    'lr': [lr],#, \n",
    "    'momentum': [0.0],\n",
    "    'mu': [0.0],\n",
    "    'nodes': [50],\n",
    "    'seed': list(range(1,6)),\n",
    "    'sgdtype': ['explicit']\n",
    "    }\n",
    "    \n",
    "    return condition"
   ]
  },
  {
   "cell_type": "code",
   "execution_count": 13,
   "metadata": {
    "collapsed": true
   },
   "outputs": [],
   "source": [
    "def get_per_intra_epoch_performance(experiments, measure):\n",
    "    \"\"\" For each experiment return it performance on the given dataset for the given measure\n",
    "    \"\"\"\n",
    "    \n",
    "    # Check that the dataset and measure is valid\n",
    "    assert measure in {'average_loss_intra_epoch', 'average_accuracy_intra_epoch'}\n",
    "    \n",
    "    # Infer the number of epochs and experiments\n",
    "    # and create corresponding performance matrix\n",
    "    num_intra = len(experiments[0]['results'][measure])\n",
    "    num_experiments = len(experiments)\n",
    "    performance = np.zeros((num_experiments, num_intra))\n",
    "    \n",
    "    # Extract performances\n",
    "    for i, experiment in enumerate(experiments):\n",
    "        performance[i, :] = experiment['results'][measure]\n",
    "        \n",
    "    return performance\n",
    "        "
   ]
  },
  {
   "cell_type": "code",
   "execution_count": 46,
   "metadata": {},
   "outputs": [
    {
     "data": {
      "image/png": "[encoded data removed]",
      "text/plain": [
       "<Figure size 360x216 with 1 Axes>"
      ]
     },
     "metadata": {},
     "output_type": "display_data"
    }
   ],
   "source": [
    "# Select what parameters to fix\n",
    "measure = 'average_accuracy_intra_epoch' #'average_loss_intra_epoch' # \n",
    "dataset = 'train'\n",
    "scatter = False\n",
    "\n",
    "# Gather the data\n",
    "learning_rates = [0.1, 0.2, 0.3, 0.4, 0.5]#, 1.0] # [0.1, 0.2, 0.3, 0.4, 0.5]\n",
    "sgdtypes = 'explicit'\n",
    "results = {}\n",
    "for lr in learning_rates:\n",
    "    conditions = get_minst_intra_epoch_conditions(lr)\n",
    "    experiments = load_experiments_satisfying_conditions(conditions)\n",
    "    results[lr] = get_per_intra_epoch_performance(experiments, measure)\n",
    "    \n",
    "# Plot\n",
    "with PdfPages('../plots/intra_epoch_' + measure + '.pdf') as pdf:\n",
    "    plt.figure(figsize=(5,3))#Default = (8.0, 6.0)\n",
    "    num_intra = len(experiments[0]['results'][measure])\n",
    "    x = list(np.arange(1, 1 + num_intra) / num_intra)\n",
    "    for lr in learning_rates:\n",
    "        y = np.mean(results[lr],axis=0)\n",
    "        yerr = np.std(results[lr],axis=0)\n",
    "        plt.errorbar(x, y, yerr=yerr, label=lr)\n",
    "    plt.xlabel('Epochs')\n",
    "    plt.ylabel('Training set loss' if measure == 'average_loss_intra_epoch' else 'Training set accuracy')\n",
    "    plt.legend(title='Learning rates')\n",
    "    plt.tight_layout(pad=0.3)\n",
    "    plt.title('Mnist classification')\n",
    "\n",
    "    # Save figure\n",
    "    pdf.savefig(bbox_inches=\"tight\")\n",
    "    plt.show()"
   ]
  },
  {
   "cell_type": "markdown",
   "metadata": {},
   "source": [
    "# Mnist experiments with clipping"
   ]
  },
  {
   "cell_type": "code",
   "execution_count": 15,
   "metadata": {
    "collapsed": true
   },
   "outputs": [],
   "source": [
    "def get_minst_clipping_conditions(sgdtype, lr):\n",
    "    condition = {\n",
    "    'architecture': {'convffnn'},\n",
    "    'batch_size': {100},\n",
    "    'clipping_threshold': {1.0},\n",
    "    'dataset_name': {'mnist'},\n",
    "    'epochs': {1},\n",
    "    'initialization_scale': {'\\sqrt{\\frac{6}{n+m}}'},\n",
    "    'lr': {lr},\n",
    "    'momentum': {0.0},\n",
    "    'mu': {0.0},\n",
    "    'seed': set(range(1,21)),# - set([1]),\n",
    "    'sgdtype': {sgdtype}\n",
    "    }\n",
    "    \n",
    "    return condition"
   ]
  },
  {
   "cell_type": "code",
   "execution_count": 16,
   "metadata": {
    "collapsed": true
   },
   "outputs": [],
   "source": [
    "def get_minst_clipping_anti_conditions(sgdtype, lr):\n",
    "    condition = {\n",
    "    'inner_ISGD_iterations': {0, 10},  # '0.1'\n",
    "    'intra_epoch': {True, False}\n",
    "    }\n",
    "    \n",
    "    return condition"
   ]
  },
  {
   "cell_type": "code",
   "execution_count": 51,
   "metadata": {},
   "outputs": [
    {
     "data": {
      "image/png": "[encoded data removed]",
      "text/plain": [
       "<Figure size 360x216 with 1 Axes>"
      ]
     },
     "metadata": {},
     "output_type": "display_data"
    }
   ],
   "source": [
    "# Select what parameters to fix\n",
    "measure = 'average_loss' # 'average_accuracy' # \n",
    "dataset = 'train'\n",
    "\n",
    "# Gather the data\n",
    "learning_rates = [0.5, 1.0, 1.5, 2.0, 2.5, 3.0, 3.5, 4]\n",
    "#[0.25, 0.5, 0.75, 1.0,1.25,1.5,1.75,2.0]#[i/10.0 for i in range(1,21)]\n",
    "sgdtypes = ['explicit', 'implicit']\n",
    "results = {sgdtype: {} for sgdtype in sgdtypes}\n",
    "for sgdtype in sgdtypes:\n",
    "    for lr in learning_rates:\n",
    "        conditions = get_minst_clipping_conditions(sgdtype, lr)\n",
    "        anti_conditions = get_minst_clipping_anti_conditions(sgdtype, lr)\n",
    "        experiments = load_experiments_satisfying_conditions(conditions, anti_conditions)\n",
    "        performance = get_per_epoch_performance(experiments, dataset, measure)\n",
    "        results[sgdtype][lr] = (np.mean(performance), np.std(performance))\n",
    "\n",
    "# Plot\n",
    "with PdfPages('../plots/minst_classification_clipping_' + measure + '.pdf') as pdf:\n",
    "    plt.figure(figsize=(5,3))#Default = (8.0, 6.0)\n",
    "    for sgdtype in sgdtypes:\n",
    "        x = learning_rates\n",
    "        y = [results[sgdtype][lr][0] for lr in learning_rates]\n",
    "        yerr = [results[sgdtype][lr][1] for lr in learning_rates]\n",
    "        plt.errorbar(x, y, yerr=yerr, label=sgdtype)\n",
    "    plt.xlabel('Learning rate')\n",
    "    plt.ylabel('Training set loss' if measure == 'average_loss_intra_epoch' else 'Training set accuracy')\n",
    "    plt.legend()\n",
    "    plt.tight_layout(pad=0.3)\n",
    "    plt.title('Mnist classification, clip = 1.0')\n",
    "    \n",
    "\n",
    "    # Save figure\n",
    "    pdf.savefig(bbox_inches=\"tight\")\n",
    "    plt.show()"
   ]
  },
  {
   "cell_type": "markdown",
   "metadata": {},
   "source": [
    "# Autoencoder experiments"
   ]
  },
  {
   "cell_type": "code",
   "execution_count": 18,
   "metadata": {
    "collapsed": true
   },
   "outputs": [],
   "source": [
    "def get_minst_autoencoder_conditions(sgdtype, lr):\n",
    "    condition = {\n",
    "    \"architecture\": {\"autoencoder\"},\n",
    "    \"batch_size\": {100},\n",
    "    \"clipping_threshold\": {0.0},\n",
    "    \"dataset_name\": {\"mnist_autoencoder\"},\n",
    "    \"epochs\": {1},\n",
    "    \"initialization_scale\": {\"\\\\sqrt{\\frac{6}{n+m}}\"},\n",
    "    \"lr\": {lr},\n",
    "    \"momentum\": {0.0},\n",
    "    \"mu\": {0.0},\n",
    "    \"seed\": set(range(1,21)),\n",
    "    \"sgdtype\": {sgdtype},\n",
    "    \"data_type\": {\"autoencoder\"}\n",
    "    }\n",
    "    \n",
    "    return condition"
   ]
  },
  {
   "cell_type": "code",
   "execution_count": 52,
   "metadata": {},
   "outputs": [
    {
     "data": {
      "image/png": "[encoded data removed]",
      "text/plain": [
       "<Figure size 360x216 with 1 Axes>"
      ]
     },
     "metadata": {},
     "output_type": "display_data"
    }
   ],
   "source": [
    "# Select what parameters to fix\n",
    "dataset = 'train'\n",
    "\n",
    "# Gather the data\n",
    "measure = 'average_loss'\n",
    "learning_rates = [0.0001,0.001, 0.0025, 0.005, 0.006, 0.007, 0.008, 0.009, 0.01, 0.0125, 0.015, 0.02]\n",
    "sgdtypes = ['explicit', 'implicit']\n",
    "results = {sgdtype: {} for sgdtype in sgdtypes}\n",
    "for sgdtype in sgdtypes:\n",
    "    for lr in learning_rates:\n",
    "        conditions = get_minst_autoencoder_conditions(sgdtype, lr)\n",
    "        experiments = load_experiments_satisfying_conditions(conditions)\n",
    "        performance = get_per_epoch_performance(experiments, dataset, measure)\n",
    "        results[sgdtype][lr] = (np.mean(performance), np.std(performance))\n",
    "\n",
    "# Plot\n",
    "with PdfPages('../plots/minst_autoencoder_' + measure + '.pdf') as pdf:\n",
    "    plt.figure(figsize=(5,3))#Default = (8.0, 6.0)#\n",
    "    for sgdtype in sgdtypes:\n",
    "        x = learning_rates\n",
    "        y = [results[sgdtype][lr][0] for lr in learning_rates]\n",
    "        yerr = [results[sgdtype][lr][1] for lr in learning_rates]\n",
    "        plt.errorbar(x, y, yerr=yerr, label=sgdtype)\n",
    "    plt.xlabel('Learning rate')\n",
    "    plt.ylabel('Training loss')\n",
    "    plt.legend(loc=\"upper left\")\n",
    "    plt.title('Mnist autoencoder')\n",
    "    ax = plt.gca()\n",
    "    ax.xaxis.set_major_locator(plt.MaxNLocator(5)) # Specifies the maximum number of ticks\n",
    "\n",
    "    # Save figure\n",
    "    pdf.savefig(bbox_inches=\"tight\")\n",
    "    plt.show()"
   ]
  },
  {
   "cell_type": "markdown",
   "metadata": {},
   "source": [
    "# Autoencoder with clipping experiments"
   ]
  },
  {
   "cell_type": "code",
   "execution_count": 20,
   "metadata": {
    "collapsed": true
   },
   "outputs": [],
   "source": [
    "def get_minst_autoencoder_clipping_conditions(sgdtype, lr):\n",
    "    condition = {\n",
    "    \"architecture\": {\"autoencoder\"},\n",
    "    \"batch_size\": {100},\n",
    "    \"clipping_threshold\": {1.0},\n",
    "    \"dataset_name\": {\"mnist_autoencoder\"},\n",
    "    \"epochs\": {1},\n",
    "    \"initialization_scale\": {\"\\\\sqrt{\\frac{6}{n+m}}\"},\n",
    "    \"lr\": {lr},\n",
    "    \"momentum\": {0.0},\n",
    "    \"mu\": {0.0},\n",
    "    \"seed\": set(range(1,21)),\n",
    "    \"sgdtype\": {sgdtype}\n",
    "    }\n",
    "    \n",
    "    return condition"
   ]
  },
  {
   "cell_type": "code",
   "execution_count": 53,
   "metadata": {},
   "outputs": [
    {
     "data": {
      "image/png": "[encoded data removed]",
      "text/plain": [
       "<Figure size 360x216 with 1 Axes>"
      ]
     },
     "metadata": {},
     "output_type": "display_data"
    }
   ],
   "source": [
    "# Select what parameters to fix\n",
    "dataset = 'train'\n",
    "\n",
    "# Gather the data\n",
    "measure = 'average_loss'\n",
    "learning_rates = [0.01, 0.05, 0.1, 0.2, 0.3, 0.4] # , 0.5\n",
    "sgdtypes = ['explicit', 'implicit']\n",
    "results = {sgdtype: {} for sgdtype in sgdtypes}\n",
    "for sgdtype in sgdtypes:\n",
    "    for lr in learning_rates:\n",
    "        conditions = get_minst_autoencoder_clipping_conditions(sgdtype, lr)\n",
    "        experiments = load_experiments_satisfying_conditions(conditions)\n",
    "        performance = get_per_epoch_performance(experiments, dataset, measure)\n",
    "        results[sgdtype][lr] = (np.mean(performance), np.std(performance))\n",
    "\n",
    "# Plot\n",
    "with PdfPages('../plots/minst_autoencoder_clipped_' + measure + '.pdf') as pdf:\n",
    "    plt.figure(figsize=(5,3))#Default = (8.0, 6.0)#\n",
    "    for sgdtype in sgdtypes:\n",
    "        x = learning_rates\n",
    "        y = [results[sgdtype][lr][0] for lr in learning_rates]\n",
    "        yerr = [results[sgdtype][lr][1] for lr in learning_rates]\n",
    "        plt.errorbar(x, y, yerr=yerr, label=sgdtype)\n",
    "    plt.xlabel('Learning rate')\n",
    "    plt.ylabel('Training loss')\n",
    "    plt.legend()\n",
    "    plt.title('Mnist classification, clip = 1.0')\n",
    "\n",
    "    # Save figure\n",
    "    pdf.savefig(bbox_inches=\"tight\")\n",
    "    plt.show()"
   ]
  },
  {
   "cell_type": "markdown",
   "metadata": {},
   "source": [
    "# RNN music"
   ]
  },
  {
   "cell_type": "code",
   "execution_count": 22,
   "metadata": {
    "collapsed": true
   },
   "outputs": [],
   "source": [
    "def get_music_conditions(sgdtype, lr, dataset_name, clip):\n",
    "    \n",
    "    condition = {\n",
    "        'architecture': ['music'],\n",
    "        'batch_size': [100],\n",
    "        'clipping_threshold': [clip],\n",
    "        'dataset_name': [dataset_name],\n",
    "        'epochs': [5],\n",
    "        'initialization_scale': ['\\sqrt{\\frac{6}{n+m}}'],  # '0.1'\n",
    "        'inner_ISGD_iterations': [0],\n",
    "        'intra_epoch': [False],\n",
    "        'lr': [lr],\n",
    "        'momentum': [0.0],\n",
    "        'mu': [0.0],\n",
    "        'nodes': [300],\n",
    "        'seed': list(range(1,6)),\n",
    "        'sgdtype': [sgdtype]}\n",
    "    \n",
    "    return condition\n",
    " "
   ]
  },
  {
   "cell_type": "code",
   "execution_count": 65,
   "metadata": {},
   "outputs": [
    {
     "data": {
      "image/png": "[encoded data removed]",
      "text/plain": [
       "<Figure size 360x216 with 1 Axes>"
      ]
     },
     "metadata": {},
     "output_type": "display_data"
    }
   ],
   "source": [
    "# Select what parameters to fix\n",
    "dataset = 'train'\n",
    "epoch_num = 4\n",
    "clip = 0.0 # 8.0 # \n",
    "dataset_name = 'Piano-midi.de'#'JSB Chorales'#Nottingham' #'MuseData'# \n",
    "\n",
    "# Gather the data\n",
    "measure = 'average_loss'\n",
    "learning_rates = [0.5, 2.0, 5.0, 20.0, 50.0, 200.0, 500.0]#] #\n",
    "# learning_rates = [0.5, 1.0, 2.0, 5.0, 10.0, 20.0, 50.0, 100.0, 200.0, 500.0]#] #\n",
    "sgdtypes = ['explicit', 'implicit']\n",
    "results = {sgdtype: {} for sgdtype in sgdtypes}\n",
    "for sgdtype in sgdtypes:\n",
    "    for lr in learning_rates:\n",
    "        conditions = get_music_conditions(sgdtype, lr, dataset_name, clip)\n",
    "        experiments = load_experiments_satisfying_conditions(conditions)\n",
    "        performance = get_per_epoch_performance(experiments, dataset, measure)[:,epoch_num]\n",
    "        results[sgdtype][lr] = (np.mean(performance), np.std(performance))\n",
    "\n",
    "# Plot\n",
    "clip_str = str(clip).replace('.','_')\n",
    "file_name = '_'.join(dataset_name.split('.')[0].split()) +'_' + measure + '_clip_' + clip_str + '.pdf'\n",
    "with PdfPages('../plots/' + file_name) as pdf:\n",
    "    plt.figure(figsize=(5,3))#Default = (8.0, 6.0)#\n",
    "    for sgdtype in sgdtypes:\n",
    "    #     Plot over learning rates\n",
    "        x = learning_rates\n",
    "        y = [results[sgdtype][lr][0] for lr in learning_rates]\n",
    "        yerr = [results[sgdtype][lr][1] for lr in learning_rates]\n",
    "        plt.errorbar(x, y, yerr=yerr, label=sgdtype)\n",
    "        plt.xlabel('Learning rate')\n",
    "\n",
    "        # Plot over epochs\n",
    "    #     lr = 200.0\n",
    "    #     epoch_list = list(range(5))\n",
    "    #     x = epoch_list\n",
    "    #     y = [results[sgdtype][lr][e] for e in epoch_list]\n",
    "    #     plt.xlabel('Epochs')\n",
    "\n",
    "    #     plt.plot(x, y, label=sgdtype)\n",
    "    \n",
    "    plt.ylabel('Training loss')\n",
    "    plt.title(dataset_name + ((', clip = ' + str(clip)) if clip != 0.0 else ' (no clipping)'))\n",
    "    plt.legend()\n",
    "\n",
    "    # Save figure\n",
    "    pdf.savefig(bbox_inches=\"tight\")\n",
    "    plt.show()"
   ]
  },
  {
   "cell_type": "markdown",
   "metadata": {},
   "source": [
    "# Classification"
   ]
  },
  {
   "cell_type": "code",
   "execution_count": 25,
   "metadata": {
    "collapsed": true
   },
   "outputs": [],
   "source": [
    "def get_classification_conditions(sgdtype, lr, dataset_name):\n",
    "    \n",
    "    condition = {\n",
    "    \"architecture\": ['classification'],\n",
    "    \"batch_size\": [100],\n",
    "    \"clipping_threshold\": [0.0],\n",
    "    \"dataset_name\": [dataset_name],\n",
    "    \"epochs\": [10],\n",
    "    \"initialization_scale\": [\"\\\\sqrt{\\frac{6}{n+m}}\"],\n",
    "    \"inner_ISGD_iterations\": [0],\n",
    "    \"intra_epoch\": [False],\n",
    "    \"lr\": [lr],\n",
    "    \"momentum\": [0.0],\n",
    "    \"mu\": [0.0],\n",
    "    \"nodes\": [50],\n",
    "    \"seed\": [1,2,3,4,5],\n",
    "    \"sgdtype\": [sgdtype]\n",
    "}\n",
    "    \n",
    "    return condition\n",
    " "
   ]
  },
  {
   "cell_type": "code",
   "execution_count": 176,
   "metadata": {},
   "outputs": [],
   "source": [
    "# Get the results from the json files\n",
    "learning_rates = [0.001, 0.01, 0.1, 0.5, 1.0, 3.0, 5.0, 10.0, 30.0, 50.0] # \n",
    "dataset = 'train'\n",
    "epoch_num = 9\n",
    "measure = 'average_loss' # 'average_accuracy' #\n",
    "results = dict()\n",
    "\n",
    "d_names = ['annealing', 'abalone', 'adult', 'connect-4']\n",
    "for d_name in d_names:\n",
    "\n",
    "    # Gather the data\n",
    "    dataset_name = d_name + '_classification'\n",
    "    sgdtypes = ['explicit', 'implicit']#\n",
    "    results[d_name] = {sgdtype: {} for sgdtype in sgdtypes}\n",
    "    for sgdtype in sgdtypes:\n",
    "        for lr in learning_rates:\n",
    "            conditions = get_classification_conditions(sgdtype, lr, dataset_name)\n",
    "            experiments = load_experiments_satisfying_conditions(conditions)\n",
    "            results[d_name][sgdtype][lr] = -np.ones(10)\n",
    "            performance = get_per_epoch_performance(experiments, dataset, measure)[0]\n",
    "            results[d_name][sgdtype][lr] = performance\n"
   ]
  },
  {
   "cell_type": "code",
   "execution_count": 174,
   "metadata": {},
   "outputs": [
    {
     "name": "stdout",
     "output_type": "stream",
     "text": [
      "[[ 0.  0.  0. -1.  0. -1. -1.  1.  0. -1.]\n",
      " [ 0.  0.  0.  0.  0.  1.  1.  0. -1.  1.]\n",
      " [ 0.  0.  0.  0.  0.  0.  1. -1.  1.  1.]\n",
      " [ 0.  0.  0.  0. -1. -1.  0. -1.  0.  1.]]\n",
      "Implicit better:  [0. 0. 0. 0. 0. 1. 2. 1. 1. 3.]\n",
      "Explicit better:  [0. 0. 0. 1. 1. 2. 1. 2. 1. 1.]\n",
      "Mean implicit better:  [ 0.    0.    0.   -0.25 -0.25 -0.25  0.25 -0.25  0.    0.5 ]\n"
     ]
    }
   ],
   "source": [
    "# Generate aggregate statistics\n",
    "threshold = 0.1 # Fraction by which one method outperforms the other\n",
    "epoch_num = 9\n",
    "\n",
    "# Initialize binary performance matrix\n",
    "# with a row for each dataset and column for each learning rate.\n",
    "# The element will be:\n",
    "#     +1 if ISGD > 1.1 ESGD\n",
    "#     -1 if ESGD > 1.1 ISGD\n",
    "#     0  otherwise\n",
    "performance_binary = np.zeros((len(results), len(learning_rates)))\n",
    "dataset_index = 0\n",
    "for key, value in results.items():\n",
    "    explicit_values = np.array([value['explicit'][lr][epoch_num] for lr in learning_rates])\n",
    "    implicit_values = np.array([value['implicit'][lr][epoch_num] for lr in learning_rates])\n",
    "    performance_list = (1.0 * (implicit_values < (1+threshold) * explicit_values)\n",
    "                       - 1.0 * (explicit_values < (1+threshold) * implicit_values))\n",
    "    performance_binary[dataset_index, :] = performance_list\n",
    "    dataset_index += 1\n",
    "    \n",
    "# Calculate aggregats\n",
    "print(performance_binary)\n",
    "print('Implicit better: ', np.sum(1.0 *(performance_binary == 1.0), axis=0))\n",
    "print('Explicit better: ',  np.sum(1.0 *(performance_binary == -1.0), axis=0))\n",
    "print('Mean implicit better: ',  np.mean(performance_binary, axis=0))"
   ]
  },
  {
   "cell_type": "code",
   "execution_count": 143,
   "metadata": {},
   "outputs": [
    {
     "name": "stdout",
     "output_type": "stream",
     "text": [
      "\\multirow{2}{*}{annealing} & 1.52 & 1.20 & 0.73 & 0.49 & 0.57 & 2.24 & 10.88 & 38.62 & 183.52 & 209.44 & explicit\\tabularnewline\n",
      " & 1.52 & 1.20 & 0.73 & 0.55 & 0.58 & 12.99 & 18.48 & 21.23 & 180.15 & 250.37 & implicit\\tabularnewline\n",
      "\\hline\n",
      "\\multirow{2}{*}{abalone} & 1.11 & 1.10 & 0.83 & 0.77 & 0.76 & 12.30 & 6.13 & 25.20 & 57.09 & 212.61 & explicit\\tabularnewline\n",
      " & 1.11 & 1.10 & 0.83 & 0.77 & 0.77 & 2.65 & 3.18 & 22.95 & 98.31 & 84.63 & implicit\\tabularnewline\n",
      "\\hline\n",
      "\\multirow{2}{*}{adult} & 0.55 & 0.35 & 0.32 & 0.32 & 0.31 & 0.36 & 1.52 & 2.97 & 17.99 & 27.19 & explicit\\tabularnewline\n",
      " & 0.55 & 0.35 & 0.32 & 0.32 & 0.32 & 0.34 & 1.15 & 4.31 & 12.22 & 20.27 & implicit\\tabularnewline\n",
      "\\hline\n",
      "\\multirow{2}{*}{connect-4} & 0.56 & 0.54 & 0.48 & 0.40 & 0.38 & 2.36 & 4.59 & 9.25 & 34.85 & 59.43 & explicit\\tabularnewline\n",
      " & 0.56 & 0.54 & 0.50 & 0.44 & 0.46 & 3.23 & 4.64 & 11.31 & 33.66 & 52.39 & implicit\\tabularnewline\n",
      "\\hline\n",
      "\n"
     ]
    }
   ],
   "source": [
    "# Generate latex table\n",
    "latex_strings = []\n",
    "for d_name in d_names:\n",
    "    latex_row_list = dict()\n",
    "    for sgdtype in sgdtypes:\n",
    "        latex_row_list[sgdtype] = (['\\\\multirow{2}{*}{'+ d_name +'}'\n",
    "                                    if sgdtype == 'explicit' \n",
    "                                    else ''] \n",
    "                                   + ['{0:.2f}'.format(float(results[d_name][sgdtype][lr][epoch_num])) \n",
    "                                      for lr in learning_rates] \n",
    "                                   + [sgdtype])\n",
    "\n",
    "    latex_strings.append(' & '.join(latex_row_list['explicit']) \n",
    "          + '\\\\tabularnewline\\n' \n",
    "          + ' & '.join(latex_row_list['implicit'])\n",
    "          + '\\\\tabularnewline\\n\\\\hline\\n')\n",
    "\n",
    "print(''.join(latex_strings))"
   ]
  },
  {
   "cell_type": "code",
   "execution_count": null,
   "metadata": {
    "collapsed": true
   },
   "outputs": [],
   "source": [
    "# for sgdtype in sgdtypes:\n",
    "# #     Plot over learning rates\n",
    "#     x = learning_rates\n",
    "#     y = [results[sgdtype][lr][epoch_num] for lr in learning_rates]\n",
    "#     plt.xlabel('Learning rate')\n",
    "    \n",
    "#     # Plot over epochs\n",
    "# #     lr = 200.0\n",
    "# #     epoch_list = list(range(5))\n",
    "# #     x = epoch_list\n",
    "# #     y = [results[sgdtype][lr][e] for e in epoch_list]\n",
    "# #     plt.xlabel('Epochs')\n",
    "    \n",
    "#     plt.plot(x, y, label=sgdtype)\n",
    "# plt.ylabel('Training set loss' if measure == 'average_loss' else 'Training set accuracy')\n",
    "# plt.legend()\n",
    "# plt.show()"
   ]
  }
 ],
 "metadata": {
  "kernelspec": {
   "display_name": "Python 3",
   "language": "python",
   "name": "python3"
  },
  "language_info": {
   "codemirror_mode": {
    "name": "ipython",
    "version": 3
   },
   "file_extension": ".py",
   "mimetype": "text/x-python",
   "name": "python",
   "nbconvert_exporter": "python",
   "pygments_lexer": "ipython3",
   "version": "3.6.1"
  }
 },
 "nbformat": 4,
 "nbformat_minor": 2
}
