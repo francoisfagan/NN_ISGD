{
 "cells": [
  {
   "cell_type": "code",
   "execution_count": 1,
   "metadata": {
    "collapsed": true
   },
   "outputs": [],
   "source": [
    "import json\n",
    "import os\n",
    "import numpy as np"
   ]
  },
  {
   "cell_type": "code",
   "execution_count": 2,
   "metadata": {},
   "outputs": [],
   "source": [
    "def satistifies_conditions(experiment, conditions):\n",
    "    \"\"\" Check if experiment hyperparameters satisfy desired conditions\n",
    "    \"\"\"\n",
    "    hp = experiment['hyperparameters']\n",
    "    \n",
    "    # Check if each condition satistified\n",
    "    # If not, then return false\n",
    "    for key, value in conditions.items():\n",
    "        if hp[key] != value:\n",
    "            return False\n",
    "    \n",
    "    # All conditions are satisfied\n",
    "    return True"
   ]
  },
  {
   "cell_type": "code",
   "execution_count": 3,
   "metadata": {},
   "outputs": [],
   "source": [
    "def load_experiments_satisfying_conditions(conditions):\n",
    "    \"\"\" Load all experiments that satisfy the given conditions.\n",
    "    Return them as a list.\n",
    "    \"\"\"\n",
    "    # Get all experiment filenames\n",
    "    experiment_filenames = [f for f in os.listdir(os.getcwd()) if f[-5:] == '.json']\n",
    "    \n",
    "    # Initialize list of experiments that satisfy the conditions\n",
    "    experiments_satisfactory = []\n",
    "    \n",
    "    # Load each experiment file\n",
    "    for experiment_filename in experiment_filenames:\n",
    "        with open(experiment_filename) as experiment_file:\n",
    "            experiment = json.load(experiment_file)\n",
    "            \n",
    "            # Check if experiment satistifies conditions\n",
    "            # If so, append to list of experiments satisfying the conditions\n",
    "            if satistifies_conditions(experiment, conditions):\n",
    "                experiments_satisfactory.append(experiment)\n",
    "                \n",
    "    return experiments_satisfactory"
   ]
  },
  {
   "cell_type": "code",
   "execution_count": null,
   "metadata": {
    "collapsed": true
   },
   "outputs": [],
   "source": [
    "def get_per_epoch_mean_variance(experiments, dataset, measure):\n",
    "    assert measure in {'average_accuracy', 'average_loss'}\n",
    "    assert dataset in {'train', 'test'}\n",
    "    \n",
    "    num_epochs = experiments[0]['hyperparameters']['epochs']\n",
    "    num_experiments = len(experiments)\n",
    "    \n",
    "    # Initialize matrix of experiments and epochs\n",
    "    performance = np.zeros((num_experiments, num_epochs))\n",
    "    for i, experiment in enumerate(experiments):\n",
    "        performance[i, :] = experiment['results'][dataset][measure]\n",
    "        \n",
    "    return performance\n",
    "        \n",
    "    "
   ]
  },
  {
   "cell_type": "code",
   "execution_count": 6,
   "metadata": {
    "collapsed": true
   },
   "outputs": [],
   "source": [
    "conditions = {\n",
    "    'architecture': 'convffnn',  # 'rnn'  # 'lstm'  #\n",
    "    'batch_size': 100,\n",
    "    'clipping_threshold': 0.0,\n",
    "    'dataset_name': 'mnist',  # 'easy_addition'  # 'simple_rnn' #\n",
    "    'epochs': 1,\n",
    "    'initialization_scale': '\\sqrt{\\frac{6}{n+m}}',  # '0.1'\n",
    "    'lr': 0.1,\n",
    "    'momentum': 0.0,\n",
    "    'mu': 0.0,\n",
    "#     'seed': 9,\n",
    "    'sgdtype': 'explicit'}"
   ]
  },
  {
   "cell_type": "code",
   "execution_count": 9,
   "metadata": {},
   "outputs": [],
   "source": [
    "experiments = load_experiments_satisfying_conditions(conditions)"
   ]
  },
  {
   "cell_type": "code",
   "execution_count": 8,
   "metadata": {},
   "outputs": [
    {
     "data": {
      "text/plain": [
       "[{'hyperparameters': {'architecture': 'convffnn',\n",
       "   'batch_size': 100,\n",
       "   'clipping_threshold': 0.0,\n",
       "   'data_type': 'classification',\n",
       "   'dataset_name': 'mnist',\n",
       "   'epochs': 1,\n",
       "   'initialization_scale': '\\\\sqrt{\\x0crac{6}{n+m}}',\n",
       "   'lr': 0.1,\n",
       "   'momentum': 0.0,\n",
       "   'mu': 0.0,\n",
       "   'seed': 9,\n",
       "   'sgdtype': 'explicit'},\n",
       "  'results': {'runtime': 29.642591953277588,\n",
       "   'test': {'average_accuracy': [96.51],\n",
       "    'average_loss': [0.10642560234293341]},\n",
       "   'train': {'average_accuracy': [96.39333333333333],\n",
       "    'average_loss': [0.11579179835816224]}}},\n",
       " {'hyperparameters': {'architecture': 'convffnn',\n",
       "   'batch_size': 100,\n",
       "   'clipping_threshold': 0.0,\n",
       "   'data_type': 'classification',\n",
       "   'dataset_name': 'mnist',\n",
       "   'epochs': 1,\n",
       "   'initialization_scale': '\\\\sqrt{\\x0crac{6}{n+m}}',\n",
       "   'lr': 0.1,\n",
       "   'momentum': 0.0,\n",
       "   'mu': 0.0,\n",
       "   'seed': 10,\n",
       "   'sgdtype': 'explicit'},\n",
       "  'results': {'runtime': 29.801086902618408,\n",
       "   'test': {'average_accuracy': [96.31], 'average_loss': [0.1205645632557571]},\n",
       "   'train': {'average_accuracy': [95.97833333333334],\n",
       "    'average_loss': [0.13013774962474903]}}}]"
      ]
     },
     "execution_count": 8,
     "metadata": {},
     "output_type": "execute_result"
    }
   ],
   "source": [
    "experiments"
   ]
  }
 ],
 "metadata": {
  "kernelspec": {
   "display_name": "Python 3",
   "language": "python",
   "name": "python3"
  },
  "language_info": {
   "codemirror_mode": {
    "name": "ipython",
    "version": 3
   },
   "file_extension": ".py",
   "mimetype": "text/x-python",
   "name": "python",
   "nbconvert_exporter": "python",
   "pygments_lexer": "ipython3",
   "version": "3.6.1"
  }
 },
 "nbformat": 4,
 "nbformat_minor": 2
}
