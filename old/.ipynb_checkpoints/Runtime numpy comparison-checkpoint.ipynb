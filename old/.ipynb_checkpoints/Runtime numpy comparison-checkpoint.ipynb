{
 "cells": [
  {
   "cell_type": "code",
   "execution_count": 21,
   "metadata": {},
   "outputs": [],
   "source": [
    "import numpy as np\n",
    "from cube_solver import solve\n",
    "import math\n",
    "import torch"
   ]
  },
  {
   "cell_type": "code",
   "execution_count": 35,
   "metadata": {},
   "outputs": [
    {
     "name": "stdout",
     "output_type": "stream",
     "text": [
      "hi\n"
     ]
    },
    {
     "data": {
      "text/plain": [
       "1.9041608591349197"
      ]
     },
     "execution_count": 35,
     "metadata": {},
     "output_type": "execute_result"
    }
   ],
   "source": [
    "solve([1,0,-1,-5])"
   ]
  },
  {
   "cell_type": "code",
   "execution_count": 34,
   "metadata": {
    "collapsed": true
   },
   "outputs": [],
   "source": [
    "def solve(coeff):\n",
    "    a, b, c, d = coeff\n",
    "\n",
    "    f = findF(a, b, c)  # Helper Temporary Variable\n",
    "    g = findG(a, b, c, d)  # Helper Temporary Variable\n",
    "    h = findH(g, f)  # Helper Temporary Variable\n",
    "\n",
    "    if f == 0 and g == 0 and h == 0:  # All 3 Roots are Real and Equal\n",
    "        if (d / a) >= 0:\n",
    "            x = (d / (1.0 * a)) ** (1 / 3.0) * -1\n",
    "        else:\n",
    "            x = (-d / (1.0 * a)) ** (1 / 3.0)\n",
    "\n",
    "    elif h <= 0:  # All 3 roots are Real\n",
    "        i = math.sqrt(((g ** 2.0) / 4.0) - h)  # Helper Temporary Variable\n",
    "        j = i ** (1 / 3.0)  # Helper Temporary Variable\n",
    "        k = math.acos(-(g / (2 * i)))  # Helper Temporary Variable\n",
    "        x = 2 * j * math.cos(k / 3.0) - (b / (3.0 * a))\n",
    "\n",
    "    elif h > 0:  # One Real Root and two Complex Roots\n",
    "        print('hi')\n",
    "        R = -(g / 2.0) + math.sqrt(h)  # Helper Temporary Variable\n",
    "        if R >= 0:\n",
    "            S = R ** (1 / 3.0)  # Helper Temporary Variable\n",
    "        else:\n",
    "            S = (-R) ** (1 / 3.0) * -1  # Helper Temporary Variable\n",
    "        T = -(g / 2.0) - math.sqrt(h)\n",
    "        if T >= 0:\n",
    "            U = (T ** (1 / 3.0))  # Helper Temporary Variable\n",
    "        else:\n",
    "            U = ((-T) ** (1 / 3.0)) * -1  # Helper Temporary Variable\n",
    "        x = (S + U) - (b / (3.0 * a))\n",
    "\n",
    "    return x"
   ]
  },
  {
   "cell_type": "code",
   "execution_count": 12,
   "metadata": {
    "collapsed": true
   },
   "outputs": [],
   "source": [
    "t = torch.Tensor([4.0])"
   ]
  },
  {
   "cell_type": "code",
   "execution_count": 15,
   "metadata": {},
   "outputs": [
    {
     "data": {
      "text/plain": [
       "tensor([nan])"
      ]
     },
     "execution_count": 15,
     "metadata": {},
     "output_type": "execute_result"
    }
   ],
   "source": [
    "torch.sqrt(-t)"
   ]
  },
  {
   "cell_type": "code",
   "execution_count": 28,
   "metadata": {
    "collapsed": true
   },
   "outputs": [],
   "source": [
    "def torch_solve(coeff):\n",
    "    a, b, c, d = coeff\n",
    "\n",
    "    f = findF(a, b, c)  # Helper Temporary Variable\n",
    "    g = findG(a, b, c, d)  # Helper Temporary Variable\n",
    "    h = findH(g, f)  # Helper Temporary Variable\n",
    "\n",
    "    if f == 0 and g == 0 and h == 0:  # All 3 Roots are Real and Equal\n",
    "        if (d / a) >= 0:\n",
    "            x = (d / (1.0 * a)) ** (1 / 3.0) * -1\n",
    "        else:\n",
    "            x = (-d / (1.0 * a)) ** (1 / 3.0)\n",
    "        return np.array([x, x, x])  # Returning Equal Roots as numpy array.\n",
    "\n",
    "    elif h <= 0:  # All 3 roots are Real\n",
    "\n",
    "        i = torch.sqrt(((g ** 2.0) / 4.0) - h)  # Helper Temporary Variable\n",
    "        j = i ** (1 / 3.0)  # Helper Temporary Variable\n",
    "        k = torch.acos(-(g / (2 * i)))  # Helper Temporary Variable\n",
    "        L = j * -1  # Helper Temporary Variable\n",
    "        M = torch.cos(k / 3.0)  # Helper Temporary Variable\n",
    "        N = torch.sqrt(3) * torch.sin(k / 3.0)  # Helper Temporary Variable\n",
    "        P = (b / (3.0 * a)) * -1  # Helper Temporary Variable\n",
    "\n",
    "        x1 = 2 * j * torch.cos(k / 3.0) - (b / (3.0 * a))\n",
    "        x2 = L * (M + N) + P\n",
    "        x3 = L * (M - N) + P\n",
    "\n",
    "        return np.array([x1, x2, x3])  # Returning Real Roots as numpy array.\n",
    "\n",
    "    elif h > 0:  # One Real Root and two Complex Roots\n",
    "        R = -(g / 2.0) + math.sqrt(h)  # Helper Temporary Variable\n",
    "        if R >= 0:\n",
    "            S = R ** (1 / 3.0)  # Helper Temporary Variable\n",
    "        else:\n",
    "            S = (-R) ** (1 / 3.0) * -1  # Helper Temporary Variable\n",
    "        T = -(g / 2.0) - math.sqrt(h)\n",
    "        if T >= 0:\n",
    "            U = (T ** (1 / 3.0))  # Helper Temporary Variable\n",
    "        else:\n",
    "            U = ((-T) ** (1 / 3.0)) * -1  # Helper Temporary Variable\n",
    "\n",
    "        x1 = (S + U) - (b / (3.0 * a))\n",
    "#         x2 = -(S + U) / 2 - (b / (3.0 * a)) + (S - U) * math.sqrt(3) * 0.5j\n",
    "#         x3 = -(S + U) / 2 - (b / (3.0 * a)) - (S - U) * math.sqrt(3) * 0.5j\n",
    "\n",
    "        return np.array([x1, x2, x3])  # Returning One Real Root and two Complex Roots as numpy array.\n",
    "\n",
    "\n"
   ]
  },
  {
   "cell_type": "code",
   "execution_count": 27,
   "metadata": {
    "collapsed": true
   },
   "outputs": [],
   "source": [
    "# Helper function to return float value of f.\n",
    "def findF(a, b, c):\n",
    "    return ((3.0 * c / a) - ((b ** 2.0) / (a ** 2.0))) / 3.0\n",
    "\n",
    "\n",
    "# Helper function to return float value of g.\n",
    "def findG(a, b, c, d):\n",
    "    return (((2.0 * (b ** 3.0)) / (a ** 3.0)) - ((9.0 * b * c) / (a ** 2.0)) + (27.0 * d / a)) / 27.0\n",
    "\n",
    "\n",
    "# Helper function to return float value of h.\n",
    "def findH(g, f):\n",
    "    return ((g ** 2.0) / 4.0 + (f ** 3.0) / 27.0)"
   ]
  },
  {
   "cell_type": "code",
   "execution_count": null,
   "metadata": {
    "collapsed": true
   },
   "outputs": [],
   "source": []
  }
 ],
 "metadata": {
  "kernelspec": {
   "display_name": "Python 3",
   "language": "python",
   "name": "python3"
  },
  "language_info": {
   "codemirror_mode": {
    "name": "ipython",
    "version": 3
   },
   "file_extension": ".py",
   "mimetype": "text/x-python",
   "name": "python",
   "nbconvert_exporter": "python",
   "pygments_lexer": "ipython3",
   "version": "3.6.1"
  }
 },
 "nbformat": 4,
 "nbformat_minor": 2
}
