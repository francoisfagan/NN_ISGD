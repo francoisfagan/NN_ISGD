{
 "cells": [
  {
   "cell_type": "code",
   "execution_count": 47,
   "metadata": {
    "collapsed": true
   },
   "outputs": [],
   "source": [
    "import numpy as np\n",
    "from cube_solver import solve\n",
    "import math\n",
    "import torch\n",
    "from functools import reduce"
   ]
  },
  {
   "cell_type": "code",
   "execution_count": null,
   "metadata": {
    "collapsed": true
   },
   "outputs": [],
   "source": [
    "solve([1,0,-1,-5])"
   ]
  },
  {
   "cell_type": "code",
   "execution_count": 180,
   "metadata": {},
   "outputs": [
    {
     "name": "stderr",
     "output_type": "stream",
     "text": [
      "/anaconda/lib/python3.6/site-packages/ipykernel_launcher.py:7: RuntimeWarning: invalid value encountered in log\n",
      "  import sys\n"
     ]
    },
    {
     "name": "stdout",
     "output_type": "stream",
     "text": [
      "-6.493721980454209\n",
      "[7.640370383840299e-06, 0.9354435259431368, 0.7506145996810907, -6.493721980454209]\n"
     ]
    }
   ],
   "source": [
    "# Check the simplified method works\n",
    "m = -10000\n",
    "for i in range(1000000):\n",
    "    a,b,c,d = np.random.normal(size=4)\n",
    "    s = solve([a,b,c,d])\n",
    "    r = real_root_closest_to_zero([a,b,c,d])\n",
    "    d = np.log(s-r)\n",
    "#     print('{0:.2f}'.format(d))#, s, r)\n",
    "    m = max(m, d )\n",
    "    if m == d:\n",
    "        m_vec = [a,b,c,d]\n",
    "print(m)\n",
    "print(m_vec)"
   ]
  },
  {
   "cell_type": "code",
   "execution_count": 522,
   "metadata": {
    "collapsed": true
   },
   "outputs": [],
   "source": [
    "# x2v = 1.00000e-04 *torch.Tensor([[ 0.6068],[ 1.3008],[ 0.7228]])\n",
    "x2v = 1.00000e-04 *torch.Tensor([[ 0.6068],[ 1.3008],[ 0.7228]])"
   ]
  },
  {
   "cell_type": "code",
   "execution_count": 526,
   "metadata": {},
   "outputs": [
    {
     "data": {
      "text/plain": [
       "torch.Size([3, 1])"
      ]
     },
     "execution_count": 526,
     "metadata": {},
     "output_type": "execute_result"
    }
   ],
   "source": [
    "x2v.size()"
   ]
  },
  {
   "cell_type": "code",
   "execution_count": 537,
   "metadata": {
    "collapsed": true
   },
   "outputs": [],
   "source": [
    "t = torch.Tensor([1,2,3,4])"
   ]
  },
  {
   "cell_type": "code",
   "execution_count": 560,
   "metadata": {},
   "outputs": [],
   "source": [
    "if torch.sum(t>9)>0:\n",
    "    print('hi')"
   ]
  },
  {
   "cell_type": "code",
   "execution_count": 525,
   "metadata": {},
   "outputs": [
    {
     "data": {
      "text/plain": [
       "tensor(1.00000e-05 *\n",
       "       6.0680)"
      ]
     },
     "execution_count": 525,
     "metadata": {},
     "output_type": "execute_result"
    }
   ],
   "source": [
    "torch.min(torch.abs(x2v))"
   ]
  },
  {
   "cell_type": "code",
   "execution_count": 527,
   "metadata": {},
   "outputs": [
    {
     "data": {
      "text/plain": [
       "(tensor(1.00000e-05 *\n",
       "        [ 0.0001]), tensor([ 0]))"
      ]
     },
     "execution_count": 527,
     "metadata": {},
     "output_type": "execute_result"
    }
   ],
   "source": [
    "torch.min(torch.abs(x2v), 0)"
   ]
  },
  {
   "cell_type": "code",
   "execution_count": 494,
   "metadata": {},
   "outputs": [
    {
     "data": {
      "text/plain": [
       "tensor([ 0.])"
      ]
     },
     "execution_count": 494,
     "metadata": {},
     "output_type": "execute_result"
    }
   ],
   "source": [
    "t[t == 0.0]"
   ]
  },
  {
   "cell_type": "code",
   "execution_count": 484,
   "metadata": {
    "collapsed": true
   },
   "outputs": [],
   "source": [
    "a0 = np.array([[-5.567075641010888e-05, -4.5089906052453443e-05, -5.930444967816584e-05, -5.827349013998173e-05, -5.3659648983739316e-05, -5.767726543126628e-05, -5.3864572691963986e-05, -6.988544919295236e-05, -6.0561007558135316e-05, -7.573579205200076e-05, -5.853999391547404e-05, -6.855014362372458e-05, -5.12405858899001e-05, -6.682390812784433e-05, -5.388754289015196e-05, -5.6493805459467694e-05, -4.7365054342662916e-05, -5.673782288795337e-05, -5.081437120679766e-05, -5.961594797554426e-05, -5.352648440748453e-05, -4.718181298812851e-05, -4.1806437366176397e-05, -6.614858284592628e-05, -4.686724423663691e-05, -6.406429747585207e-05, -6.66096675558947e-05, -6.233737803995609e-05, -4.6306566218845546e-05, -4.4263946620048955e-05, -5.8959656598744914e-05, -6.276194471865892e-05, -5.0668870244408026e-05, -4.827665543416515e-05, 5.980789501336403e-05, -6.320334796328098e-05, -6.433895032387227e-05, -5.0295177061343566e-05, 6.195747118908912e-05, -8.238549344241619e-05, -6.412477523554116e-05, 7.237080717459321e-05, -7.181334513006732e-05, -6.128782843006775e-05, -5.629819497698918e-05, -6.777450471417978e-05, 6.697093340335414e-05, -5.02797520312015e-05, -5.601175507763401e-05, -5.939233597018756e-05, -7.202248525572941e-05, -5.2118753956165165e-05, -5.1449394959490746e-05, -7.840690523153171e-05, -4.432303467183374e-05, -6.578879401786253e-05, -8.000770321814343e-05, -5.4569893109146506e-05, -6.516623398056254e-05, -6.992622365942225e-05, -6.213011511135846e-05, -5.106659955345094e-05, -6.112976552685723e-05, -5.2022271120222285e-05, -6.282298272708431e-05, -4.750801235786639e-05, -5.4181487939786166e-05, -7.371928222710267e-05, -5.248118031886406e-05, -7.282134174602106e-05, -5.434218473965302e-05, -7.008827378740534e-05, -4.9483893235446885e-05, -5.509818220161833e-05, -6.680028309347108e-05, -4.919900675304234e-05, -5.149201751919463e-05, -4.166326834820211e-05, -4.931578951072879e-05, -6.181714707054198e-05, -4.894388257525861e-05, -6.294534978223965e-05, -4.577271101879887e-05, -7.193093915702775e-05, -6.067772483220324e-05, -5.1582428568508476e-05, -6.919506995473057e-05, -8.852515020407736e-05]])\n",
    "a1 = np.array([[1.0024266242980957, 1.2096415758132935, 1.0025081634521484, 1.000535488128662, 1.0121843814849854, 1.0000509023666382, 1.0107983350753784, 1.0828683376312256, 1.0066872835159302, 1.1595098972320557, 1.0009114742279053, 1.0680360794067383, 1.036702275276184, 1.0505547523498535, 1.0106489658355713, 1.0006566047668457, 1.1198651790618896, 1.0003517866134644, 1.0428191423416138, 1.0033700466156006, 1.0131371021270752, 1.125683307647705, 1.4414995908737183, 1.0442733764648438, 1.1361812353134155, 1.0270566940307617, 1.048526644706726, 1.01554274559021, 1.15660560131073, 1.2538349628448486, 1.0016950368881226, 1.0181230306625366, 1.0450494289398193, 1.0938987731933594, 1.0039595365524292, 1.0209826231002808, 1.0291274785995483, 1.0511252880096436, 1.0133798122406006, 1.2659010887145996, 1.0275073051452637, 1.1132404804229736, 1.1061310768127441, 1.0099165439605713, 1.0009719133377075, 1.0599356889724731, 1.0519649982452393, 1.0513869524002075, 1.0015506744384766, 1.0027393102645874, 1.1087788343429565, 1.0259205102920532, 1.0339233875274658, 1.20001220703125, 1.2504198551177979, 1.0410621166229248, 1.2257550954818726, 1.0067380666732788, 1.0357357263565063, 1.0833382606506348, 1.0143452882766724, 1.0391258001327515, 1.0091662406921387, 1.0269920825958252, 1.0185078382492065, 1.1154719591140747, 1.008840799331665, 1.1311088800430298, 1.022130012512207, 1.1191062927246094, 1.0079320669174194, 1.0852155685424805, 1.0661654472351074, 1.0043761730194092, 1.0503294467926025, 1.0720971822738647, 1.0333731174468994, 1.4558861255645752, 1.06962251663208, 1.0126166343688965, 1.0777182579040527, 1.0192896127700806, 1.1782950162887573, 1.107616901397705, 1.0071673393249512, 1.0322246551513672, 1.0750631093978882, 1.3793129920959473]])\n",
    "a2 = np.array([[1242.8865966796875, 11552.28515625, -1263.607666015625, -583.8311767578125, 2785.031005859375, -180.07223510742188, 2621.84619140625, -7263.12646484375, -2063.256103515625, -10076.80859375, -761.7266235351562, -6581.10791015625, 4833.65625, -5672.9658203125, 2603.647705078125, 646.5360717773438, 8735.2568359375, 473.21978759765625, 5220.931640625, -1464.6827392578125, 2891.869140625, 8944.7431640625, 16764.64453125, -5308.8505859375, 9310.818359375, -4150.17919921875, -5558.01318359375, -3145.5185546875, 9984.650390625, 12711.7392578125, -1038.7564697265625, -3396.6044921875, 5355.1748046875, 7731.41650390625, 1587.6298828125, -3654.758056640625, -4306.06298828125, 5704.88525390625, 2918.45654296875, -13010.3583984375, -4184.59375, 8490.4365234375, -8219.595703125, -2512.5224609375, 786.5970458984375, -6176.921875, 5751.5478515625, 5719.4697265625, 993.5557861328125, -1320.53466796875, -8321.494140625, 4062.101318359375, 4647.0654296875, -11283.8544921875, 12625.9345703125, -5112.6962890625, -11988.033203125, 2071.08544921875, -4769.58544921875, -7283.6904296875, -3021.930908203125, 4990.693359375, -2415.601318359375, 4145.21728515625, -3432.473876953125, 8573.6845703125, 2372.32958984375, -9135.7724609375, 3753.359130859375, -8707.5634765625, 2247.0947265625, -7365.267578125, 6490.00244140625, 1669.0706787109375, -5660.3115234375, 6774.673828125, 4609.2255859375, 17035.59765625, 6657.39111328125, -2834.008544921875, 7033.8134765625, -3504.220703125, 10653.658203125, -8276.9306640625, -2136.0341796875, 4529.22265625, -6912.6162109375, -15539.1787109375]])\n",
    "a3 = np.array([[159146976.0, 159146976.0, 159146976.0, 159146976.0, 159146976.0, 159146976.0, 159146976.0, 159146976.0, 159146976.0, 159146976.0, 159146976.0, 159146976.0, 159146976.0, 159146976.0, 159146976.0, 159146976.0, 159146976.0, 159146976.0, 159146976.0, 159146976.0, 159146976.0, 159146976.0, 159146976.0, 159146976.0, 159146976.0, 159146976.0, 159146976.0, 159146976.0, 159146976.0, 159146976.0, 159146976.0, 159146976.0, 159146976.0, 159146976.0, 159146976.0, 159146976.0, 159146976.0, 159146976.0, 159146976.0, 159146976.0, 159146976.0, 159146976.0, 159146976.0, 159146976.0, 159146976.0, 159146976.0, 159146976.0, 159146976.0, 159146976.0, 159146976.0, 159146976.0, 159146976.0, 159146976.0, 159146976.0, 159146976.0, 159146976.0, 159146976.0, 159146976.0, 159146976.0, 159146976.0, 159146976.0, 159146976.0, 159146976.0, 159146976.0, 159146976.0, 159146976.0, 159146976.0, 159146976.0, 159146976.0, 159146976.0, 159146976.0, 159146976.0, 159146976.0, 159146976.0, 159146976.0, 159146976.0, 159146976.0, 159146976.0, 159146976.0, 159146976.0, 159146976.0, 159146976.0, 159146976.0, 159146976.0, 159146976.0, 159146976.0, 159146976.0, 159146976.0]])\n",
    "\n"
   ]
  },
  {
   "cell_type": "code",
   "execution_count": 485,
   "metadata": {},
   "outputs": [
    {
     "data": {
      "text/plain": [
       "(1, 88)"
      ]
     },
     "execution_count": 485,
     "metadata": {},
     "output_type": "execute_result"
    }
   ],
   "source": [
    "a0.shape"
   ]
  },
  {
   "cell_type": "code",
   "execution_count": 529,
   "metadata": {},
   "outputs": [
    {
     "name": "stdout",
     "output_type": "stream",
     "text": [
      "[[ 4.17868376e-05  2.73995224e-05  4.61958023e-05  4.49631058e-05\n",
      "   3.92590235e-05  4.42439718e-05  3.95199130e-05  5.82488500e-05\n",
      "   4.76810614e-05  6.45890631e-05  4.52830399e-05  5.67753667e-05\n",
      "   3.61145178e-05  5.48533226e-05  3.95491048e-05  4.28019637e-05\n",
      "   3.07699639e-05  4.31009440e-05  3.55468971e-05  4.65656954e-05\n",
      "   3.90890606e-05  3.05057702e-05  2.21179896e-05  5.40957106e-05\n",
      "   3.00494437e-05  5.17352949e-05  5.46133356e-05  4.97516030e-05\n",
      "   2.92270434e-05  2.61222557e-05  4.57850119e-05  5.02418360e-05\n",
      "   3.53521000e-05  3.20673330e-05 -4.67930559e-05  5.07497174e-05\n",
      "   5.20483522e-05  3.48493478e-05 -4.93114685e-05  7.16154527e-05\n",
      "   5.18042857e-05 -6.09636914e-05  6.03577011e-05  4.85321777e-05\n",
      "   4.25616516e-05  5.59142407e-05 -5.50178187e-05  3.48285257e-05\n",
      "   4.22086924e-05  4.63002796e-05  6.05852388e-05  3.72705943e-05\n",
      "   3.63910112e-05  6.74313670e-05  2.62146746e-05  5.36906984e-05\n",
      "   6.91214984e-05  4.04119257e-05  5.29875372e-05  5.82936721e-05\n",
      "   4.95116645e-05  3.58833390e-05  4.83475569e-05  3.71444304e-05\n",
      "   5.03121721e-05  3.09752637e-05  3.99218311e-05  6.24229959e-05\n",
      "   3.77427044e-05  6.14522731e-05  4.01249282e-05  5.84717080e-05\n",
      "   3.37451887e-05  4.10742689e-05  5.48268714e-05  3.33531350e-05\n",
      "   3.64473243e-05  2.18742114e-05  3.35141280e-05  4.91485471e-05\n",
      "   3.30000448e-05  5.04530827e-05  2.84326599e-05  6.04856640e-05\n",
      "   4.78181233e-05  3.65666429e-05  5.74884021e-05  7.79761133e-05]]\n",
      "1.3552527156068805e-20\n",
      "[[ 4.17868376e-05  2.73995224e-05  4.61958023e-05  4.49631058e-05\n",
      "   3.92590235e-05  4.42439718e-05  3.95199130e-05  5.82488500e-05\n",
      "   4.76810614e-05  6.45890631e-05  4.52830399e-05  5.67753667e-05\n",
      "   3.61145178e-05  5.48533226e-05  3.95491048e-05  4.28019637e-05\n",
      "   3.07699639e-05  4.31009440e-05  3.55468971e-05  4.65656954e-05\n",
      "   3.90890606e-05  3.05057702e-05  2.21179896e-05  5.40957106e-05\n",
      "   3.00494437e-05  5.17352949e-05  5.46133356e-05  4.97516030e-05\n",
      "   2.92270434e-05  2.61222557e-05  4.57850119e-05  5.02418360e-05\n",
      "   3.53521000e-05  3.20673330e-05 -4.67930559e-05  5.07497174e-05\n",
      "   5.20483522e-05  3.48493478e-05 -4.93114685e-05  7.16154527e-05\n",
      "   5.18042857e-05 -6.09636914e-05  6.03577011e-05  4.85321777e-05\n",
      "   4.25616516e-05  5.59142407e-05 -5.50178187e-05  3.48285257e-05\n",
      "   4.22086924e-05  4.63002796e-05  6.05852388e-05  3.72705943e-05\n",
      "   3.63910112e-05  6.74313670e-05  2.62146746e-05  5.36906984e-05\n",
      "   6.91214984e-05  4.04119257e-05  5.29875372e-05  5.82936721e-05\n",
      "   4.95116645e-05  3.58833390e-05  4.83475569e-05  3.71444304e-05\n",
      "   5.03121721e-05  3.09752637e-05  3.99218311e-05  6.24229959e-05\n",
      "   3.77427044e-05  6.14522731e-05  4.01249282e-05  5.84717080e-05\n",
      "   3.37451887e-05  4.10742689e-05  5.48268714e-05  3.33531350e-05\n",
      "   3.64473243e-05  2.18742114e-05  3.35141280e-05  4.91485471e-05\n",
      "   3.30000448e-05  5.04530827e-05  2.84326599e-05  6.04856640e-05\n",
      "   4.78181233e-05  3.65666429e-05  5.74884021e-05  7.79761133e-05]]\n"
     ]
    }
   ],
   "source": [
    "b_dim = 1#4\n",
    "m_dim = 88#2\n",
    "\n",
    "for i in range(1):\n",
    "#     a = np.random.normal(size=(b_dim, m_dim))\n",
    "#     b = np.random.normal(size=(b_dim, m_dim))\n",
    "#     c = np.random.normal(size=(b_dim, m_dim))\n",
    "#     d = np.random.normal(size=(b_dim, m_dim))\n",
    "    a = a3\n",
    "    b = a2\n",
    "    c = a1\n",
    "    d = a0\n",
    "\n",
    "    coeffs = [a,b,c,d]\n",
    "\n",
    "    solve_solutions = np.zeros((b_dim, m_dim))\n",
    "    for b_i in range(b_dim):\n",
    "        for m_i in range(m_dim):\n",
    "            solve_solutions[b_i, m_i] = solve([coeffs[0][b_i][m_i], coeffs[1][b_i][m_i], coeffs[2][b_i][m_i], coeffs[3][b_i][m_i]])\n",
    "\n",
    "#     print(np.sum(np.abs(solve_solutions - solve_product(coeffs))))\n",
    "    \n",
    "    a = torch.from_numpy(a)\n",
    "    b = torch.from_numpy(b)\n",
    "    c = torch.from_numpy(c)\n",
    "    d = torch.from_numpy(d)\n",
    "#     print(solve_product(coeffs))\n",
    "    print(cubic_solution([a,b,c,d]).numpy())\n",
    "    print(np.sum(np.abs(cubic_solution([a,b,c,d]).numpy() - solve_product(coeffs))))\n",
    "    \n",
    "    print(cubic_solution_sliced([a,b,c,d]).numpy())"
   ]
  },
  {
   "cell_type": "code",
   "execution_count": 516,
   "metadata": {
    "collapsed": true
   },
   "outputs": [],
   "source": [
    "# Helper functions\n",
    "f = ((3.0 * c / a) - ((b ** 2.0) / (a ** 2.0))) / 3.0  # [b x m]\n",
    "g = (((2.0 * (b ** 3.0)) / (a ** 3.0)) - ((9.0 * b * c) / (a ** 2.0)) + (27.0 * d / a)) / 27.0  # [b x m]\n",
    "h = ((g ** 2.0) / 4.0 + (f ** 3.0) / 27.0)  # [b x m]\n",
    "\n",
    "# Solution\n",
    "u = torch.zeros_like(a)\n",
    "\n",
    "# All 3 Roots are Real and Equal\n",
    "c1 = ((f == 0) * (g == 0) * (h == 0))\n",
    "if u[c1].size()[0] >0:\n",
    "    y = d[c1] / (1.0 * a[c1])\n",
    "    u[c1] = - torch.abs(y) ** (1 / 3.0) * torch.sign(y)\n",
    "\n",
    "# All 3 roots are Real\n",
    "# For my application all roots will have the same sign. \n",
    "# There will only be on minimum root (unless all roots are equal)\n",
    "c2 = (1-c1) * (h <= 0)\n",
    "if u[c2].size()[0] >0:\n",
    "    i = torch.sqrt(((g[c2] ** 2.0) / 4.0) + abs(h[c2]))  # Helper Temporary Variable\n",
    "    j = i ** (1 / 3.0)  # Helper Temporary Variable\n",
    "    k = torch.acos(-(g[c2] / (2 * i)))  # Helper Temporary Variable\n",
    "    L = j * -1  # Helper Temporary Variable\n",
    "    M = torch.cos(k / 3.0)  # Helper Temporary Variable\n",
    "    N = np.sqrt(3) * torch.sin(k / 3.0)  # Helper Temporary Variable\n",
    "    P = (b[c2] / (3.0 * a[c2])) * -1  # Helper Temporary Variable\n",
    "\n",
    "    x2_a = 2 * j * torch.cos(k / 3.0) - (b[c2] / (3.0 * a[c2]))\n",
    "    x2_b = L * (M + N) + P\n",
    "    x2_c = L * (M - N) + P\n",
    "\n",
    "    x2v = torch.stack((x2_a, x2_b, x2_c))\n",
    "    v, _ = torch.min(torch.abs(x2v), 0)\n",
    "    u[c2] = torch.sum((x2v == v).double() * v + (x2v == -v).double() * -v, dim=0 )\n",
    "\n",
    "# One Real Root and two Complex Roots\n",
    "c3 = (1-c1) * (h > 0)\n",
    "if u[c3].size()[0] >0:\n",
    "    R = -(g[c3] / 2.0) + torch.sqrt(h[c3])  # Helper Temporary Variable\n",
    "    S = torch.abs(R) ** (1 / 3.0) * torch.sign(R)\n",
    "    T = -(g[c3] / 2.0) - torch.sqrt(h[c3])\n",
    "    U = (torch.abs(T) ** (1 / 3.0)) * torch.sign(T)  # Helper Temporary Variable\n",
    "    u[c3] = (S + U) - (b[c3] / (3.0 * a[c3]))"
   ]
  },
  {
   "cell_type": "code",
   "execution_count": 528,
   "metadata": {
    "collapsed": true
   },
   "outputs": [],
   "source": [
    "def cubic_solution(coeff):\n",
    "    a, b, c, d = coeff # [b x m] for a, b, c, d\n",
    "\n",
    "    f = findF(a, b, c)  # [b x m]\n",
    "    g = findG(a, b, c, d)  # [b x m]\n",
    "    h = findH(g, f)  # [b x m]\n",
    "\n",
    "    # All 3 Roots are Real and Equal\n",
    "    c1 = ((f == 0) * (g == 0) * (h == 0)).double()\n",
    "    y = d / (1.0 * a)\n",
    "    x1 = - torch.abs(y) ** (1 / 3.0) * torch.sign(y)\n",
    "\n",
    "    # All 3 roots are Real\n",
    "    # For my application all roots will have the same sign. \n",
    "    # There will only be on minimum root (unless all roots are equal)\n",
    "\n",
    "    i = torch.sqrt(((g ** 2.0) / 4.0) + abs(h))  # Helper Temporary Variable\n",
    "    j = i ** (1 / 3.0)  # Helper Temporary Variable\n",
    "    k = torch.acos(-(g / (2 * i)))  # Helper Temporary Variable\n",
    "    L = j * -1  # Helper Temporary Variable\n",
    "    M = torch.cos(k / 3.0)  # Helper Temporary Variable\n",
    "    N = np.sqrt(3) * torch.sin(k / 3.0)  # Helper Temporary Variable\n",
    "    P = (b / (3.0 * a)) * -1  # Helper Temporary Variable\n",
    "\n",
    "    x2_a = 2 * j * torch.cos(k / 3.0) - (b / (3.0 * a))\n",
    "    x2_b = L * (M + N) + P\n",
    "    x2_c = L * (M - N) + P\n",
    "\n",
    "    x2v = torch.stack((x2_a, x2_b, x2_c))\n",
    "    v, _ = torch.min(torch.abs(x2v), 0)\n",
    "    x2 = torch.sum((x2v == v).double() * v + (x2v == -v).double() * -v, dim=0 )\n",
    "\n",
    "    # One Real Root and two Complex Roots\n",
    "    R = -(g / 2.0) + torch.sqrt(torch.abs(h))  # Helper Temporary Variable\n",
    "    S = abs(R) ** (1 / 3.0) * torch.sign(R)\n",
    "    T = -(g / 2.0) - torch.sqrt(torch.abs(h))\n",
    "    U = (abs(T) ** (1 / 3.0)) * torch.sign(T)  # Helper Temporary Variable\n",
    "    x3 = (S + U) - (b / (3.0 * a))\n",
    "\n",
    "    x = c1 * x1 + (1-c1) * ( (h <= 0).double() * x2 +  (h > 0).double() * x3)\n",
    "\n",
    "    return x"
   ]
  },
  {
   "cell_type": "code",
   "execution_count": 517,
   "metadata": {
    "collapsed": true
   },
   "outputs": [],
   "source": [
    "def cubic_solution_sliced(coeff):\n",
    "    a, b, c, d = coeff # [b x m] for a, b, c, d\n",
    "\n",
    "    # Helper functions\n",
    "    f = ((3.0 * c / a) - ((b ** 2.0) / (a ** 2.0))) / 3.0  # [b x m]\n",
    "    g = (((2.0 * (b ** 3.0)) / (a ** 3.0)) - ((9.0 * b * c) / (a ** 2.0)) + (27.0 * d / a)) / 27.0  # [b x m]\n",
    "    h = ((g ** 2.0) / 4.0 + (f ** 3.0) / 27.0)  # [b x m]\n",
    "\n",
    "    # Solution\n",
    "    u = torch.zeros_like(a)\n",
    "\n",
    "    # All 3 Roots are Real and Equal\n",
    "    c1 = ((f == 0) * (g == 0) * (h == 0))\n",
    "    if u[c1].size()[0] >0:\n",
    "        y = d[c1] / (1.0 * a[c1])\n",
    "        u[c1] = - torch.abs(y) ** (1 / 3.0) * torch.sign(y)\n",
    "\n",
    "    # All 3 roots are Real\n",
    "    # For my application all roots will have the same sign. \n",
    "    # There will only be on minimum root (unless all roots are equal)\n",
    "    c2 = (1-c1) * (h <= 0)\n",
    "    if u[c2].size()[0] >0:\n",
    "        i = torch.sqrt(((g[c2] ** 2.0) / 4.0) + abs(h[c2]))  # Helper Temporary Variable\n",
    "        j = i ** (1 / 3.0)  # Helper Temporary Variable\n",
    "        k = torch.acos(-(g[c2] / (2 * i)))  # Helper Temporary Variable\n",
    "        L = j * -1  # Helper Temporary Variable\n",
    "        M = torch.cos(k / 3.0)  # Helper Temporary Variable\n",
    "        N = np.sqrt(3) * torch.sin(k / 3.0)  # Helper Temporary Variable\n",
    "        P = (b[c2] / (3.0 * a[c2])) * -1  # Helper Temporary Variable\n",
    "\n",
    "        x2_a = 2 * j * torch.cos(k / 3.0) - (b[c2] / (3.0 * a[c2]))\n",
    "        x2_b = L * (M + N) + P\n",
    "        x2_c = L * (M - N) + P\n",
    "\n",
    "        x2v = torch.stack((x2_a, x2_b, x2_c))\n",
    "        v, _ = torch.min(torch.abs(x2v), dim=0)\n",
    "        u[c2] = torch.sum((x2v == v).double() * v + (x2v == -v).double() * -v, dim=0 )\n",
    "\n",
    "    # One Real Root and two Complex Roots\n",
    "    c3 = (1-c1) * (h > 0)\n",
    "    if u[c3].size()[0] >0:\n",
    "        R = -(g[c3] / 2.0) + torch.sqrt(h[c3])  # Helper Temporary Variable\n",
    "        S = torch.abs(R) ** (1 / 3.0) * torch.sign(R)\n",
    "        T = -(g[c3] / 2.0) - torch.sqrt(h[c3])\n",
    "        U = (torch.abs(T) ** (1 / 3.0)) * torch.sign(T)  # Helper Temporary Variable\n",
    "        u[c3] = (S + U) - (b[c3] / (3.0 * a[c3]))\n",
    "\n",
    "    return u"
   ]
  },
  {
   "cell_type": "code",
   "execution_count": 495,
   "metadata": {
    "collapsed": true
   },
   "outputs": [],
   "source": [
    "def solve_product_sliced(coeff):\n",
    "    a, b, c, d = coeff # [b x m] for a, b, c, d\n",
    "    \n",
    "\n",
    "    # One Real Root and two Complex Roots\n",
    "    c3 = (1-c1) * (h > 0)\n",
    "    R = -(g[c3] / 2.0) + np.sqrt(h[c3])  # Helper Temporary Variable\n",
    "    S = abs(R) ** (1 / 3.0) * np.sign(R)\n",
    "    T = -(g[c3] / 2.0) - np.sqrt(h[c3])\n",
    "    U = (abs(T) ** (1 / 3.0)) * np.sign(T)  # Helper Temporary Variable\n",
    "    u[c3] = (S + U) - (b[c3] / (3.0 * a[c3]))\n",
    "\n",
    "    return u"
   ]
  },
  {
   "cell_type": "code",
   "execution_count": 337,
   "metadata": {
    "collapsed": true
   },
   "outputs": [],
   "source": [
    "def solve_product(coeff):\n",
    "    a, b, c, d = coeff # [b x m] for a, b, c, d\n",
    "\n",
    "    f = findF(a, b, c)  # [b x m]\n",
    "    g = findG(a, b, c, d)  # [b x m]\n",
    "    h = findH(g, f)  # [b x m]\n",
    "\n",
    "    # All 3 Roots are Real and Equal\n",
    "    c1 = 1.0 * (f == 0) * (g == 0) * (h == 0)\n",
    "    y = d / (1.0 * a)\n",
    "    x1 = - np.abs(y) ** (1 / 3.0) * np.sign(y)\n",
    "\n",
    "    # All 3 roots are Real\n",
    "    # For my application all roots will have the same sign. \n",
    "    # There will only be on minimum root (unless all roots are equal)\n",
    "\n",
    "    i = np.sqrt(((g ** 2.0) / 4.0) + abs(h))  # Helper Temporary Variable\n",
    "    j = i ** (1 / 3.0)  # Helper Temporary Variable\n",
    "    k = np.arccos(-(g / (2 * i)))  # Helper Temporary Variable\n",
    "    L = j * -1  # Helper Temporary Variable\n",
    "    M = np.cos(k / 3.0)  # Helper Temporary Variable\n",
    "    N = np.sqrt(3) * np.sin(k / 3.0)  # Helper Temporary Variable\n",
    "    P = (b / (3.0 * a)) * -1  # Helper Temporary Variable\n",
    "\n",
    "    x2_a = 2 * j * np.cos(k / 3.0) - (b / (3.0 * a))\n",
    "    x2_b = L * (M + N) + P\n",
    "    x2_c = L * (M - N) + P\n",
    "\n",
    "    x2v = [x2_a,x2_b,x2_c]\n",
    "    v = np.min(np.abs(x2v), axis=0)\n",
    "    x2 = np.sum((x2v == v) * v + (x2v == -v) * -v, axis=0 )\n",
    "\n",
    "    # One Real Root and two Complex Roots\n",
    "    R = -(g / 2.0) + np.sqrt(np.abs(h))  # Helper Temporary Variable\n",
    "    S = abs(R) ** (1 / 3.0) * np.sign(R)\n",
    "    T = -(g / 2.0) - np.sqrt(np.abs(h))\n",
    "    U = (abs(T) ** (1 / 3.0)) * np.sign(T)  # Helper Temporary Variable\n",
    "    x3 = (S + U) - (b / (3.0 * a))\n",
    "\n",
    "    x = c1 * x1 + (1-c1) * ( (h <= 0) * x2 +  (h > 0) * x3)\n",
    "\n",
    "    return x"
   ]
  },
  {
   "cell_type": "code",
   "execution_count": null,
   "metadata": {
    "collapsed": true
   },
   "outputs": [],
   "source": [
    "def solve(coeff):\n",
    "    a, b, c, d = coeff\n",
    "\n",
    "    f = findF(a, b, c)  # Helper Temporary Variable\n",
    "    g = findG(a, b, c, d)  # Helper Temporary Variable\n",
    "    h = findH(g, f)  # Helper Temporary Variable\n",
    "\n",
    "    if f == 0 and g == 0 and h == 0:  # All 3 Roots are Real and Equal\n",
    "        y = d / (1.0 * a)\n",
    "        x = - y ** (1 / 3.0) * np.sign(y)\n",
    "\n",
    "    elif h <= 0:  # All 3 roots are Real\n",
    "        i = math.sqrt(((g ** 2.0) / 4.0) - h)  # Helper Temporary Variable\n",
    "        j = i ** (1 / 3.0)  # Helper Temporary Variable\n",
    "        k = math.acos(-(g / (2 * i)))  # Helper Temporary Variable\n",
    "        L = j * -1  # Helper Temporary Variable\n",
    "        M = math.cos(k / 3.0)  # Helper Temporary Variable\n",
    "        N = math.sqrt(3) * math.sin(k / 3.0)  # Helper Temporary Variable\n",
    "        P = (b / (3.0 * a)) * -1  # Helper Temporary Variable\n",
    "\n",
    "        x1 = 2 * j * math.cos(k / 3.0) - (b / (3.0 * a))\n",
    "        x2 = L * (M + N) + P\n",
    "        x3 = L * (M - N) + P\n",
    "        \n",
    "        x = min([x1,x2,x3], key=abs)\n",
    "\n",
    "    elif h > 0:  # One Real Root and two Complex Roots\n",
    "        R = -(g / 2.0) + math.sqrt(h)  # Helper Temporary Variable\n",
    "        S = abs(R) ** (1 / 3.0) * np.sign(R)\n",
    "        T = -(g / 2.0) - math.sqrt(h)\n",
    "        U = (abs(T) ** (1 / 3.0)) * np.sign(T)  # Helper Temporary Variable\n",
    "        x = (S + U) - (b / (3.0 * a))\n",
    "\n",
    "    return x"
   ]
  },
  {
   "cell_type": "code",
   "execution_count": 27,
   "metadata": {
    "collapsed": true
   },
   "outputs": [],
   "source": [
    "# Helper function to return float value of f.\n",
    "def findF(a, b, c):\n",
    "    return ((3.0 * c / a) - ((b ** 2.0) / (a ** 2.0))) / 3.0\n",
    "\n",
    "\n",
    "# Helper function to return float value of g.\n",
    "def findG(a, b, c, d):\n",
    "    return (((2.0 * (b ** 3.0)) / (a ** 3.0)) - ((9.0 * b * c) / (a ** 2.0)) + (27.0 * d / a)) / 27.0\n",
    "\n",
    "\n",
    "# Helper function to return float value of h.\n",
    "def findH(g, f):\n",
    "    return ((g ** 2.0) / 4.0 + (f ** 3.0) / 27.0)"
   ]
  },
  {
   "cell_type": "code",
   "execution_count": 45,
   "metadata": {
    "collapsed": true
   },
   "outputs": [],
   "source": [
    "def real_root_closest_to_zero(coeff):\n",
    "    \"\"\"\n",
    "    Given a list of polynomial coefficients,\n",
    "    return the real root that is closest to zero\n",
    "\n",
    "    Args:\n",
    "        coeff:  List of polynomial coefficients\n",
    "\n",
    "    Returns:\n",
    "        root_closest_to_zero:   Root that is closest to zero\n",
    "\n",
    "    \"\"\"\n",
    "    # Calculate all (complex) roots\n",
    "    # Could use np.roots(coeff)\n",
    "    # However cube_solver.solve(coeff) is faster and more accurate\n",
    "\n",
    "    roots = original_solve(coeff)\n",
    "    # Note, this doesn't work if there are no real roots, e.g. quadratic\n",
    "    # print(np.array(coeff))\n",
    "    # print(roots)\n",
    "\n",
    "    # Extract real roots\n",
    "    # Note cannot use root.imag == 0 since numpy sometimes has a tiny imaginary component for real roots\n",
    "    # See: https://stackoverflow.com/questions/28081247/print-real-roots-only-in-numpy\n",
    "    real_roots = (root.real for root in roots if abs(root.imag) < 1e-10)\n",
    "\n",
    "    # Extract the real root that is closest to zero\n",
    "    root = reduce((lambda x, y: x if (abs(x) < abs(y)) else y), real_roots)\n",
    "\n",
    "    # Change from double to float\n",
    "    # Otherwise the tensor operations are not consistent\n",
    "    root = root.astype('float32')\n",
    "\n",
    "    return root\n",
    "\n",
    "# Main Function takes in the coefficient of the Cubic Polynomial\n",
    "# as parameters and it returns the roots in form of numpy array.\n",
    "# Polynomial Structure -> ax^3 + bx^2 + cx + d = 0\n",
    "\n",
    "def original_solve(coeff):\n",
    "    a, b, c, d = coeff\n",
    "    if (a == 0 and b == 0):  # Case for handling Liner Equation\n",
    "        return np.array([(-d * 1.0) / c])  # Returning linear root as numpy array.\n",
    "\n",
    "    elif (a == 0):  # Case for handling Quadratic Equations\n",
    "\n",
    "        D = c * c - 4.0 * b * d  # Helper Temporary Variable\n",
    "        if D >= 0:\n",
    "            D = math.sqrt(D)\n",
    "            x1 = (-c + D) / (2.0 * b)\n",
    "            x2 = (-c - D) / (2.0 * b)\n",
    "        else:\n",
    "            D = math.sqrt(-D)\n",
    "            x1 = (-c + D * 1j) / (2.0 * b)\n",
    "            x2 = (-c - D * 1j) / (2.0 * b)\n",
    "\n",
    "        return np.array([x1, x2])  # Returning Quadratic Roots as numpy array.\n",
    "\n",
    "    f = findF(a, b, c)  # Helper Temporary Variable\n",
    "    g = findG(a, b, c, d)  # Helper Temporary Variable\n",
    "    h = findH(g, f)  # Helper Temporary Variable\n",
    "\n",
    "    if f == 0 and g == 0 and h == 0:  # All 3 Roots are Real and Equal\n",
    "        if (d / a) >= 0:\n",
    "            x = (d / (1.0 * a)) ** (1 / 3.0) * -1\n",
    "        else:\n",
    "            x = (-d / (1.0 * a)) ** (1 / 3.0)\n",
    "        return np.array([x, x, x])  # Returning Equal Roots as numpy array.\n",
    "\n",
    "    elif h <= 0:  # All 3 roots are Real\n",
    "\n",
    "        i = math.sqrt(((g ** 2.0) / 4.0) - h)  # Helper Temporary Variable\n",
    "        j = i ** (1 / 3.0)  # Helper Temporary Variable\n",
    "        k = math.acos(-(g / (2 * i)))  # Helper Temporary Variable\n",
    "        L = j * -1  # Helper Temporary Variable\n",
    "        M = math.cos(k / 3.0)  # Helper Temporary Variable\n",
    "        N = math.sqrt(3) * math.sin(k / 3.0)  # Helper Temporary Variable\n",
    "        P = (b / (3.0 * a)) * -1  # Helper Temporary Variable\n",
    "\n",
    "        x1 = 2 * j * math.cos(k / 3.0) - (b / (3.0 * a))\n",
    "        x2 = L * (M + N) + P\n",
    "        x3 = L * (M - N) + P\n",
    "\n",
    "        return np.array([x1, x2, x3])  # Returning Real Roots as numpy array.\n",
    "\n",
    "    elif h > 0:  # One Real Root and two Complex Roots\n",
    "        R = -(g / 2.0) + math.sqrt(h)  # Helper Temporary Variable\n",
    "        if R >= 0:\n",
    "            S = R ** (1 / 3.0)  # Helper Temporary Variable\n",
    "        else:\n",
    "            S = (-R) ** (1 / 3.0) * -1  # Helper Temporary Variable\n",
    "        T = -(g / 2.0) - math.sqrt(h)\n",
    "        if T >= 0:\n",
    "            U = (T ** (1 / 3.0))  # Helper Temporary Variable\n",
    "        else:\n",
    "            U = ((-T) ** (1 / 3.0)) * -1  # Helper Temporary Variable\n",
    "\n",
    "        x1 = (S + U) - (b / (3.0 * a))\n",
    "        x2 = -(S + U) / 2 - (b / (3.0 * a)) + (S - U) * math.sqrt(3) * 0.5j\n",
    "        x3 = -(S + U) / 2 - (b / (3.0 * a)) - (S - U) * math.sqrt(3) * 0.5j\n",
    "\n",
    "        return np.array([x1, x2, x3])  # Returning One Real Root and two Complex Roots as numpy array."
   ]
  }
 ],
 "metadata": {
  "kernelspec": {
   "display_name": "Python 3",
   "language": "python",
   "name": "python3"
  },
  "language_info": {
   "codemirror_mode": {
    "name": "ipython",
    "version": 3
   },
   "file_extension": ".py",
   "mimetype": "text/x-python",
   "name": "python",
   "nbconvert_exporter": "python",
   "pygments_lexer": "ipython3",
   "version": "3.6.1"
  }
 },
 "nbformat": 4,
 "nbformat_minor": 2
}
